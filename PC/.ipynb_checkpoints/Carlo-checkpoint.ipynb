{
 "cells": [
  {
   "cell_type": "markdown",
   "id": "3657f376",
   "metadata": {},
   "source": [
    "Standardizzare le variabili,\n",
    "Togliere/sistemare outliers\n",
    "trasformare le variabili\n",
    "provare il modello mlp classifier"
   ]
  },
  {
   "cell_type": "code",
   "execution_count": 172,
   "id": "ce8d3dcf",
   "metadata": {},
   "outputs": [],
   "source": [
    "import pandas as pd\n",
    "import numpy as np\n",
    "import seaborn as sb\n",
    "import matplotlib.pyplot as plt\n",
    "import pylab \n",
    "import scipy.stats as stats\n",
    "import math\n",
    "import sklearn\n",
    "from sklearn.preprocessing import OrdinalEncoder\n",
    "from sklearn.model_selection import GridSearchCV\n",
    "from sklearn.ensemble import RandomForestClassifier\n",
    "from sklearn.ensemble import AdaBoostClassifier\n",
    "from sklearn.ensemble import GradientBoostingClassifier\n",
    "from sklearn.neural_network import MLPClassifier\n",
    "from scipy.stats import boxcox\n",
    "from sklearn.preprocessing import StandardScaler\n",
    "from imblearn.over_sampling import SMOTE\n",
    "from collections import Counter\n",
    "from matplotlib import pyplot\n",
    "from sklearn.preprocessing import LabelEncoder"
   ]
  },
  {
   "cell_type": "markdown",
   "id": "4aa55e87",
   "metadata": {},
   "source": [
    "## Cleaning data"
   ]
  },
  {
   "cell_type": "code",
   "execution_count": 173,
   "id": "566673d5",
   "metadata": {
    "scrolled": true
   },
   "outputs": [
    {
     "data": {
      "text/html": [
       "<div>\n",
       "<style scoped>\n",
       "    .dataframe tbody tr th:only-of-type {\n",
       "        vertical-align: middle;\n",
       "    }\n",
       "\n",
       "    .dataframe tbody tr th {\n",
       "        vertical-align: top;\n",
       "    }\n",
       "\n",
       "    .dataframe thead th {\n",
       "        text-align: right;\n",
       "    }\n",
       "</style>\n",
       "<table border=\"1\" class=\"dataframe\">\n",
       "  <thead>\n",
       "    <tr style=\"text-align: right;\">\n",
       "      <th></th>\n",
       "      <th>y</th>\n",
       "      <th>x1</th>\n",
       "      <th>x2</th>\n",
       "      <th>x3</th>\n",
       "      <th>x4</th>\n",
       "      <th>x5</th>\n",
       "      <th>x6</th>\n",
       "      <th>x7</th>\n",
       "      <th>x8</th>\n",
       "      <th>x9</th>\n",
       "      <th>x10</th>\n",
       "      <th>x11</th>\n",
       "      <th>x12</th>\n",
       "      <th>x13</th>\n",
       "    </tr>\n",
       "  </thead>\n",
       "  <tbody>\n",
       "    <tr>\n",
       "      <th>0</th>\n",
       "      <td>Shoogee</td>\n",
       "      <td>2.20274</td>\n",
       "      <td>-0.04690</td>\n",
       "      <td>-4.69816</td>\n",
       "      <td>-9.07800</td>\n",
       "      <td>10.13118</td>\n",
       "      <td>-0.08900</td>\n",
       "      <td>Erik Sven Williams</td>\n",
       "      <td>0.54191</td>\n",
       "      <td>0.52041</td>\n",
       "      <td>-5.66990</td>\n",
       "      <td>-0.93831</td>\n",
       "      <td>False</td>\n",
       "      <td>107.78776</td>\n",
       "    </tr>\n",
       "    <tr>\n",
       "      <th>1</th>\n",
       "      <td>Bob</td>\n",
       "      <td>2.01516</td>\n",
       "      <td>-0.12177</td>\n",
       "      <td>-4.24286</td>\n",
       "      <td>-9.79772</td>\n",
       "      <td>9.98259</td>\n",
       "      <td>-0.01485</td>\n",
       "      <td>Erik Sven Williams</td>\n",
       "      <td>-1.21671</td>\n",
       "      <td>1.18749</td>\n",
       "      <td>-9.25300</td>\n",
       "      <td>-1.21892</td>\n",
       "      <td>False</td>\n",
       "      <td>98.63633</td>\n",
       "    </tr>\n",
       "    <tr>\n",
       "      <th>2</th>\n",
       "      <td>Bob</td>\n",
       "      <td>0.02598</td>\n",
       "      <td>-0.24764</td>\n",
       "      <td>0.39977</td>\n",
       "      <td>-9.54167</td>\n",
       "      <td>10.53391</td>\n",
       "      <td>-0.27978</td>\n",
       "      <td>Erik Sven Williams</td>\n",
       "      <td>-2.39764</td>\n",
       "      <td>1.95167</td>\n",
       "      <td>-9.46447</td>\n",
       "      <td>-2.68910</td>\n",
       "      <td>True</td>\n",
       "      <td>1.49880</td>\n",
       "    </tr>\n",
       "    <tr>\n",
       "      <th>3</th>\n",
       "      <td>Jorg</td>\n",
       "      <td>0.39778</td>\n",
       "      <td>-0.83343</td>\n",
       "      <td>-2.14272</td>\n",
       "      <td>-9.06550</td>\n",
       "      <td>10.15047</td>\n",
       "      <td>-0.84583</td>\n",
       "      <td>Jerry från Solna</td>\n",
       "      <td>0.09768</td>\n",
       "      <td>0.92010</td>\n",
       "      <td>-11.17952</td>\n",
       "      <td>0.59877</td>\n",
       "      <td>False</td>\n",
       "      <td>18.81785</td>\n",
       "    </tr>\n",
       "    <tr>\n",
       "      <th>4</th>\n",
       "      <td>Jorg</td>\n",
       "      <td>1.25346</td>\n",
       "      <td>0.09320</td>\n",
       "      <td>1.54063</td>\n",
       "      <td>-9.33171</td>\n",
       "      <td>9.92016</td>\n",
       "      <td>0.09889</td>\n",
       "      <td>Jerry Fernström</td>\n",
       "      <td>-0.46134</td>\n",
       "      <td>0.16381</td>\n",
       "      <td>-12.07755</td>\n",
       "      <td>1.09106</td>\n",
       "      <td>True</td>\n",
       "      <td>63.44326</td>\n",
       "    </tr>\n",
       "  </tbody>\n",
       "</table>\n",
       "</div>"
      ],
      "text/plain": [
       "         y       x1       x2       x3       x4        x5        x6  \\\n",
       "0  Shoogee  2.20274 -0.04690 -4.69816 -9.07800  10.13118  -0.08900   \n",
       "1      Bob  2.01516 -0.12177 -4.24286 -9.79772   9.98259  -0.01485   \n",
       "2      Bob  0.02598 -0.24764  0.39977 -9.54167  10.53391  -0.27978   \n",
       "3     Jorg  0.39778 -0.83343 -2.14272 -9.06550  10.15047  -0.84583   \n",
       "4     Jorg  1.25346  0.09320  1.54063 -9.33171   9.92016   0.09889   \n",
       "\n",
       "                   x7       x8       x9       x10      x11    x12        x13  \n",
       "0  Erik Sven Williams  0.54191  0.52041  -5.66990 -0.93831  False  107.78776  \n",
       "1  Erik Sven Williams -1.21671  1.18749  -9.25300 -1.21892  False   98.63633  \n",
       "2  Erik Sven Williams -2.39764  1.95167  -9.46447 -2.68910   True    1.49880  \n",
       "3    Jerry från Solna  0.09768  0.92010 -11.17952  0.59877  False   18.81785  \n",
       "4     Jerry Fernström -0.46134  0.16381 -12.07755  1.09106   True   63.44326  "
      ]
     },
     "execution_count": 173,
     "metadata": {},
     "output_type": "execute_result"
    }
   ],
   "source": [
    "df = pd.read_csv (r'Data\\TrainOnMe-2.csv')\n",
    "df = df.drop(df.columns[0], axis=1)  \n",
    "df.head()"
   ]
  },
  {
   "cell_type": "markdown",
   "id": "f6c07def",
   "metadata": {},
   "source": [
    "##### Get rid of rows with Nan values and rows where X6 == some youtube link. Trnsform X6 into float column"
   ]
  },
  {
   "cell_type": "code",
   "execution_count": 174,
   "id": "9da08f8f",
   "metadata": {
    "scrolled": true
   },
   "outputs": [
    {
     "name": "stdout",
     "output_type": "stream",
     "text": [
      "<class 'pandas.core.frame.DataFrame'>\n",
      "Int64Index: 995 entries, 0 to 1003\n",
      "Data columns (total 14 columns):\n",
      " #   Column  Non-Null Count  Dtype  \n",
      "---  ------  --------------  -----  \n",
      " 0   y       995 non-null    object \n",
      " 1   x1      995 non-null    float64\n",
      " 2   x2      995 non-null    float64\n",
      " 3   x3      995 non-null    float64\n",
      " 4   x4      995 non-null    float64\n",
      " 5   x5      995 non-null    float64\n",
      " 6   x6      995 non-null    float64\n",
      " 7   x7      995 non-null    object \n",
      " 8   x8      995 non-null    float64\n",
      " 9   x9      995 non-null    float64\n",
      " 10  x10     995 non-null    float64\n",
      " 11  x11     995 non-null    float64\n",
      " 12  x12     995 non-null    object \n",
      " 13  x13     995 non-null    float64\n",
      "dtypes: float64(11), object(3)\n",
      "memory usage: 116.6+ KB\n"
     ]
    }
   ],
   "source": [
    "df = df.dropna()[~df.dropna()['x6'].str.contains('http')]\n",
    "df.dropna()\n",
    "df['x6'] = df['x6'].astype(float)\n",
    "df.info()"
   ]
  },
  {
   "cell_type": "markdown",
   "id": "fd03d5a7",
   "metadata": {},
   "source": [
    "## Get to know the data"
   ]
  },
  {
   "cell_type": "code",
   "execution_count": 175,
   "id": "9070d6c0",
   "metadata": {},
   "outputs": [
    {
     "data": {
      "text/plain": [
       "Jorg       342\n",
       "Shoogee    290\n",
       "Bob        268\n",
       "Atsuto      95\n",
       "Name: y, dtype: int64"
      ]
     },
     "execution_count": 175,
     "metadata": {},
     "output_type": "execute_result"
    }
   ],
   "source": [
    "df['y'].value_counts()"
   ]
  },
  {
   "cell_type": "markdown",
   "id": "89c1b398",
   "metadata": {},
   "source": [
    "the dataset is not very balance, maybe do oversampling for Atsuto"
   ]
  },
  {
   "cell_type": "markdown",
   "id": "8e2b4529",
   "metadata": {},
   "source": [
    "#### Transform x12 in dummy and x7 in ordinal variables, and Oversampling"
   ]
  },
  {
   "cell_type": "code",
   "execution_count": 176,
   "id": "b027e714",
   "metadata": {},
   "outputs": [],
   "source": [
    "df['x12'] = pd.get_dummies(df['x12'], drop_first=True)\n",
    "ord_enc = OrdinalEncoder()\n",
    "df[\"x7\"] = ord_enc.fit_transform(df[[\"x7\"]])"
   ]
  },
  {
   "cell_type": "code",
   "execution_count": 177,
   "id": "c8f6da7e",
   "metadata": {},
   "outputs": [
    {
     "ename": "KeyError",
     "evalue": "\"['x1', 'x2', 'x4', 'x5', 'x11'] not in index\"",
     "output_type": "error",
     "traceback": [
      "\u001b[1;31m---------------------------------------------------------------------------\u001b[0m",
      "\u001b[1;31mKeyError\u001b[0m                                  Traceback (most recent call last)",
      "\u001b[1;32m~\\AppData\\Local\\Temp/ipykernel_21140/1973203991.py\u001b[0m in \u001b[0;36m<module>\u001b[1;34m\u001b[0m\n\u001b[1;32m----> 1\u001b[1;33m \u001b[0mdf\u001b[0m\u001b[1;33m,\u001b[0m \u001b[0my_train\u001b[0m \u001b[1;33m=\u001b[0m \u001b[0mdf\u001b[0m\u001b[1;33m[\u001b[0m\u001b[1;33m[\u001b[0m\u001b[1;34m'x1'\u001b[0m\u001b[1;33m,\u001b[0m\u001b[1;34m'x2'\u001b[0m\u001b[1;33m,\u001b[0m\u001b[1;34m'x3'\u001b[0m\u001b[1;33m,\u001b[0m\u001b[1;34m'x4'\u001b[0m\u001b[1;33m,\u001b[0m\u001b[1;34m'x5'\u001b[0m\u001b[1;33m,\u001b[0m\u001b[1;34m'x6'\u001b[0m\u001b[1;33m,\u001b[0m\u001b[1;34m'x7'\u001b[0m\u001b[1;33m,\u001b[0m\u001b[1;34m'x8'\u001b[0m\u001b[1;33m,\u001b[0m\u001b[1;34m'x9'\u001b[0m\u001b[1;33m,\u001b[0m\u001b[1;34m'x10'\u001b[0m\u001b[1;33m,\u001b[0m\u001b[1;34m'x11'\u001b[0m\u001b[1;33m,\u001b[0m\u001b[1;34m'x12'\u001b[0m\u001b[1;33m,\u001b[0m\u001b[1;34m'x13'\u001b[0m\u001b[1;33m]\u001b[0m\u001b[1;33m]\u001b[0m\u001b[1;33m,\u001b[0m \u001b[0mdf\u001b[0m\u001b[1;33m[\u001b[0m\u001b[1;34m'y'\u001b[0m\u001b[1;33m]\u001b[0m\u001b[1;33m\u001b[0m\u001b[1;33m\u001b[0m\u001b[0m\n\u001b[0m\u001b[0;32m      2\u001b[0m \u001b[1;31m# transform the dataset\u001b[0m\u001b[1;33m\u001b[0m\u001b[1;33m\u001b[0m\u001b[1;33m\u001b[0m\u001b[0m\n\u001b[0;32m      3\u001b[0m \u001b[0mstrategy\u001b[0m \u001b[1;33m=\u001b[0m \u001b[1;33m{\u001b[0m\u001b[1;34m'Jorg'\u001b[0m \u001b[1;33m:\u001b[0m\u001b[1;36m342\u001b[0m\u001b[1;33m,\u001b[0m \u001b[1;34m'Shoogee'\u001b[0m\u001b[1;33m:\u001b[0m\u001b[1;36m290\u001b[0m\u001b[1;33m,\u001b[0m \u001b[1;34m'Bob'\u001b[0m\u001b[1;33m:\u001b[0m\u001b[1;36m268\u001b[0m\u001b[1;33m,\u001b[0m \u001b[1;34m'Atsuto'\u001b[0m\u001b[1;33m:\u001b[0m\u001b[1;36m250\u001b[0m\u001b[1;33m}\u001b[0m\u001b[1;33m\u001b[0m\u001b[1;33m\u001b[0m\u001b[0m\n\u001b[0;32m      4\u001b[0m \u001b[0moversample\u001b[0m \u001b[1;33m=\u001b[0m \u001b[0mSMOTE\u001b[0m\u001b[1;33m(\u001b[0m\u001b[0msampling_strategy\u001b[0m\u001b[1;33m=\u001b[0m\u001b[0mstrategy\u001b[0m\u001b[1;33m)\u001b[0m\u001b[1;33m\u001b[0m\u001b[1;33m\u001b[0m\u001b[0m\n\u001b[0;32m      5\u001b[0m \u001b[0mdf\u001b[0m\u001b[1;33m,\u001b[0m \u001b[0my_train\u001b[0m \u001b[1;33m=\u001b[0m \u001b[0moversample\u001b[0m\u001b[1;33m.\u001b[0m\u001b[0mfit_resample\u001b[0m\u001b[1;33m(\u001b[0m\u001b[0mdf\u001b[0m\u001b[1;33m,\u001b[0m \u001b[0my_train\u001b[0m\u001b[1;33m)\u001b[0m\u001b[1;33m\u001b[0m\u001b[1;33m\u001b[0m\u001b[0m\n",
      "\u001b[1;32m~\\anaconda3\\lib\\site-packages\\pandas\\core\\frame.py\u001b[0m in \u001b[0;36m__getitem__\u001b[1;34m(self, key)\u001b[0m\n\u001b[0;32m   3462\u001b[0m             \u001b[1;32mif\u001b[0m \u001b[0mis_iterator\u001b[0m\u001b[1;33m(\u001b[0m\u001b[0mkey\u001b[0m\u001b[1;33m)\u001b[0m\u001b[1;33m:\u001b[0m\u001b[1;33m\u001b[0m\u001b[1;33m\u001b[0m\u001b[0m\n\u001b[0;32m   3463\u001b[0m                 \u001b[0mkey\u001b[0m \u001b[1;33m=\u001b[0m \u001b[0mlist\u001b[0m\u001b[1;33m(\u001b[0m\u001b[0mkey\u001b[0m\u001b[1;33m)\u001b[0m\u001b[1;33m\u001b[0m\u001b[1;33m\u001b[0m\u001b[0m\n\u001b[1;32m-> 3464\u001b[1;33m             \u001b[0mindexer\u001b[0m \u001b[1;33m=\u001b[0m \u001b[0mself\u001b[0m\u001b[1;33m.\u001b[0m\u001b[0mloc\u001b[0m\u001b[1;33m.\u001b[0m\u001b[0m_get_listlike_indexer\u001b[0m\u001b[1;33m(\u001b[0m\u001b[0mkey\u001b[0m\u001b[1;33m,\u001b[0m \u001b[0maxis\u001b[0m\u001b[1;33m=\u001b[0m\u001b[1;36m1\u001b[0m\u001b[1;33m)\u001b[0m\u001b[1;33m[\u001b[0m\u001b[1;36m1\u001b[0m\u001b[1;33m]\u001b[0m\u001b[1;33m\u001b[0m\u001b[1;33m\u001b[0m\u001b[0m\n\u001b[0m\u001b[0;32m   3465\u001b[0m \u001b[1;33m\u001b[0m\u001b[0m\n\u001b[0;32m   3466\u001b[0m         \u001b[1;31m# take() does not accept boolean indexers\u001b[0m\u001b[1;33m\u001b[0m\u001b[1;33m\u001b[0m\u001b[1;33m\u001b[0m\u001b[0m\n",
      "\u001b[1;32m~\\anaconda3\\lib\\site-packages\\pandas\\core\\indexing.py\u001b[0m in \u001b[0;36m_get_listlike_indexer\u001b[1;34m(self, key, axis)\u001b[0m\n\u001b[0;32m   1312\u001b[0m             \u001b[0mkeyarr\u001b[0m\u001b[1;33m,\u001b[0m \u001b[0mindexer\u001b[0m\u001b[1;33m,\u001b[0m \u001b[0mnew_indexer\u001b[0m \u001b[1;33m=\u001b[0m \u001b[0max\u001b[0m\u001b[1;33m.\u001b[0m\u001b[0m_reindex_non_unique\u001b[0m\u001b[1;33m(\u001b[0m\u001b[0mkeyarr\u001b[0m\u001b[1;33m)\u001b[0m\u001b[1;33m\u001b[0m\u001b[1;33m\u001b[0m\u001b[0m\n\u001b[0;32m   1313\u001b[0m \u001b[1;33m\u001b[0m\u001b[0m\n\u001b[1;32m-> 1314\u001b[1;33m         \u001b[0mself\u001b[0m\u001b[1;33m.\u001b[0m\u001b[0m_validate_read_indexer\u001b[0m\u001b[1;33m(\u001b[0m\u001b[0mkeyarr\u001b[0m\u001b[1;33m,\u001b[0m \u001b[0mindexer\u001b[0m\u001b[1;33m,\u001b[0m \u001b[0maxis\u001b[0m\u001b[1;33m)\u001b[0m\u001b[1;33m\u001b[0m\u001b[1;33m\u001b[0m\u001b[0m\n\u001b[0m\u001b[0;32m   1315\u001b[0m \u001b[1;33m\u001b[0m\u001b[0m\n\u001b[0;32m   1316\u001b[0m         if needs_i8_conversion(ax.dtype) or isinstance(\n",
      "\u001b[1;32m~\\anaconda3\\lib\\site-packages\\pandas\\core\\indexing.py\u001b[0m in \u001b[0;36m_validate_read_indexer\u001b[1;34m(self, key, indexer, axis)\u001b[0m\n\u001b[0;32m   1375\u001b[0m \u001b[1;33m\u001b[0m\u001b[0m\n\u001b[0;32m   1376\u001b[0m             \u001b[0mnot_found\u001b[0m \u001b[1;33m=\u001b[0m \u001b[0mlist\u001b[0m\u001b[1;33m(\u001b[0m\u001b[0mensure_index\u001b[0m\u001b[1;33m(\u001b[0m\u001b[0mkey\u001b[0m\u001b[1;33m)\u001b[0m\u001b[1;33m[\u001b[0m\u001b[0mmissing_mask\u001b[0m\u001b[1;33m.\u001b[0m\u001b[0mnonzero\u001b[0m\u001b[1;33m(\u001b[0m\u001b[1;33m)\u001b[0m\u001b[1;33m[\u001b[0m\u001b[1;36m0\u001b[0m\u001b[1;33m]\u001b[0m\u001b[1;33m]\u001b[0m\u001b[1;33m.\u001b[0m\u001b[0munique\u001b[0m\u001b[1;33m(\u001b[0m\u001b[1;33m)\u001b[0m\u001b[1;33m)\u001b[0m\u001b[1;33m\u001b[0m\u001b[1;33m\u001b[0m\u001b[0m\n\u001b[1;32m-> 1377\u001b[1;33m             \u001b[1;32mraise\u001b[0m \u001b[0mKeyError\u001b[0m\u001b[1;33m(\u001b[0m\u001b[1;34mf\"{not_found} not in index\"\u001b[0m\u001b[1;33m)\u001b[0m\u001b[1;33m\u001b[0m\u001b[1;33m\u001b[0m\u001b[0m\n\u001b[0m\u001b[0;32m   1378\u001b[0m \u001b[1;33m\u001b[0m\u001b[0m\n\u001b[0;32m   1379\u001b[0m \u001b[1;33m\u001b[0m\u001b[0m\n",
      "\u001b[1;31mKeyError\u001b[0m: \"['x1', 'x2', 'x4', 'x5', 'x11'] not in index\""
     ]
    }
   ],
   "source": [
    "df, y_train = df[['x1','x2','x3','x4','x5','x6','x7','x8','x9','x10','x11','x12','x13']], df['y']\n",
    "# transform the dataset\n",
    "strategy = {'Jorg' :342, 'Shoogee':290, 'Bob':268, 'Atsuto':250}\n",
    "oversample = SMOTE(sampling_strategy=strategy)\n",
    "df, y_train = oversample.fit_resample(df, y_train)\n",
    "X_train['x7'] = np.round(X_train['x7'])"
   ]
  },
  {
   "cell_type": "code",
   "execution_count": 178,
   "id": "eef9dcbb",
   "metadata": {},
   "outputs": [
    {
     "data": {
      "text/plain": [
       "0    752\n",
       "1    398\n",
       "Name: x12, dtype: int64"
      ]
     },
     "execution_count": 178,
     "metadata": {},
     "output_type": "execute_result"
    }
   ],
   "source": [
    "X_train['x12'].value_counts()"
   ]
  },
  {
   "cell_type": "markdown",
   "id": "87acafea",
   "metadata": {},
   "source": [
    "## Collinearity "
   ]
  },
  {
   "cell_type": "code",
   "execution_count": 179,
   "id": "e272f76a",
   "metadata": {
    "scrolled": true
   },
   "outputs": [
    {
     "name": "stdout",
     "output_type": "stream",
     "text": [
      "x13    0.999461\n",
      "x2     0.293704\n",
      "x6     0.291136\n",
      "x3     0.285460\n",
      "x10    0.039944\n",
      "x5     0.035477\n",
      "x11    0.032030\n",
      "x8     0.030221\n",
      "x4     0.028837\n",
      "x9     0.009423\n",
      "Name: x1, dtype: float64\n"
     ]
    },
    {
     "data": {
      "text/plain": [
       "<AxesSubplot:>"
      ]
     },
     "execution_count": 179,
     "metadata": {},
     "output_type": "execute_result"
    },
    {
     "data": {
      "image/png": "[encoded data removed]",
      "text/plain": [
       "<Figure size 2160x720 with 2 Axes>"
      ]
     },
     "metadata": {
      "needs_background": "light"
     },
     "output_type": "display_data"
    }
   ],
   "source": [
    "corr = df[['x1','x2','x3','x4','x5','x6','x8','x9','x10','x11','x13']].corr()\n",
    "C=abs(corr[\"x1\"]).sort_values(ascending=False)[1:]\n",
    "print(C)\n",
    "plt.figure(figsize=(30,10))\n",
    "sb.heatmap(corr, cmap='coolwarm', annot = True)"
   ]
  },
  {
   "cell_type": "markdown",
   "id": "f01116e3",
   "metadata": {},
   "source": [
    "X1 and X13, x2 and X6 are perfectly correlated. Get rid of x1 and x2"
   ]
  },
  {
   "cell_type": "code",
   "execution_count": 180,
   "id": "e02bd1cc",
   "metadata": {},
   "outputs": [
    {
     "name": "stdout",
     "output_type": "stream",
     "text": [
      "<class 'pandas.core.frame.DataFrame'>\n",
      "RangeIndex: 1150 entries, 0 to 1149\n",
      "Data columns (total 11 columns):\n",
      " #   Column  Non-Null Count  Dtype  \n",
      "---  ------  --------------  -----  \n",
      " 0   x3      1150 non-null   float64\n",
      " 1   x4      1150 non-null   float64\n",
      " 2   x5      1150 non-null   float64\n",
      " 3   x6      1150 non-null   float64\n",
      " 4   x7      1150 non-null   float64\n",
      " 5   x8      1150 non-null   float64\n",
      " 6   x9      1150 non-null   float64\n",
      " 7   x10     1150 non-null   float64\n",
      " 8   x11     1150 non-null   float64\n",
      " 9   x12     1150 non-null   uint8  \n",
      " 10  x13     1150 non-null   float64\n",
      "dtypes: float64(10), uint8(1)\n",
      "memory usage: 91.1 KB\n"
     ]
    }
   ],
   "source": [
    "df = df[['x3','x4','x5','x6','x7','x8','x9','x10','x11','x12','x13']]#'y'\n",
    "df.info()"
   ]
  },
  {
   "cell_type": "code",
   "execution_count": 181,
   "id": "0620c826",
   "metadata": {},
   "outputs": [
    {
     "data": {
      "text/html": [
       "<div>\n",
       "<style scoped>\n",
       "    .dataframe tbody tr th:only-of-type {\n",
       "        vertical-align: middle;\n",
       "    }\n",
       "\n",
       "    .dataframe tbody tr th {\n",
       "        vertical-align: top;\n",
       "    }\n",
       "\n",
       "    .dataframe thead th {\n",
       "        text-align: right;\n",
       "    }\n",
       "</style>\n",
       "<table border=\"1\" class=\"dataframe\">\n",
       "  <thead>\n",
       "    <tr style=\"text-align: right;\">\n",
       "      <th></th>\n",
       "      <th>x3</th>\n",
       "      <th>x4</th>\n",
       "      <th>x5</th>\n",
       "      <th>x6</th>\n",
       "      <th>x7</th>\n",
       "      <th>x8</th>\n",
       "      <th>x9</th>\n",
       "      <th>x10</th>\n",
       "      <th>x11</th>\n",
       "      <th>x12</th>\n",
       "      <th>x13</th>\n",
       "    </tr>\n",
       "  </thead>\n",
       "  <tbody>\n",
       "    <tr>\n",
       "      <th>count</th>\n",
       "      <td>1150.000000</td>\n",
       "      <td>1.150000e+03</td>\n",
       "      <td>1150.000000</td>\n",
       "      <td>1150.000000</td>\n",
       "      <td>1150.000000</td>\n",
       "      <td>1150.000000</td>\n",
       "      <td>1150.000000</td>\n",
       "      <td>1150.000000</td>\n",
       "      <td>1.150000e+03</td>\n",
       "      <td>1150.000000</td>\n",
       "      <td>1150.000000</td>\n",
       "    </tr>\n",
       "    <tr>\n",
       "      <th>mean</th>\n",
       "      <td>-1.041033</td>\n",
       "      <td>-7.827007e+04</td>\n",
       "      <td>10.304314</td>\n",
       "      <td>0.019150</td>\n",
       "      <td>1.687856</td>\n",
       "      <td>-0.021751</td>\n",
       "      <td>0.012917</td>\n",
       "      <td>-8.734106</td>\n",
       "      <td>8.695652e+17</td>\n",
       "      <td>0.340870</td>\n",
       "      <td>48.540819</td>\n",
       "    </tr>\n",
       "    <tr>\n",
       "      <th>std</th>\n",
       "      <td>3.179703</td>\n",
       "      <td>2.653955e+06</td>\n",
       "      <td>0.257131</td>\n",
       "      <td>0.692113</td>\n",
       "      <td>1.135810</td>\n",
       "      <td>1.218588</td>\n",
       "      <td>1.337313</td>\n",
       "      <td>1.570182</td>\n",
       "      <td>2.948839e+19</td>\n",
       "      <td>0.474208</td>\n",
       "      <td>46.428445</td>\n",
       "    </tr>\n",
       "    <tr>\n",
       "      <th>min</th>\n",
       "      <td>-11.985670</td>\n",
       "      <td>-9.000000e+07</td>\n",
       "      <td>9.781430</td>\n",
       "      <td>-2.115920</td>\n",
       "      <td>0.000000</td>\n",
       "      <td>-5.271550</td>\n",
       "      <td>-5.259760</td>\n",
       "      <td>-14.571440</td>\n",
       "      <td>-6.000520e+00</td>\n",
       "      <td>0.000000</td>\n",
       "      <td>-87.163650</td>\n",
       "    </tr>\n",
       "    <tr>\n",
       "      <th>25%</th>\n",
       "      <td>-3.153785</td>\n",
       "      <td>-9.478535e+00</td>\n",
       "      <td>10.111873</td>\n",
       "      <td>-0.450745</td>\n",
       "      <td>1.000000</td>\n",
       "      <td>-0.712237</td>\n",
       "      <td>-0.769935</td>\n",
       "      <td>-9.794147</td>\n",
       "      <td>-2.009891e+00</td>\n",
       "      <td>0.000000</td>\n",
       "      <td>17.622233</td>\n",
       "    </tr>\n",
       "    <tr>\n",
       "      <th>50%</th>\n",
       "      <td>-1.184957</td>\n",
       "      <td>-9.219175e+00</td>\n",
       "      <td>10.280697</td>\n",
       "      <td>0.011870</td>\n",
       "      <td>2.000000</td>\n",
       "      <td>-0.002750</td>\n",
       "      <td>0.039090</td>\n",
       "      <td>-8.721121</td>\n",
       "      <td>-1.129835e+00</td>\n",
       "      <td>0.000000</td>\n",
       "      <td>47.258230</td>\n",
       "    </tr>\n",
       "    <tr>\n",
       "      <th>75%</th>\n",
       "      <td>1.112065</td>\n",
       "      <td>-8.947612e+00</td>\n",
       "      <td>10.484777</td>\n",
       "      <td>0.482832</td>\n",
       "      <td>2.000000</td>\n",
       "      <td>0.707325</td>\n",
       "      <td>0.859037</td>\n",
       "      <td>-7.719688</td>\n",
       "      <td>-3.418500e-02</td>\n",
       "      <td>1.000000</td>\n",
       "      <td>77.062965</td>\n",
       "    </tr>\n",
       "    <tr>\n",
       "      <th>max</th>\n",
       "      <td>8.743360</td>\n",
       "      <td>-8.292200e+00</td>\n",
       "      <td>10.992940</td>\n",
       "      <td>1.949280</td>\n",
       "      <td>4.000000</td>\n",
       "      <td>4.038190</td>\n",
       "      <td>4.813840</td>\n",
       "      <td>-3.201190</td>\n",
       "      <td>1.000000e+21</td>\n",
       "      <td>1.000000</td>\n",
       "      <td>197.648100</td>\n",
       "    </tr>\n",
       "  </tbody>\n",
       "</table>\n",
       "</div>"
      ],
      "text/plain": [
       "                x3            x4           x5           x6           x7  \\\n",
       "count  1150.000000  1.150000e+03  1150.000000  1150.000000  1150.000000   \n",
       "mean     -1.041033 -7.827007e+04    10.304314     0.019150     1.687856   \n",
       "std       3.179703  2.653955e+06     0.257131     0.692113     1.135810   \n",
       "min     -11.985670 -9.000000e+07     9.781430    -2.115920     0.000000   \n",
       "25%      -3.153785 -9.478535e+00    10.111873    -0.450745     1.000000   \n",
       "50%      -1.184957 -9.219175e+00    10.280697     0.011870     2.000000   \n",
       "75%       1.112065 -8.947612e+00    10.484777     0.482832     2.000000   \n",
       "max       8.743360 -8.292200e+00    10.992940     1.949280     4.000000   \n",
       "\n",
       "                x8           x9          x10           x11          x12  \\\n",
       "count  1150.000000  1150.000000  1150.000000  1.150000e+03  1150.000000   \n",
       "mean     -0.021751     0.012917    -8.734106  8.695652e+17     0.340870   \n",
       "std       1.218588     1.337313     1.570182  2.948839e+19     0.474208   \n",
       "min      -5.271550    -5.259760   -14.571440 -6.000520e+00     0.000000   \n",
       "25%      -0.712237    -0.769935    -9.794147 -2.009891e+00     0.000000   \n",
       "50%      -0.002750     0.039090    -8.721121 -1.129835e+00     0.000000   \n",
       "75%       0.707325     0.859037    -7.719688 -3.418500e-02     1.000000   \n",
       "max       4.038190     4.813840    -3.201190  1.000000e+21     1.000000   \n",
       "\n",
       "               x13  \n",
       "count  1150.000000  \n",
       "mean     48.540819  \n",
       "std      46.428445  \n",
       "min     -87.163650  \n",
       "25%      17.622233  \n",
       "50%      47.258230  \n",
       "75%      77.062965  \n",
       "max     197.648100  "
      ]
     },
     "execution_count": 181,
     "metadata": {},
     "output_type": "execute_result"
    }
   ],
   "source": [
    "df.describe()"
   ]
  },
  {
   "cell_type": "markdown",
   "id": "5f2323ea",
   "metadata": {},
   "source": [
    "X13 has a very high sd--> sd=47, x11 seems to have some problem as well\n",
    "Also some variables need to be transformed since their mean is not equal to thei mode"
   ]
  },
  {
   "cell_type": "markdown",
   "id": "7973078d",
   "metadata": {},
   "source": [
    "## Variable transformation"
   ]
  },
  {
   "cell_type": "markdown",
   "id": "45f44153",
   "metadata": {},
   "source": [
    "#### First, get rid of two extreme values for x11 and x4. Replace with x11 and x4 means."
   ]
  },
  {
   "cell_type": "code",
   "execution_count": 182,
   "id": "502d87ca",
   "metadata": {},
   "outputs": [],
   "source": [
    "df_nout11 = df[df['x11'] < 500000]\n",
    "df_nout4 = df[df['x4'] > -90000]\n",
    "mean_x11 = np.mean(df_nout11['x11'])\n",
    "mean_x4 = np.mean(df_nout4['x4'])\n",
    "\n",
    "df.loc[df['x4'].idxmin(),'x4'] = mean_x4\n",
    "df.loc[df['x11'].idxmax(),'x11'] = mean_x11\n"
   ]
  },
  {
   "cell_type": "markdown",
   "id": "4f18697f",
   "metadata": {},
   "source": [
    "### Transform x11 with box-cox"
   ]
  },
  {
   "cell_type": "code",
   "execution_count": 183,
   "id": "29e680ee",
   "metadata": {},
   "outputs": [
    {
     "data": {
      "image/png": "[encoded data removed]",
      "text/plain": [
       "<Figure size 432x288 with 1 Axes>"
      ]
     },
     "metadata": {
      "needs_background": "light"
     },
     "output_type": "display_data"
    }
   ],
   "source": [
    "stats.probplot(df['x11'], dist=\"norm\", plot=plt)\n",
    "plt.show()"
   ]
  },
  {
   "cell_type": "code",
   "execution_count": 184,
   "id": "6b7b827e",
   "metadata": {
    "scrolled": true
   },
   "outputs": [
    {
     "data": {
      "image/png": "[encoded data removed]",
      "text/plain": [
       "<Figure size 432x288 with 1 Axes>"
      ]
     },
     "metadata": {
      "needs_background": "light"
     },
     "output_type": "display_data"
    }
   ],
   "source": [
    "trans_x11, fitted_lambda = boxcox(np.exp(df['x11'].values))\n",
    "stats.probplot(trans_x11, dist=\"norm\", plot=plt)\n",
    "plt.show()"
   ]
  },
  {
   "cell_type": "markdown",
   "id": "ad1df71b",
   "metadata": {},
   "source": [
    "### Transform x5"
   ]
  },
  {
   "cell_type": "code",
   "execution_count": 185,
   "id": "8d4e9961",
   "metadata": {},
   "outputs": [
    {
     "data": {
      "image/png": "[encoded data removed]",
      "text/plain": [
       "<Figure size 432x288 with 1 Axes>"
      ]
     },
     "metadata": {
      "needs_background": "light"
     },
     "output_type": "display_data"
    }
   ],
   "source": [
    "stats.probplot(df['x5'], dist=\"norm\", plot=plt)\n",
    "plt.show()"
   ]
  },
  {
   "cell_type": "code",
   "execution_count": 186,
   "id": "8d7c8669",
   "metadata": {
    "scrolled": true
   },
   "outputs": [
    {
     "data": {
      "image/png": "[encoded data removed]",
      "text/plain": [
       "<Figure size 432x288 with 1 Axes>"
      ]
     },
     "metadata": {
      "needs_background": "light"
     },
     "output_type": "display_data"
    }
   ],
   "source": [
    "trans_x5, fitted_lambda = boxcox(df['x5'].values)\n",
    "stats.probplot(trans_x5, dist=\"norm\", plot=plt)\n",
    "plt.show()"
   ]
  },
  {
   "cell_type": "markdown",
   "id": "fcef2024",
   "metadata": {},
   "source": [
    "### Transform x4"
   ]
  },
  {
   "cell_type": "code",
   "execution_count": 187,
   "id": "6d5e4a53",
   "metadata": {},
   "outputs": [
    {
     "data": {
      "image/png": "[encoded data removed]",
      "text/plain": [
       "<Figure size 432x288 with 1 Axes>"
      ]
     },
     "metadata": {
      "needs_background": "light"
     },
     "output_type": "display_data"
    }
   ],
   "source": [
    "stats.probplot(df['x4'], dist=\"norm\", plot=plt)\n",
    "plt.show()"
   ]
  },
  {
   "cell_type": "code",
   "execution_count": 188,
   "id": "7226c61f",
   "metadata": {},
   "outputs": [
    {
     "data": {
      "image/png": "[encoded data removed]",
      "text/plain": [
       "<Figure size 432x288 with 1 Axes>"
      ]
     },
     "metadata": {
      "needs_background": "light"
     },
     "output_type": "display_data"
    }
   ],
   "source": [
    "trans_x4, fitted_lambda = boxcox(np.exp(df['x4']).values)\n",
    "stats.probplot(trans_x4, dist=\"norm\", plot=plt)\n",
    "plt.show()"
   ]
  },
  {
   "cell_type": "markdown",
   "id": "ce502b98",
   "metadata": {},
   "source": [
    "DO NOT TRANSFORM X4"
   ]
  },
  {
   "cell_type": "code",
   "execution_count": 200,
   "id": "eb1a9f50",
   "metadata": {},
   "outputs": [
    {
     "name": "stdout",
     "output_type": "stream",
     "text": [
      "<class 'pandas.core.frame.DataFrame'>\n",
      "RangeIndex: 1150 entries, 0 to 1149\n",
      "Data columns (total 11 columns):\n",
      " #   Column     Non-Null Count  Dtype  \n",
      "---  ------     --------------  -----  \n",
      " 0   x3         1150 non-null   float64\n",
      " 1   trans_x4   1150 non-null   float64\n",
      " 2   trans_x5   1150 non-null   float64\n",
      " 3   x6         1150 non-null   float64\n",
      " 4   x7         1150 non-null   float64\n",
      " 5   x8         1150 non-null   float64\n",
      " 6   x9         1150 non-null   float64\n",
      " 7   x10        1150 non-null   float64\n",
      " 8   x12        1150 non-null   uint8  \n",
      " 9   trans_x11  1150 non-null   float64\n",
      " 10  x13        1150 non-null   float64\n",
      "dtypes: float64(10), uint8(1)\n",
      "memory usage: 91.1 KB\n"
     ]
    }
   ],
   "source": [
    "df = df[['x3','x6','x7','x8','x9','x10','x12','x13']]\n",
    "df.insert(loc=1, column='trans_x4',value=trans_x4)\n",
    "df.insert(loc=2, column='trans_x5',value=trans_x5)\n",
    "df.insert(loc=9, column='trans_x11',value=trans_x11)\n",
    "df.info()"
   ]
  },
  {
   "cell_type": "markdown",
   "id": "5fadd597",
   "metadata": {},
   "source": [
    "## Outliers"
   ]
  },
  {
   "cell_type": "code",
   "execution_count": 201,
   "id": "fce66f6c",
   "metadata": {},
   "outputs": [
    {
     "data": {
      "text/plain": [
       "<AxesSubplot:>"
      ]
     },
     "execution_count": 201,
     "metadata": {},
     "output_type": "execute_result"
    },
    {
     "data": {
      "image/png": "[encoded data removed]",
      "text/plain": [
       "<Figure size 2160x1440 with 1 Axes>"
      ]
     },
     "metadata": {
      "needs_background": "light"
     },
     "output_type": "display_data"
    }
   ],
   "source": [
    "cont_variables = ['x3','trans_x4','trans_x5','x6','x8','x9','x10','trans_x11', 'x13']\n",
    "plt.figure(figsize=(30,20))\n",
    "sb.boxplot(data=df[cont_variables])"
   ]
  },
  {
   "cell_type": "code",
   "execution_count": 202,
   "id": "7eddc06a",
   "metadata": {},
   "outputs": [
    {
     "name": "stdout",
     "output_type": "stream",
     "text": [
      "Outliers: [-7.083611796102947, -9.384432007208058, -7.505174860734341, -6.937101727059196, -9.043612952004517, -7.499671649922354, -6.917799000694341, -6.882681693201031]\n"
     ]
    }
   ],
   "source": [
    "out=[]\n",
    "def iqr_outliers(df):\n",
    "    q1 = df.quantile(0.25)\n",
    "    q3 = df.quantile(0.75)\n",
    "    iqr = q3-q1\n",
    "    Lower_tail = q1 - 2 * iqr\n",
    "    Upper_tail = q3 + 2 * iqr\n",
    "    for i in df:\n",
    "        if i > Upper_tail or i < Lower_tail:\n",
    "            out.append(i)\n",
    "    print(\"Outliers:\",out)\n",
    "iqr_outliers(df['trans_x11'])"
   ]
  },
  {
   "cell_type": "code",
   "execution_count": 203,
   "id": "dfb574ec",
   "metadata": {},
   "outputs": [],
   "source": [
    "def lower_tail(df):\n",
    "    q1 = df.quantile(0.25)\n",
    "    q3 = df.quantile(0.75)\n",
    "    iqr = q3-q1\n",
    "    Lower_tail = q1 - 2 * iqr\n",
    "    return Lower_tail\n",
    "def upper_tail(df):\n",
    "    q1 = df.quantile(0.25)\n",
    "    q3 = df.quantile(0.75)\n",
    "    iqr = q3-q1\n",
    "    Upper_tail = q3 + 2 * iqr\n",
    "    return Upper_tail"
   ]
  },
  {
   "cell_type": "code",
   "execution_count": 204,
   "id": "bb91e8dc",
   "metadata": {},
   "outputs": [],
   "source": [
    "for v in ['x3','trans_x4','trans_x5','x6','x8','x9','x10','trans_x11', 'x13']:\n",
    "    df.loc[df[v]> upper_tail(df[v]), v]=upper_tail(df[v]) \n",
    "for v in ['x3','trans_x4','trans_x5','x6','x8','x9','x10','trans_x11', 'x13']:\n",
    "    df.loc[df[v]< lower_tail(df[v]), v]=lower_tail(df[v]) "
   ]
  },
  {
   "cell_type": "code",
   "execution_count": 205,
   "id": "d9a0d8e2",
   "metadata": {},
   "outputs": [
    {
     "data": {
      "text/plain": [
       "<AxesSubplot:>"
      ]
     },
     "execution_count": 205,
     "metadata": {},
     "output_type": "execute_result"
    },
    {
     "data": {
      "image/png": "[encoded data removed]",
      "text/plain": [
       "<Figure size 2160x1440 with 1 Axes>"
      ]
     },
     "metadata": {
      "needs_background": "light"
     },
     "output_type": "display_data"
    }
   ],
   "source": [
    "cont_variables = ['x3','trans_x4','trans_x5','x6','x8','x9','x10','trans_x11', 'x13']\n",
    "plt.figure(figsize=(30,20))\n",
    "sb.boxplot(data=df[cont_variables])"
   ]
  },
  {
   "cell_type": "markdown",
   "id": "de3435bc",
   "metadata": {},
   "source": [
    "## Training some Machine Learning Moldea"
   ]
  },
  {
   "cell_type": "code",
   "execution_count": 206,
   "id": "f02997c7",
   "metadata": {},
   "outputs": [
    {
     "data": {
      "text/html": [
       "<div>\n",
       "<style scoped>\n",
       "    .dataframe tbody tr th:only-of-type {\n",
       "        vertical-align: middle;\n",
       "    }\n",
       "\n",
       "    .dataframe tbody tr th {\n",
       "        vertical-align: top;\n",
       "    }\n",
       "\n",
       "    .dataframe thead th {\n",
       "        text-align: right;\n",
       "    }\n",
       "</style>\n",
       "<table border=\"1\" class=\"dataframe\">\n",
       "  <thead>\n",
       "    <tr style=\"text-align: right;\">\n",
       "      <th></th>\n",
       "      <th>Unnamed: 0</th>\n",
       "      <th>x1</th>\n",
       "      <th>x2</th>\n",
       "      <th>x3</th>\n",
       "      <th>x4</th>\n",
       "      <th>x5</th>\n",
       "      <th>x6</th>\n",
       "      <th>x7</th>\n",
       "      <th>x8</th>\n",
       "      <th>x9</th>\n",
       "      <th>x10</th>\n",
       "      <th>x11</th>\n",
       "      <th>x12</th>\n",
       "      <th>x13</th>\n",
       "    </tr>\n",
       "  </thead>\n",
       "  <tbody>\n",
       "    <tr>\n",
       "      <th>0</th>\n",
       "      <td>1000</td>\n",
       "      <td>0.81313</td>\n",
       "      <td>0.38023</td>\n",
       "      <td>5.85070</td>\n",
       "      <td>-9.18530</td>\n",
       "      <td>9.93106</td>\n",
       "      <td>0.36759</td>\n",
       "      <td>Jerry Fernström</td>\n",
       "      <td>1.83292</td>\n",
       "      <td>1.89491</td>\n",
       "      <td>-6.29609</td>\n",
       "      <td>-0.62245</td>\n",
       "      <td>True</td>\n",
       "      <td>43.58182</td>\n",
       "    </tr>\n",
       "    <tr>\n",
       "      <th>1</th>\n",
       "      <td>1001</td>\n",
       "      <td>0.05435</td>\n",
       "      <td>0.89732</td>\n",
       "      <td>1.50829</td>\n",
       "      <td>-8.79618</td>\n",
       "      <td>9.84085</td>\n",
       "      <td>0.83846</td>\n",
       "      <td>Erik Sven Fernström</td>\n",
       "      <td>-1.75396</td>\n",
       "      <td>-0.71970</td>\n",
       "      <td>-8.54241</td>\n",
       "      <td>-2.00896</td>\n",
       "      <td>True</td>\n",
       "      <td>3.47168</td>\n",
       "    </tr>\n",
       "    <tr>\n",
       "      <th>2</th>\n",
       "      <td>1002</td>\n",
       "      <td>0.93130</td>\n",
       "      <td>1.13181</td>\n",
       "      <td>-6.25123</td>\n",
       "      <td>-9.24025</td>\n",
       "      <td>9.97088</td>\n",
       "      <td>1.10935</td>\n",
       "      <td>Erik Sven Fernström</td>\n",
       "      <td>-1.89190</td>\n",
       "      <td>-0.71282</td>\n",
       "      <td>-11.91278</td>\n",
       "      <td>-0.24137</td>\n",
       "      <td>False</td>\n",
       "      <td>43.43945</td>\n",
       "    </tr>\n",
       "    <tr>\n",
       "      <th>3</th>\n",
       "      <td>1003</td>\n",
       "      <td>0.81462</td>\n",
       "      <td>0.32761</td>\n",
       "      <td>-2.58948</td>\n",
       "      <td>-9.90454</td>\n",
       "      <td>10.21894</td>\n",
       "      <td>0.28165</td>\n",
       "      <td>Jerry Fernström</td>\n",
       "      <td>0.71816</td>\n",
       "      <td>0.55542</td>\n",
       "      <td>-9.96034</td>\n",
       "      <td>-1.35239</td>\n",
       "      <td>False</td>\n",
       "      <td>39.43638</td>\n",
       "    </tr>\n",
       "    <tr>\n",
       "      <th>4</th>\n",
       "      <td>1004</td>\n",
       "      <td>2.02671</td>\n",
       "      <td>0.71385</td>\n",
       "      <td>-4.34367</td>\n",
       "      <td>-9.14374</td>\n",
       "      <td>10.12963</td>\n",
       "      <td>0.72507</td>\n",
       "      <td>Jerry Fernström</td>\n",
       "      <td>0.43896</td>\n",
       "      <td>1.29437</td>\n",
       "      <td>-7.76422</td>\n",
       "      <td>-1.28642</td>\n",
       "      <td>False</td>\n",
       "      <td>99.16370</td>\n",
       "    </tr>\n",
       "  </tbody>\n",
       "</table>\n",
       "</div>"
      ],
      "text/plain": [
       "   Unnamed: 0       x1       x2       x3       x4        x5       x6  \\\n",
       "0        1000  0.81313  0.38023  5.85070 -9.18530   9.93106  0.36759   \n",
       "1        1001  0.05435  0.89732  1.50829 -8.79618   9.84085  0.83846   \n",
       "2        1002  0.93130  1.13181 -6.25123 -9.24025   9.97088  1.10935   \n",
       "3        1003  0.81462  0.32761 -2.58948 -9.90454  10.21894  0.28165   \n",
       "4        1004  2.02671  0.71385 -4.34367 -9.14374  10.12963  0.72507   \n",
       "\n",
       "                    x7       x8       x9       x10      x11    x12       x13  \n",
       "0      Jerry Fernström  1.83292  1.89491  -6.29609 -0.62245   True  43.58182  \n",
       "1  Erik Sven Fernström -1.75396 -0.71970  -8.54241 -2.00896   True   3.47168  \n",
       "2  Erik Sven Fernström -1.89190 -0.71282 -11.91278 -0.24137  False  43.43945  \n",
       "3      Jerry Fernström  0.71816  0.55542  -9.96034 -1.35239  False  39.43638  \n",
       "4      Jerry Fernström  0.43896  1.29437  -7.76422 -1.28642  False  99.16370  "
      ]
     },
     "execution_count": 206,
     "metadata": {},
     "output_type": "execute_result"
    }
   ],
   "source": [
    "test = pd.read_csv(r'Data\\EvaluateOnMe-2.csv')\n",
    "test.head()\n"
   ]
  },
  {
   "cell_type": "markdown",
   "id": "9d571864",
   "metadata": {},
   "source": [
    "## Scale variables "
   ]
  },
  {
   "cell_type": "code",
   "execution_count": 207,
   "id": "bc51fbd9",
   "metadata": {},
   "outputs": [],
   "source": [
    "scaler = StandardScaler()\n",
    "df[['x3','trans_x4','trans_x5','x6',\n",
    "        'x8','x9','x10','trans_x11',\n",
    "        'x13']] = scaler.fit_transform(df[['x3','trans_x4','trans_x5','x6',\n",
    "                                              'x8','x9','x10','trans_x11', 'x13']])"
   ]
  },
  {
   "cell_type": "code",
   "execution_count": 208,
   "id": "4f87cc7f",
   "metadata": {},
   "outputs": [],
   "source": [
    "df.to_pickle(\"a_file.pkl\")\n",
    "\n",
    "output = pd.read_pickle(\"a_file.pkl\")"
   ]
  },
  {
   "cell_type": "code",
   "execution_count": 209,
   "id": "957502c4",
   "metadata": {},
   "outputs": [
    {
     "data": {
      "text/plain": [
       "0       Shoogee\n",
       "1           Bob\n",
       "2           Bob\n",
       "3          Jorg\n",
       "4          Jorg\n",
       "         ...   \n",
       "1145     Atsuto\n",
       "1146     Atsuto\n",
       "1147     Atsuto\n",
       "1148     Atsuto\n",
       "1149     Atsuto\n",
       "Name: y, Length: 1150, dtype: object"
      ]
     },
     "execution_count": 209,
     "metadata": {},
     "output_type": "execute_result"
    }
   ],
   "source": [
    "X_train = df[['x3','trans_x4','trans_x5','x6','x8','x9','x10','trans_x11', 'x13','x7','x12']]\n",
    "y_train "
   ]
  },
  {
   "cell_type": "code",
   "execution_count": 210,
   "id": "9dddc77b",
   "metadata": {},
   "outputs": [
    {
     "name": "stdout",
     "output_type": "stream",
     "text": [
      "<class 'pandas.core.frame.DataFrame'>\n",
      "RangeIndex: 1150 entries, 0 to 1149\n",
      "Data columns (total 11 columns):\n",
      " #   Column     Non-Null Count  Dtype  \n",
      "---  ------     --------------  -----  \n",
      " 0   x3         1150 non-null   float64\n",
      " 1   trans_x4   1150 non-null   float64\n",
      " 2   trans_x5   1150 non-null   float64\n",
      " 3   x6         1150 non-null   float64\n",
      " 4   x8         1150 non-null   float64\n",
      " 5   x9         1150 non-null   float64\n",
      " 6   x10        1150 non-null   float64\n",
      " 7   trans_x11  1150 non-null   float64\n",
      " 8   x13        1150 non-null   float64\n",
      " 9   x7         1150 non-null   float64\n",
      " 10  x12        1150 non-null   uint8  \n",
      "dtypes: float64(10), uint8(1)\n",
      "memory usage: 91.1 KB\n"
     ]
    }
   ],
   "source": [
    "X_train.info()"
   ]
  },
  {
   "cell_type": "markdown",
   "id": "9175ae08",
   "metadata": {},
   "source": [
    "## Random Forest"
   ]
  },
  {
   "cell_type": "code",
   "execution_count": 211,
   "id": "d7f81341",
   "metadata": {},
   "outputs": [
    {
     "name": "stdout",
     "output_type": "stream",
     "text": [
      "Wall time: 1min 24s\n",
      "Best: 0.682627 using {'bootstrap': True, 'max_features': 3, 'n_estimators': 106}\n",
      "0.664375 (0.022344) with: {'bootstrap': True, 'max_features': 3, 'n_estimators': 80}\n",
      "0.680005 (0.012359) with: {'bootstrap': True, 'max_features': 3, 'n_estimators': 93}\n",
      "0.682627 (0.015306) with: {'bootstrap': True, 'max_features': 3, 'n_estimators': 106}\n",
      "0.676539 (0.016690) with: {'bootstrap': True, 'max_features': 3, 'n_estimators': 120}\n",
      "0.681750 (0.013034) with: {'bootstrap': True, 'max_features': 3, 'n_estimators': 133}\n",
      "0.671324 (0.016218) with: {'bootstrap': True, 'max_features': 3, 'n_estimators': 146}\n",
      "0.680023 (0.019398) with: {'bootstrap': True, 'max_features': 3, 'n_estimators': 160}\n",
      "0.677410 (0.017774) with: {'bootstrap': True, 'max_features': 3, 'n_estimators': 173}\n",
      "0.679144 (0.010875) with: {'bootstrap': True, 'max_features': 3, 'n_estimators': 186}\n",
      "0.672186 (0.010346) with: {'bootstrap': True, 'max_features': 3, 'n_estimators': 200}\n",
      "0.661764 (0.023081) with: {'bootstrap': True, 'max_features': 6, 'n_estimators': 80}\n",
      "0.663491 (0.018330) with: {'bootstrap': True, 'max_features': 6, 'n_estimators': 93}\n",
      "0.666975 (0.015871) with: {'bootstrap': True, 'max_features': 6, 'n_estimators': 106}\n",
      "0.662628 (0.023085) with: {'bootstrap': True, 'max_features': 6, 'n_estimators': 120}\n",
      "0.669588 (0.019386) with: {'bootstrap': True, 'max_features': 6, 'n_estimators': 133}\n",
      "0.664366 (0.018996) with: {'bootstrap': True, 'max_features': 6, 'n_estimators': 146}\n",
      "0.665243 (0.023170) with: {'bootstrap': True, 'max_features': 6, 'n_estimators': 160}\n",
      "0.670452 (0.014723) with: {'bootstrap': True, 'max_features': 6, 'n_estimators': 173}\n",
      "0.666109 (0.019936) with: {'bootstrap': True, 'max_features': 6, 'n_estimators': 186}\n",
      "0.666107 (0.021300) with: {'bootstrap': True, 'max_features': 6, 'n_estimators': 200}\n",
      "0.654806 (0.020270) with: {'bootstrap': True, 'max_features': 9, 'n_estimators': 80}\n",
      "0.660892 (0.022093) with: {'bootstrap': True, 'max_features': 9, 'n_estimators': 93}\n",
      "0.678280 (0.016151) with: {'bootstrap': True, 'max_features': 9, 'n_estimators': 106}\n",
      "0.660021 (0.018931) with: {'bootstrap': True, 'max_features': 9, 'n_estimators': 120}\n",
      "0.663505 (0.022118) with: {'bootstrap': True, 'max_features': 9, 'n_estimators': 133}\n",
      "0.666986 (0.026411) with: {'bootstrap': True, 'max_features': 9, 'n_estimators': 146}\n",
      "0.666973 (0.019861) with: {'bootstrap': True, 'max_features': 9, 'n_estimators': 160}\n",
      "0.666975 (0.015871) with: {'bootstrap': True, 'max_features': 9, 'n_estimators': 173}\n",
      "0.663494 (0.018654) with: {'bootstrap': True, 'max_features': 9, 'n_estimators': 186}\n",
      "0.666977 (0.017969) with: {'bootstrap': True, 'max_features': 9, 'n_estimators': 200}\n",
      "0.665246 (0.023033) with: {'bootstrap': False, 'max_features': 3, 'n_estimators': 80}\n",
      "0.666995 (0.031609) with: {'bootstrap': False, 'max_features': 3, 'n_estimators': 93}\n",
      "0.657422 (0.025867) with: {'bootstrap': False, 'max_features': 3, 'n_estimators': 106}\n",
      "0.656556 (0.029115) with: {'bootstrap': False, 'max_features': 3, 'n_estimators': 120}\n",
      "0.653084 (0.033840) with: {'bootstrap': False, 'max_features': 3, 'n_estimators': 133}\n",
      "0.661771 (0.027051) with: {'bootstrap': False, 'max_features': 3, 'n_estimators': 146}\n",
      "0.668718 (0.019124) with: {'bootstrap': False, 'max_features': 3, 'n_estimators': 160}\n",
      "0.661767 (0.025208) with: {'bootstrap': False, 'max_features': 3, 'n_estimators': 173}\n",
      "0.667852 (0.022375) with: {'bootstrap': False, 'max_features': 3, 'n_estimators': 186}\n",
      "0.663516 (0.031806) with: {'bootstrap': False, 'max_features': 3, 'n_estimators': 200}\n",
      "0.646112 (0.024123) with: {'bootstrap': False, 'max_features': 6, 'n_estimators': 80}\n",
      "0.638295 (0.030615) with: {'bootstrap': False, 'max_features': 6, 'n_estimators': 93}\n",
      "0.646126 (0.034008) with: {'bootstrap': False, 'max_features': 6, 'n_estimators': 106}\n",
      "0.640904 (0.030618) with: {'bootstrap': False, 'max_features': 6, 'n_estimators': 120}\n",
      "0.641772 (0.027925) with: {'bootstrap': False, 'max_features': 6, 'n_estimators': 133}\n",
      "0.651330 (0.025323) with: {'bootstrap': False, 'max_features': 6, 'n_estimators': 146}\n",
      "0.650457 (0.020920) with: {'bootstrap': False, 'max_features': 6, 'n_estimators': 160}\n",
      "0.657422 (0.029480) with: {'bootstrap': False, 'max_features': 6, 'n_estimators': 173}\n",
      "0.653936 (0.024542) with: {'bootstrap': False, 'max_features': 6, 'n_estimators': 186}\n",
      "0.653063 (0.017800) with: {'bootstrap': False, 'max_features': 6, 'n_estimators': 200}\n",
      "0.606975 (0.017701) with: {'bootstrap': False, 'max_features': 9, 'n_estimators': 80}\n",
      "0.593061 (0.022221) with: {'bootstrap': False, 'max_features': 9, 'n_estimators': 93}\n",
      "0.605232 (0.017404) with: {'bootstrap': False, 'max_features': 9, 'n_estimators': 106}\n",
      "0.594808 (0.021670) with: {'bootstrap': False, 'max_features': 9, 'n_estimators': 120}\n",
      "0.600019 (0.018796) with: {'bootstrap': False, 'max_features': 9, 'n_estimators': 133}\n",
      "0.600885 (0.014481) with: {'bootstrap': False, 'max_features': 9, 'n_estimators': 146}\n",
      "0.599149 (0.021832) with: {'bootstrap': False, 'max_features': 9, 'n_estimators': 160}\n",
      "0.598276 (0.018600) with: {'bootstrap': False, 'max_features': 9, 'n_estimators': 173}\n",
      "0.594808 (0.023091) with: {'bootstrap': False, 'max_features': 9, 'n_estimators': 186}\n",
      "0.598267 (0.010835) with: {'bootstrap': False, 'max_features': 9, 'n_estimators': 200}\n"
     ]
    }
   ],
   "source": [
    "n_estimators =[int(x) for x in np.linspace(start = 80, stop = 200, num =10)]\n",
    "max_features = [3,6,9]\n",
    "bootstrap = [True,False]\n",
    "\n",
    "param_grid = {'n_estimators':n_estimators,\n",
    "             'max_features':max_features,\n",
    "             'bootstrap':bootstrap}\n",
    "\n",
    "rf = RandomForestClassifier()\n",
    "\n",
    "grid_rf = GridSearchCV(estimator = rf, param_grid=param_grid, cv=3)\n",
    "\n",
    "%time grid_rf_result = grid_rf.fit(X_train,y_train)\n",
    "\n",
    "# summarize results\n",
    "print(\"Best: %f using %s\" % (grid_rf_result.best_score_, grid_rf_result.best_params_))\n",
    "means = grid_rf_result.cv_results_['mean_test_score']\n",
    "stds = grid_rf_result.cv_results_['std_test_score']\n",
    "params = grid_rf_result.cv_results_['params']\n",
    "for mean, stdev, param in zip(means, stds, params):\n",
    "    print(\"%f (%f) with: %r\" % (mean, stdev, param))"
   ]
  },
  {
   "cell_type": "markdown",
   "id": "8712569a",
   "metadata": {},
   "source": [
    "## Adaboost"
   ]
  },
  {
   "cell_type": "code",
   "execution_count": 87,
   "id": "08ae3163",
   "metadata": {},
   "outputs": [
    {
     "ename": "KeyboardInterrupt",
     "evalue": "",
     "output_type": "error",
     "traceback": [
      "\u001b[1;31m---------------------------------------------------------------------------\u001b[0m",
      "\u001b[1;31mKeyboardInterrupt\u001b[0m                         Traceback (most recent call last)",
      "\u001b[1;32m<timed exec>\u001b[0m in \u001b[0;36m<module>\u001b[1;34m\u001b[0m\n",
      "\u001b[1;32m~\\anaconda3\\lib\\site-packages\\sklearn\\utils\\validation.py\u001b[0m in \u001b[0;36minner_f\u001b[1;34m(*args, **kwargs)\u001b[0m\n\u001b[0;32m     61\u001b[0m             \u001b[0mextra_args\u001b[0m \u001b[1;33m=\u001b[0m \u001b[0mlen\u001b[0m\u001b[1;33m(\u001b[0m\u001b[0margs\u001b[0m\u001b[1;33m)\u001b[0m \u001b[1;33m-\u001b[0m \u001b[0mlen\u001b[0m\u001b[1;33m(\u001b[0m\u001b[0mall_args\u001b[0m\u001b[1;33m)\u001b[0m\u001b[1;33m\u001b[0m\u001b[1;33m\u001b[0m\u001b[0m\n\u001b[0;32m     62\u001b[0m             \u001b[1;32mif\u001b[0m \u001b[0mextra_args\u001b[0m \u001b[1;33m<=\u001b[0m \u001b[1;36m0\u001b[0m\u001b[1;33m:\u001b[0m\u001b[1;33m\u001b[0m\u001b[1;33m\u001b[0m\u001b[0m\n\u001b[1;32m---> 63\u001b[1;33m                 \u001b[1;32mreturn\u001b[0m \u001b[0mf\u001b[0m\u001b[1;33m(\u001b[0m\u001b[1;33m*\u001b[0m\u001b[0margs\u001b[0m\u001b[1;33m,\u001b[0m \u001b[1;33m**\u001b[0m\u001b[0mkwargs\u001b[0m\u001b[1;33m)\u001b[0m\u001b[1;33m\u001b[0m\u001b[1;33m\u001b[0m\u001b[0m\n\u001b[0m\u001b[0;32m     64\u001b[0m \u001b[1;33m\u001b[0m\u001b[0m\n\u001b[0;32m     65\u001b[0m             \u001b[1;31m# extra_args > 0\u001b[0m\u001b[1;33m\u001b[0m\u001b[1;33m\u001b[0m\u001b[1;33m\u001b[0m\u001b[0m\n",
      "\u001b[1;32m~\\anaconda3\\lib\\site-packages\\sklearn\\model_selection\\_search.py\u001b[0m in \u001b[0;36mfit\u001b[1;34m(self, X, y, groups, **fit_params)\u001b[0m\n\u001b[0;32m    839\u001b[0m                 \u001b[1;32mreturn\u001b[0m \u001b[0mresults\u001b[0m\u001b[1;33m\u001b[0m\u001b[1;33m\u001b[0m\u001b[0m\n\u001b[0;32m    840\u001b[0m \u001b[1;33m\u001b[0m\u001b[0m\n\u001b[1;32m--> 841\u001b[1;33m             \u001b[0mself\u001b[0m\u001b[1;33m.\u001b[0m\u001b[0m_run_search\u001b[0m\u001b[1;33m(\u001b[0m\u001b[0mevaluate_candidates\u001b[0m\u001b[1;33m)\u001b[0m\u001b[1;33m\u001b[0m\u001b[1;33m\u001b[0m\u001b[0m\n\u001b[0m\u001b[0;32m    842\u001b[0m \u001b[1;33m\u001b[0m\u001b[0m\n\u001b[0;32m    843\u001b[0m             \u001b[1;31m# multimetric is determined here because in the case of a callable\u001b[0m\u001b[1;33m\u001b[0m\u001b[1;33m\u001b[0m\u001b[1;33m\u001b[0m\u001b[0m\n",
      "\u001b[1;32m~\\anaconda3\\lib\\site-packages\\sklearn\\model_selection\\_search.py\u001b[0m in \u001b[0;36m_run_search\u001b[1;34m(self, evaluate_candidates)\u001b[0m\n\u001b[0;32m   1294\u001b[0m     \u001b[1;32mdef\u001b[0m \u001b[0m_run_search\u001b[0m\u001b[1;33m(\u001b[0m\u001b[0mself\u001b[0m\u001b[1;33m,\u001b[0m \u001b[0mevaluate_candidates\u001b[0m\u001b[1;33m)\u001b[0m\u001b[1;33m:\u001b[0m\u001b[1;33m\u001b[0m\u001b[1;33m\u001b[0m\u001b[0m\n\u001b[0;32m   1295\u001b[0m         \u001b[1;34m\"\"\"Search all candidates in param_grid\"\"\"\u001b[0m\u001b[1;33m\u001b[0m\u001b[1;33m\u001b[0m\u001b[0m\n\u001b[1;32m-> 1296\u001b[1;33m         \u001b[0mevaluate_candidates\u001b[0m\u001b[1;33m(\u001b[0m\u001b[0mParameterGrid\u001b[0m\u001b[1;33m(\u001b[0m\u001b[0mself\u001b[0m\u001b[1;33m.\u001b[0m\u001b[0mparam_grid\u001b[0m\u001b[1;33m)\u001b[0m\u001b[1;33m)\u001b[0m\u001b[1;33m\u001b[0m\u001b[1;33m\u001b[0m\u001b[0m\n\u001b[0m\u001b[0;32m   1297\u001b[0m \u001b[1;33m\u001b[0m\u001b[0m\n\u001b[0;32m   1298\u001b[0m \u001b[1;33m\u001b[0m\u001b[0m\n",
      "\u001b[1;32m~\\anaconda3\\lib\\site-packages\\sklearn\\model_selection\\_search.py\u001b[0m in \u001b[0;36mevaluate_candidates\u001b[1;34m(candidate_params, cv, more_results)\u001b[0m\n\u001b[0;32m    793\u001b[0m                               n_splits, n_candidates, n_candidates * n_splits))\n\u001b[0;32m    794\u001b[0m \u001b[1;33m\u001b[0m\u001b[0m\n\u001b[1;32m--> 795\u001b[1;33m                 out = parallel(delayed(_fit_and_score)(clone(base_estimator),\n\u001b[0m\u001b[0;32m    796\u001b[0m                                                        \u001b[0mX\u001b[0m\u001b[1;33m,\u001b[0m \u001b[0my\u001b[0m\u001b[1;33m,\u001b[0m\u001b[1;33m\u001b[0m\u001b[1;33m\u001b[0m\u001b[0m\n\u001b[0;32m    797\u001b[0m                                                        \u001b[0mtrain\u001b[0m\u001b[1;33m=\u001b[0m\u001b[0mtrain\u001b[0m\u001b[1;33m,\u001b[0m \u001b[0mtest\u001b[0m\u001b[1;33m=\u001b[0m\u001b[0mtest\u001b[0m\u001b[1;33m,\u001b[0m\u001b[1;33m\u001b[0m\u001b[1;33m\u001b[0m\u001b[0m\n",
      "\u001b[1;32m~\\anaconda3\\lib\\site-packages\\joblib\\parallel.py\u001b[0m in \u001b[0;36m__call__\u001b[1;34m(self, iterable)\u001b[0m\n\u001b[0;32m   1042\u001b[0m                 \u001b[0mself\u001b[0m\u001b[1;33m.\u001b[0m\u001b[0m_iterating\u001b[0m \u001b[1;33m=\u001b[0m \u001b[0mself\u001b[0m\u001b[1;33m.\u001b[0m\u001b[0m_original_iterator\u001b[0m \u001b[1;32mis\u001b[0m \u001b[1;32mnot\u001b[0m \u001b[1;32mNone\u001b[0m\u001b[1;33m\u001b[0m\u001b[1;33m\u001b[0m\u001b[0m\n\u001b[0;32m   1043\u001b[0m \u001b[1;33m\u001b[0m\u001b[0m\n\u001b[1;32m-> 1044\u001b[1;33m             \u001b[1;32mwhile\u001b[0m \u001b[0mself\u001b[0m\u001b[1;33m.\u001b[0m\u001b[0mdispatch_one_batch\u001b[0m\u001b[1;33m(\u001b[0m\u001b[0miterator\u001b[0m\u001b[1;33m)\u001b[0m\u001b[1;33m:\u001b[0m\u001b[1;33m\u001b[0m\u001b[1;33m\u001b[0m\u001b[0m\n\u001b[0m\u001b[0;32m   1045\u001b[0m                 \u001b[1;32mpass\u001b[0m\u001b[1;33m\u001b[0m\u001b[1;33m\u001b[0m\u001b[0m\n\u001b[0;32m   1046\u001b[0m \u001b[1;33m\u001b[0m\u001b[0m\n",
      "\u001b[1;32m~\\anaconda3\\lib\\site-packages\\joblib\\parallel.py\u001b[0m in \u001b[0;36mdispatch_one_batch\u001b[1;34m(self, iterator)\u001b[0m\n\u001b[0;32m    857\u001b[0m                 \u001b[1;32mreturn\u001b[0m \u001b[1;32mFalse\u001b[0m\u001b[1;33m\u001b[0m\u001b[1;33m\u001b[0m\u001b[0m\n\u001b[0;32m    858\u001b[0m             \u001b[1;32melse\u001b[0m\u001b[1;33m:\u001b[0m\u001b[1;33m\u001b[0m\u001b[1;33m\u001b[0m\u001b[0m\n\u001b[1;32m--> 859\u001b[1;33m                 \u001b[0mself\u001b[0m\u001b[1;33m.\u001b[0m\u001b[0m_dispatch\u001b[0m\u001b[1;33m(\u001b[0m\u001b[0mtasks\u001b[0m\u001b[1;33m)\u001b[0m\u001b[1;33m\u001b[0m\u001b[1;33m\u001b[0m\u001b[0m\n\u001b[0m\u001b[0;32m    860\u001b[0m                 \u001b[1;32mreturn\u001b[0m \u001b[1;32mTrue\u001b[0m\u001b[1;33m\u001b[0m\u001b[1;33m\u001b[0m\u001b[0m\n\u001b[0;32m    861\u001b[0m \u001b[1;33m\u001b[0m\u001b[0m\n",
      "\u001b[1;32m~\\anaconda3\\lib\\site-packages\\joblib\\parallel.py\u001b[0m in \u001b[0;36m_dispatch\u001b[1;34m(self, batch)\u001b[0m\n\u001b[0;32m    775\u001b[0m         \u001b[1;32mwith\u001b[0m \u001b[0mself\u001b[0m\u001b[1;33m.\u001b[0m\u001b[0m_lock\u001b[0m\u001b[1;33m:\u001b[0m\u001b[1;33m\u001b[0m\u001b[1;33m\u001b[0m\u001b[0m\n\u001b[0;32m    776\u001b[0m             \u001b[0mjob_idx\u001b[0m \u001b[1;33m=\u001b[0m \u001b[0mlen\u001b[0m\u001b[1;33m(\u001b[0m\u001b[0mself\u001b[0m\u001b[1;33m.\u001b[0m\u001b[0m_jobs\u001b[0m\u001b[1;33m)\u001b[0m\u001b[1;33m\u001b[0m\u001b[1;33m\u001b[0m\u001b[0m\n\u001b[1;32m--> 777\u001b[1;33m             \u001b[0mjob\u001b[0m \u001b[1;33m=\u001b[0m \u001b[0mself\u001b[0m\u001b[1;33m.\u001b[0m\u001b[0m_backend\u001b[0m\u001b[1;33m.\u001b[0m\u001b[0mapply_async\u001b[0m\u001b[1;33m(\u001b[0m\u001b[0mbatch\u001b[0m\u001b[1;33m,\u001b[0m \u001b[0mcallback\u001b[0m\u001b[1;33m=\u001b[0m\u001b[0mcb\u001b[0m\u001b[1;33m)\u001b[0m\u001b[1;33m\u001b[0m\u001b[1;33m\u001b[0m\u001b[0m\n\u001b[0m\u001b[0;32m    778\u001b[0m             \u001b[1;31m# A job can complete so quickly than its callback is\u001b[0m\u001b[1;33m\u001b[0m\u001b[1;33m\u001b[0m\u001b[1;33m\u001b[0m\u001b[0m\n\u001b[0;32m    779\u001b[0m             \u001b[1;31m# called before we get here, causing self._jobs to\u001b[0m\u001b[1;33m\u001b[0m\u001b[1;33m\u001b[0m\u001b[1;33m\u001b[0m\u001b[0m\n",
      "\u001b[1;32m~\\anaconda3\\lib\\site-packages\\joblib\\_parallel_backends.py\u001b[0m in \u001b[0;36mapply_async\u001b[1;34m(self, func, callback)\u001b[0m\n\u001b[0;32m    206\u001b[0m     \u001b[1;32mdef\u001b[0m \u001b[0mapply_async\u001b[0m\u001b[1;33m(\u001b[0m\u001b[0mself\u001b[0m\u001b[1;33m,\u001b[0m \u001b[0mfunc\u001b[0m\u001b[1;33m,\u001b[0m \u001b[0mcallback\u001b[0m\u001b[1;33m=\u001b[0m\u001b[1;32mNone\u001b[0m\u001b[1;33m)\u001b[0m\u001b[1;33m:\u001b[0m\u001b[1;33m\u001b[0m\u001b[1;33m\u001b[0m\u001b[0m\n\u001b[0;32m    207\u001b[0m         \u001b[1;34m\"\"\"Schedule a func to be run\"\"\"\u001b[0m\u001b[1;33m\u001b[0m\u001b[1;33m\u001b[0m\u001b[0m\n\u001b[1;32m--> 208\u001b[1;33m         \u001b[0mresult\u001b[0m \u001b[1;33m=\u001b[0m \u001b[0mImmediateResult\u001b[0m\u001b[1;33m(\u001b[0m\u001b[0mfunc\u001b[0m\u001b[1;33m)\u001b[0m\u001b[1;33m\u001b[0m\u001b[1;33m\u001b[0m\u001b[0m\n\u001b[0m\u001b[0;32m    209\u001b[0m         \u001b[1;32mif\u001b[0m \u001b[0mcallback\u001b[0m\u001b[1;33m:\u001b[0m\u001b[1;33m\u001b[0m\u001b[1;33m\u001b[0m\u001b[0m\n\u001b[0;32m    210\u001b[0m             \u001b[0mcallback\u001b[0m\u001b[1;33m(\u001b[0m\u001b[0mresult\u001b[0m\u001b[1;33m)\u001b[0m\u001b[1;33m\u001b[0m\u001b[1;33m\u001b[0m\u001b[0m\n",
      "\u001b[1;32m~\\anaconda3\\lib\\site-packages\\joblib\\_parallel_backends.py\u001b[0m in \u001b[0;36m__init__\u001b[1;34m(self, batch)\u001b[0m\n\u001b[0;32m    570\u001b[0m         \u001b[1;31m# Don't delay the application, to avoid keeping the input\u001b[0m\u001b[1;33m\u001b[0m\u001b[1;33m\u001b[0m\u001b[1;33m\u001b[0m\u001b[0m\n\u001b[0;32m    571\u001b[0m         \u001b[1;31m# arguments in memory\u001b[0m\u001b[1;33m\u001b[0m\u001b[1;33m\u001b[0m\u001b[1;33m\u001b[0m\u001b[0m\n\u001b[1;32m--> 572\u001b[1;33m         \u001b[0mself\u001b[0m\u001b[1;33m.\u001b[0m\u001b[0mresults\u001b[0m \u001b[1;33m=\u001b[0m \u001b[0mbatch\u001b[0m\u001b[1;33m(\u001b[0m\u001b[1;33m)\u001b[0m\u001b[1;33m\u001b[0m\u001b[1;33m\u001b[0m\u001b[0m\n\u001b[0m\u001b[0;32m    573\u001b[0m \u001b[1;33m\u001b[0m\u001b[0m\n\u001b[0;32m    574\u001b[0m     \u001b[1;32mdef\u001b[0m \u001b[0mget\u001b[0m\u001b[1;33m(\u001b[0m\u001b[0mself\u001b[0m\u001b[1;33m)\u001b[0m\u001b[1;33m:\u001b[0m\u001b[1;33m\u001b[0m\u001b[1;33m\u001b[0m\u001b[0m\n",
      "\u001b[1;32m~\\anaconda3\\lib\\site-packages\\joblib\\parallel.py\u001b[0m in \u001b[0;36m__call__\u001b[1;34m(self)\u001b[0m\n\u001b[0;32m    260\u001b[0m         \u001b[1;31m# change the default number of processes to -1\u001b[0m\u001b[1;33m\u001b[0m\u001b[1;33m\u001b[0m\u001b[1;33m\u001b[0m\u001b[0m\n\u001b[0;32m    261\u001b[0m         \u001b[1;32mwith\u001b[0m \u001b[0mparallel_backend\u001b[0m\u001b[1;33m(\u001b[0m\u001b[0mself\u001b[0m\u001b[1;33m.\u001b[0m\u001b[0m_backend\u001b[0m\u001b[1;33m,\u001b[0m \u001b[0mn_jobs\u001b[0m\u001b[1;33m=\u001b[0m\u001b[0mself\u001b[0m\u001b[1;33m.\u001b[0m\u001b[0m_n_jobs\u001b[0m\u001b[1;33m)\u001b[0m\u001b[1;33m:\u001b[0m\u001b[1;33m\u001b[0m\u001b[1;33m\u001b[0m\u001b[0m\n\u001b[1;32m--> 262\u001b[1;33m             return [func(*args, **kwargs)\n\u001b[0m\u001b[0;32m    263\u001b[0m                     for func, args, kwargs in self.items]\n\u001b[0;32m    264\u001b[0m \u001b[1;33m\u001b[0m\u001b[0m\n",
      "\u001b[1;32m~\\anaconda3\\lib\\site-packages\\joblib\\parallel.py\u001b[0m in \u001b[0;36m<listcomp>\u001b[1;34m(.0)\u001b[0m\n\u001b[0;32m    260\u001b[0m         \u001b[1;31m# change the default number of processes to -1\u001b[0m\u001b[1;33m\u001b[0m\u001b[1;33m\u001b[0m\u001b[1;33m\u001b[0m\u001b[0m\n\u001b[0;32m    261\u001b[0m         \u001b[1;32mwith\u001b[0m \u001b[0mparallel_backend\u001b[0m\u001b[1;33m(\u001b[0m\u001b[0mself\u001b[0m\u001b[1;33m.\u001b[0m\u001b[0m_backend\u001b[0m\u001b[1;33m,\u001b[0m \u001b[0mn_jobs\u001b[0m\u001b[1;33m=\u001b[0m\u001b[0mself\u001b[0m\u001b[1;33m.\u001b[0m\u001b[0m_n_jobs\u001b[0m\u001b[1;33m)\u001b[0m\u001b[1;33m:\u001b[0m\u001b[1;33m\u001b[0m\u001b[1;33m\u001b[0m\u001b[0m\n\u001b[1;32m--> 262\u001b[1;33m             return [func(*args, **kwargs)\n\u001b[0m\u001b[0;32m    263\u001b[0m                     for func, args, kwargs in self.items]\n\u001b[0;32m    264\u001b[0m \u001b[1;33m\u001b[0m\u001b[0m\n",
      "\u001b[1;32m~\\anaconda3\\lib\\site-packages\\sklearn\\utils\\fixes.py\u001b[0m in \u001b[0;36m__call__\u001b[1;34m(self, *args, **kwargs)\u001b[0m\n\u001b[0;32m    220\u001b[0m     \u001b[1;32mdef\u001b[0m \u001b[0m__call__\u001b[0m\u001b[1;33m(\u001b[0m\u001b[0mself\u001b[0m\u001b[1;33m,\u001b[0m \u001b[1;33m*\u001b[0m\u001b[0margs\u001b[0m\u001b[1;33m,\u001b[0m \u001b[1;33m**\u001b[0m\u001b[0mkwargs\u001b[0m\u001b[1;33m)\u001b[0m\u001b[1;33m:\u001b[0m\u001b[1;33m\u001b[0m\u001b[1;33m\u001b[0m\u001b[0m\n\u001b[0;32m    221\u001b[0m         \u001b[1;32mwith\u001b[0m \u001b[0mconfig_context\u001b[0m\u001b[1;33m(\u001b[0m\u001b[1;33m**\u001b[0m\u001b[0mself\u001b[0m\u001b[1;33m.\u001b[0m\u001b[0mconfig\u001b[0m\u001b[1;33m)\u001b[0m\u001b[1;33m:\u001b[0m\u001b[1;33m\u001b[0m\u001b[1;33m\u001b[0m\u001b[0m\n\u001b[1;32m--> 222\u001b[1;33m             \u001b[1;32mreturn\u001b[0m \u001b[0mself\u001b[0m\u001b[1;33m.\u001b[0m\u001b[0mfunction\u001b[0m\u001b[1;33m(\u001b[0m\u001b[1;33m*\u001b[0m\u001b[0margs\u001b[0m\u001b[1;33m,\u001b[0m \u001b[1;33m**\u001b[0m\u001b[0mkwargs\u001b[0m\u001b[1;33m)\u001b[0m\u001b[1;33m\u001b[0m\u001b[1;33m\u001b[0m\u001b[0m\n\u001b[0m",
      "\u001b[1;32m~\\anaconda3\\lib\\site-packages\\sklearn\\model_selection\\_validation.py\u001b[0m in \u001b[0;36m_fit_and_score\u001b[1;34m(estimator, X, y, scorer, train, test, verbose, parameters, fit_params, return_train_score, return_parameters, return_n_test_samples, return_times, return_estimator, split_progress, candidate_progress, error_score)\u001b[0m\n\u001b[0;32m    596\u001b[0m             \u001b[0mestimator\u001b[0m\u001b[1;33m.\u001b[0m\u001b[0mfit\u001b[0m\u001b[1;33m(\u001b[0m\u001b[0mX_train\u001b[0m\u001b[1;33m,\u001b[0m \u001b[1;33m**\u001b[0m\u001b[0mfit_params\u001b[0m\u001b[1;33m)\u001b[0m\u001b[1;33m\u001b[0m\u001b[1;33m\u001b[0m\u001b[0m\n\u001b[0;32m    597\u001b[0m         \u001b[1;32melse\u001b[0m\u001b[1;33m:\u001b[0m\u001b[1;33m\u001b[0m\u001b[1;33m\u001b[0m\u001b[0m\n\u001b[1;32m--> 598\u001b[1;33m             \u001b[0mestimator\u001b[0m\u001b[1;33m.\u001b[0m\u001b[0mfit\u001b[0m\u001b[1;33m(\u001b[0m\u001b[0mX_train\u001b[0m\u001b[1;33m,\u001b[0m \u001b[0my_train\u001b[0m\u001b[1;33m,\u001b[0m \u001b[1;33m**\u001b[0m\u001b[0mfit_params\u001b[0m\u001b[1;33m)\u001b[0m\u001b[1;33m\u001b[0m\u001b[1;33m\u001b[0m\u001b[0m\n\u001b[0m\u001b[0;32m    599\u001b[0m \u001b[1;33m\u001b[0m\u001b[0m\n\u001b[0;32m    600\u001b[0m     \u001b[1;32mexcept\u001b[0m \u001b[0mException\u001b[0m \u001b[1;32mas\u001b[0m \u001b[0me\u001b[0m\u001b[1;33m:\u001b[0m\u001b[1;33m\u001b[0m\u001b[1;33m\u001b[0m\u001b[0m\n",
      "\u001b[1;32m~\\anaconda3\\lib\\site-packages\\sklearn\\ensemble\\_weight_boosting.py\u001b[0m in \u001b[0;36mfit\u001b[1;34m(self, X, y, sample_weight)\u001b[0m\n\u001b[0;32m    441\u001b[0m \u001b[1;33m\u001b[0m\u001b[0m\n\u001b[0;32m    442\u001b[0m         \u001b[1;31m# Fit\u001b[0m\u001b[1;33m\u001b[0m\u001b[1;33m\u001b[0m\u001b[1;33m\u001b[0m\u001b[0m\n\u001b[1;32m--> 443\u001b[1;33m         \u001b[1;32mreturn\u001b[0m \u001b[0msuper\u001b[0m\u001b[1;33m(\u001b[0m\u001b[1;33m)\u001b[0m\u001b[1;33m.\u001b[0m\u001b[0mfit\u001b[0m\u001b[1;33m(\u001b[0m\u001b[0mX\u001b[0m\u001b[1;33m,\u001b[0m \u001b[0my\u001b[0m\u001b[1;33m,\u001b[0m \u001b[0msample_weight\u001b[0m\u001b[1;33m)\u001b[0m\u001b[1;33m\u001b[0m\u001b[1;33m\u001b[0m\u001b[0m\n\u001b[0m\u001b[0;32m    444\u001b[0m \u001b[1;33m\u001b[0m\u001b[0m\n\u001b[0;32m    445\u001b[0m     \u001b[1;32mdef\u001b[0m \u001b[0m_validate_estimator\u001b[0m\u001b[1;33m(\u001b[0m\u001b[0mself\u001b[0m\u001b[1;33m)\u001b[0m\u001b[1;33m:\u001b[0m\u001b[1;33m\u001b[0m\u001b[1;33m\u001b[0m\u001b[0m\n",
      "\u001b[1;32m~\\anaconda3\\lib\\site-packages\\sklearn\\ensemble\\_weight_boosting.py\u001b[0m in \u001b[0;36mfit\u001b[1;34m(self, X, y, sample_weight)\u001b[0m\n\u001b[0;32m    128\u001b[0m         \u001b[1;32mfor\u001b[0m \u001b[0miboost\u001b[0m \u001b[1;32min\u001b[0m \u001b[0mrange\u001b[0m\u001b[1;33m(\u001b[0m\u001b[0mself\u001b[0m\u001b[1;33m.\u001b[0m\u001b[0mn_estimators\u001b[0m\u001b[1;33m)\u001b[0m\u001b[1;33m:\u001b[0m\u001b[1;33m\u001b[0m\u001b[1;33m\u001b[0m\u001b[0m\n\u001b[0;32m    129\u001b[0m             \u001b[1;31m# Boosting step\u001b[0m\u001b[1;33m\u001b[0m\u001b[1;33m\u001b[0m\u001b[1;33m\u001b[0m\u001b[0m\n\u001b[1;32m--> 130\u001b[1;33m             sample_weight, estimator_weight, estimator_error = self._boost(\n\u001b[0m\u001b[0;32m    131\u001b[0m                 \u001b[0miboost\u001b[0m\u001b[1;33m,\u001b[0m\u001b[1;33m\u001b[0m\u001b[1;33m\u001b[0m\u001b[0m\n\u001b[0;32m    132\u001b[0m                 \u001b[0mX\u001b[0m\u001b[1;33m,\u001b[0m \u001b[0my\u001b[0m\u001b[1;33m,\u001b[0m\u001b[1;33m\u001b[0m\u001b[1;33m\u001b[0m\u001b[0m\n",
      "\u001b[1;32m~\\anaconda3\\lib\\site-packages\\sklearn\\ensemble\\_weight_boosting.py\u001b[0m in \u001b[0;36m_boost\u001b[1;34m(self, iboost, X, y, sample_weight, random_state)\u001b[0m\n\u001b[0;32m    501\u001b[0m         \"\"\"\n\u001b[0;32m    502\u001b[0m         \u001b[1;32mif\u001b[0m \u001b[0mself\u001b[0m\u001b[1;33m.\u001b[0m\u001b[0malgorithm\u001b[0m \u001b[1;33m==\u001b[0m \u001b[1;34m'SAMME.R'\u001b[0m\u001b[1;33m:\u001b[0m\u001b[1;33m\u001b[0m\u001b[1;33m\u001b[0m\u001b[0m\n\u001b[1;32m--> 503\u001b[1;33m             \u001b[1;32mreturn\u001b[0m \u001b[0mself\u001b[0m\u001b[1;33m.\u001b[0m\u001b[0m_boost_real\u001b[0m\u001b[1;33m(\u001b[0m\u001b[0miboost\u001b[0m\u001b[1;33m,\u001b[0m \u001b[0mX\u001b[0m\u001b[1;33m,\u001b[0m \u001b[0my\u001b[0m\u001b[1;33m,\u001b[0m \u001b[0msample_weight\u001b[0m\u001b[1;33m,\u001b[0m \u001b[0mrandom_state\u001b[0m\u001b[1;33m)\u001b[0m\u001b[1;33m\u001b[0m\u001b[1;33m\u001b[0m\u001b[0m\n\u001b[0m\u001b[0;32m    504\u001b[0m \u001b[1;33m\u001b[0m\u001b[0m\n\u001b[0;32m    505\u001b[0m         \u001b[1;32melse\u001b[0m\u001b[1;33m:\u001b[0m  \u001b[1;31m# elif self.algorithm == \"SAMME\":\u001b[0m\u001b[1;33m\u001b[0m\u001b[1;33m\u001b[0m\u001b[0m\n",
      "\u001b[1;32m~\\anaconda3\\lib\\site-packages\\sklearn\\ensemble\\_weight_boosting.py\u001b[0m in \u001b[0;36m_boost_real\u001b[1;34m(self, iboost, X, y, sample_weight, random_state)\u001b[0m\n\u001b[0;32m    511\u001b[0m         \u001b[0mestimator\u001b[0m \u001b[1;33m=\u001b[0m \u001b[0mself\u001b[0m\u001b[1;33m.\u001b[0m\u001b[0m_make_estimator\u001b[0m\u001b[1;33m(\u001b[0m\u001b[0mrandom_state\u001b[0m\u001b[1;33m=\u001b[0m\u001b[0mrandom_state\u001b[0m\u001b[1;33m)\u001b[0m\u001b[1;33m\u001b[0m\u001b[1;33m\u001b[0m\u001b[0m\n\u001b[0;32m    512\u001b[0m \u001b[1;33m\u001b[0m\u001b[0m\n\u001b[1;32m--> 513\u001b[1;33m         \u001b[0mestimator\u001b[0m\u001b[1;33m.\u001b[0m\u001b[0mfit\u001b[0m\u001b[1;33m(\u001b[0m\u001b[0mX\u001b[0m\u001b[1;33m,\u001b[0m \u001b[0my\u001b[0m\u001b[1;33m,\u001b[0m \u001b[0msample_weight\u001b[0m\u001b[1;33m=\u001b[0m\u001b[0msample_weight\u001b[0m\u001b[1;33m)\u001b[0m\u001b[1;33m\u001b[0m\u001b[1;33m\u001b[0m\u001b[0m\n\u001b[0m\u001b[0;32m    514\u001b[0m \u001b[1;33m\u001b[0m\u001b[0m\n\u001b[0;32m    515\u001b[0m         \u001b[0my_predict_proba\u001b[0m \u001b[1;33m=\u001b[0m \u001b[0mestimator\u001b[0m\u001b[1;33m.\u001b[0m\u001b[0mpredict_proba\u001b[0m\u001b[1;33m(\u001b[0m\u001b[0mX\u001b[0m\u001b[1;33m)\u001b[0m\u001b[1;33m\u001b[0m\u001b[1;33m\u001b[0m\u001b[0m\n",
      "\u001b[1;32m~\\anaconda3\\lib\\site-packages\\sklearn\\tree\\_classes.py\u001b[0m in \u001b[0;36mfit\u001b[1;34m(self, X, y, sample_weight, check_input, X_idx_sorted)\u001b[0m\n\u001b[0;32m    901\u001b[0m         \"\"\"\n\u001b[0;32m    902\u001b[0m \u001b[1;33m\u001b[0m\u001b[0m\n\u001b[1;32m--> 903\u001b[1;33m         super().fit(\n\u001b[0m\u001b[0;32m    904\u001b[0m             \u001b[0mX\u001b[0m\u001b[1;33m,\u001b[0m \u001b[0my\u001b[0m\u001b[1;33m,\u001b[0m\u001b[1;33m\u001b[0m\u001b[1;33m\u001b[0m\u001b[0m\n\u001b[0;32m    905\u001b[0m             \u001b[0msample_weight\u001b[0m\u001b[1;33m=\u001b[0m\u001b[0msample_weight\u001b[0m\u001b[1;33m,\u001b[0m\u001b[1;33m\u001b[0m\u001b[1;33m\u001b[0m\u001b[0m\n",
      "\u001b[1;32m~\\anaconda3\\lib\\site-packages\\sklearn\\tree\\_classes.py\u001b[0m in \u001b[0;36mfit\u001b[1;34m(self, X, y, sample_weight, check_input, X_idx_sorted)\u001b[0m\n\u001b[0;32m    392\u001b[0m                                            min_impurity_split)\n\u001b[0;32m    393\u001b[0m \u001b[1;33m\u001b[0m\u001b[0m\n\u001b[1;32m--> 394\u001b[1;33m         \u001b[0mbuilder\u001b[0m\u001b[1;33m.\u001b[0m\u001b[0mbuild\u001b[0m\u001b[1;33m(\u001b[0m\u001b[0mself\u001b[0m\u001b[1;33m.\u001b[0m\u001b[0mtree_\u001b[0m\u001b[1;33m,\u001b[0m \u001b[0mX\u001b[0m\u001b[1;33m,\u001b[0m \u001b[0my\u001b[0m\u001b[1;33m,\u001b[0m \u001b[0msample_weight\u001b[0m\u001b[1;33m)\u001b[0m\u001b[1;33m\u001b[0m\u001b[1;33m\u001b[0m\u001b[0m\n\u001b[0m\u001b[0;32m    395\u001b[0m \u001b[1;33m\u001b[0m\u001b[0m\n\u001b[0;32m    396\u001b[0m         \u001b[1;32mif\u001b[0m \u001b[0mself\u001b[0m\u001b[1;33m.\u001b[0m\u001b[0mn_outputs_\u001b[0m \u001b[1;33m==\u001b[0m \u001b[1;36m1\u001b[0m \u001b[1;32mand\u001b[0m \u001b[0mis_classifier\u001b[0m\u001b[1;33m(\u001b[0m\u001b[0mself\u001b[0m\u001b[1;33m)\u001b[0m\u001b[1;33m:\u001b[0m\u001b[1;33m\u001b[0m\u001b[1;33m\u001b[0m\u001b[0m\n",
      "\u001b[1;31mKeyboardInterrupt\u001b[0m: "
     ]
    },
    {
     "ename": "NameError",
     "evalue": "name 'grid_ada_result' is not defined",
     "output_type": "error",
     "traceback": [
      "\u001b[1;31m---------------------------------------------------------------------------\u001b[0m",
      "\u001b[1;31mNameError\u001b[0m                                 Traceback (most recent call last)",
      "\u001b[1;32m~\\AppData\\Local\\Temp/ipykernel_21140/2226817548.py\u001b[0m in \u001b[0;36m<module>\u001b[1;34m\u001b[0m\n\u001b[0;32m     12\u001b[0m \u001b[1;33m\u001b[0m\u001b[0m\n\u001b[0;32m     13\u001b[0m \u001b[1;31m# summarize results\u001b[0m\u001b[1;33m\u001b[0m\u001b[1;33m\u001b[0m\u001b[1;33m\u001b[0m\u001b[0m\n\u001b[1;32m---> 14\u001b[1;33m \u001b[0mprint\u001b[0m\u001b[1;33m(\u001b[0m\u001b[1;34m\"Best: %f using %s\"\u001b[0m \u001b[1;33m%\u001b[0m \u001b[1;33m(\u001b[0m\u001b[0mgrid_ada_result\u001b[0m\u001b[1;33m.\u001b[0m\u001b[0mbest_score_\u001b[0m\u001b[1;33m,\u001b[0m \u001b[0mgrid_ada_result\u001b[0m\u001b[1;33m.\u001b[0m\u001b[0mbest_params_\u001b[0m\u001b[1;33m)\u001b[0m\u001b[1;33m)\u001b[0m\u001b[1;33m\u001b[0m\u001b[1;33m\u001b[0m\u001b[0m\n\u001b[0m\u001b[0;32m     15\u001b[0m \u001b[0mmeans\u001b[0m \u001b[1;33m=\u001b[0m \u001b[0mgrid_ada_result\u001b[0m\u001b[1;33m.\u001b[0m\u001b[0mcv_results_\u001b[0m\u001b[1;33m[\u001b[0m\u001b[1;34m'mean_test_score'\u001b[0m\u001b[1;33m]\u001b[0m\u001b[1;33m\u001b[0m\u001b[1;33m\u001b[0m\u001b[0m\n\u001b[0;32m     16\u001b[0m \u001b[0mstds\u001b[0m \u001b[1;33m=\u001b[0m \u001b[0mgrid_ada_result\u001b[0m\u001b[1;33m.\u001b[0m\u001b[0mcv_results_\u001b[0m\u001b[1;33m[\u001b[0m\u001b[1;34m'std_test_score'\u001b[0m\u001b[1;33m]\u001b[0m\u001b[1;33m\u001b[0m\u001b[1;33m\u001b[0m\u001b[0m\n",
      "\u001b[1;31mNameError\u001b[0m: name 'grid_ada_result' is not defined"
     ]
    }
   ],
   "source": [
    "n_estimators =[int(x) for x in np.linspace(start = 50, stop = 200, num =10)]\n",
    "learning_rate =[float(x) for x in np.linspace(start = 0.01, stop = 1, num =10)]\n",
    "\n",
    "param_grid = {'n_estimators':n_estimators,\n",
    "             'learning_rate':learning_rate}\n",
    "\n",
    "ada=AdaBoostClassifier()\n",
    "\n",
    "grid_ada = GridSearchCV(estimator = ada, param_grid=param_grid, cv=10)\n",
    "\n",
    "%time grid_ada_result = grid_ada.fit(X_train,y_train)\n",
    "\n",
    "# summarize results\n",
    "print(\"Best: %f using %s\" % (grid_ada_result.best_score_, grid_ada_result.best_params_))\n",
    "means = grid_ada_result.cv_results_['mean_test_score']\n",
    "stds = grid_ada_result.cv_results_['std_test_score']\n",
    "params = grid_ada_result.cv_results_['params']\n",
    "for mean, stdev, param in zip(means, stds, params):\n",
    "    print(\"%f (%f) with: %r\" % (mean, stdev, param))"
   ]
  },
  {
   "cell_type": "markdown",
   "id": "080f307a",
   "metadata": {},
   "source": [
    "## Gradient Boosting"
   ]
  },
  {
   "cell_type": "code",
   "execution_count": null,
   "id": "7861c957",
   "metadata": {},
   "outputs": [],
   "source": [
    "n_estimators =[int(x) for x in np.linspace(start = 80, stop = 200, num =10)]\n",
    "learning_rate =[0.25, 0.6, 1]\n",
    "max_features = [4, 7, 10]\n",
    "max_depth= [2, 3, 4]\n",
    "\n",
    "\n",
    "param_grid = {'n_estimators':n_estimators,\n",
    "             'learning_rate':learning_rate,\n",
    "             'max_features':max_features,\n",
    "             'max_depth':max_depth}\n",
    "\n",
    "gb=GradientBoostingClassifier()\n",
    "\n",
    "grid_gb = GridSearchCV(estimator = gb, param_grid=param_grid, cv=3)\n",
    "\n",
    "%time grid_gb_result = grid_gb.fit(X_train,y_train)\n",
    "\n",
    "# summarize results\n",
    "print(\"Best: %f using %s\" % (grid_gb_result.best_score_, grid_gb_result.best_params_))\n",
    "means = grid_gb_result.cv_results_['mean_test_score']\n",
    "stds = grid_gb_result.cv_results_['std_test_score']\n",
    "params = grid_gb_result.cv_results_['params']\n",
    "for mean, stdev, param in zip(means, stds, params):\n",
    "    print(\"%f (%f) with: %r\" % (mean, stdev, param))"
   ]
  },
  {
   "cell_type": "markdown",
   "id": "511538cf",
   "metadata": {},
   "source": [
    "## MLP classifier"
   ]
  },
  {
   "cell_type": "code",
   "execution_count": 88,
   "id": "d70d374d",
   "metadata": {},
   "outputs": [
    {
     "ename": "NameError",
     "evalue": "name 'grid_gb' is not defined",
     "output_type": "error",
     "traceback": [
      "\u001b[1;31m---------------------------------------------------------------------------\u001b[0m",
      "\u001b[1;31mNameError\u001b[0m                                 Traceback (most recent call last)",
      "\u001b[1;32m<timed exec>\u001b[0m in \u001b[0;36m<module>\u001b[1;34m\u001b[0m\n",
      "\u001b[1;31mNameError\u001b[0m: name 'grid_gb' is not defined"
     ]
    },
    {
     "ename": "NameError",
     "evalue": "name 'grid_gb_result' is not defined",
     "output_type": "error",
     "traceback": [
      "\u001b[1;31m---------------------------------------------------------------------------\u001b[0m",
      "\u001b[1;31mNameError\u001b[0m                                 Traceback (most recent call last)",
      "\u001b[1;32m~\\AppData\\Local\\Temp/ipykernel_21140/830037791.py\u001b[0m in \u001b[0;36m<module>\u001b[1;34m\u001b[0m\n\u001b[0;32m     12\u001b[0m \u001b[1;33m\u001b[0m\u001b[0m\n\u001b[0;32m     13\u001b[0m \u001b[1;31m# summarize results\u001b[0m\u001b[1;33m\u001b[0m\u001b[1;33m\u001b[0m\u001b[1;33m\u001b[0m\u001b[0m\n\u001b[1;32m---> 14\u001b[1;33m \u001b[0mprint\u001b[0m\u001b[1;33m(\u001b[0m\u001b[1;34m\"Best: %f using %s\"\u001b[0m \u001b[1;33m%\u001b[0m \u001b[1;33m(\u001b[0m\u001b[0mgrid_gb_result\u001b[0m\u001b[1;33m.\u001b[0m\u001b[0mbest_score_\u001b[0m\u001b[1;33m,\u001b[0m \u001b[0mgrid_gb_result\u001b[0m\u001b[1;33m.\u001b[0m\u001b[0mbest_params_\u001b[0m\u001b[1;33m)\u001b[0m\u001b[1;33m)\u001b[0m\u001b[1;33m\u001b[0m\u001b[1;33m\u001b[0m\u001b[0m\n\u001b[0m\u001b[0;32m     15\u001b[0m \u001b[0mmeans\u001b[0m \u001b[1;33m=\u001b[0m \u001b[0mgrid_gb_result\u001b[0m\u001b[1;33m.\u001b[0m\u001b[0mcv_results_\u001b[0m\u001b[1;33m[\u001b[0m\u001b[1;34m'mean_test_score'\u001b[0m\u001b[1;33m]\u001b[0m\u001b[1;33m\u001b[0m\u001b[1;33m\u001b[0m\u001b[0m\n\u001b[0;32m     16\u001b[0m \u001b[0mstds\u001b[0m \u001b[1;33m=\u001b[0m \u001b[0mgrid_gb_result\u001b[0m\u001b[1;33m.\u001b[0m\u001b[0mcv_results_\u001b[0m\u001b[1;33m[\u001b[0m\u001b[1;34m'std_test_score'\u001b[0m\u001b[1;33m]\u001b[0m\u001b[1;33m\u001b[0m\u001b[1;33m\u001b[0m\u001b[0m\n",
      "\u001b[1;31mNameError\u001b[0m: name 'grid_gb_result' is not defined"
     ]
    }
   ],
   "source": [
    "param_grid = {'hidden_layer_sizes': [(50,50,50), (50,100,50), (100,)],\n",
    "                'activation': ['tanh', 'relu'],\n",
    "                'solver': ['sgd', 'adam'],\n",
    "                'alpha': [0.0001, 0.05],\n",
    "                'learning_rate': ['constant','adaptive']}\n",
    "\n",
    "mlp = MLPClassifier()\n",
    "\n",
    "grid_mlp = GridSearchCV(estimator = mlp, param_grid=param_grid, cv=3)\n",
    "\n",
    "%time grid_gb_result = grid_gb.fit(X_train,y_train)\n",
    "\n",
    "# summarize results\n",
    "print(\"Best: %f using %s\" % (grid_gb_result.best_score_, grid_gb_result.best_params_))\n",
    "means = grid_gb_result.cv_results_['mean_test_score']\n",
    "stds = grid_gb_result.cv_results_['std_test_score']\n",
    "params = grid_gb_result.cv_results_['params']\n",
    "for mean, stdev, param in zip(means, stds, params):\n",
    "    print(\"%f (%f) with: %r\" % (mean, stdev, param))"
   ]
  },
  {
   "cell_type": "code",
   "execution_count": null,
   "id": "2088df3b-1dca-4cba-89ae-d29bc1047603",
   "metadata": {},
   "outputs": [],
   "source": []
  }
 ],
 "metadata": {
  "kernelspec": {
   "display_name": "Python 3 (ipykernel)",
   "language": "python",
   "name": "python3"
  },
  "language_info": {
   "codemirror_mode": {
    "name": "ipython",
    "version": 3
   },
   "file_extension": ".py",
   "mimetype": "text/x-python",
   "name": "python",
   "nbconvert_exporter": "python",
   "pygments_lexer": "ipython3",
   "version": "3.8.11"
  }
 },
 "nbformat": 4,
 "nbformat_minor": 5
}
