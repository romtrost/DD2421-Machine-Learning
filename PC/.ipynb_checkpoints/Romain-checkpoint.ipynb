{
 "cells": [
  {
   "cell_type": "markdown",
   "id": "ff538b41-8571-4188-8976-eaa1c6ea1ede",
   "metadata": {},
   "source": [
    "**KTH Machine Learning: Programming Challenge**"
   ]
  },
  {
   "cell_type": "code",
   "execution_count": 287,
   "id": "a649af9e-415e-4faf-ac95-638959a636dd",
   "metadata": {},
   "outputs": [],
   "source": [
    "import numpy as np # linear algebra\n",
    "import pandas as pd # data processing, CSV file I/O (e.g. pd.read_csv)\n",
    "import matplotlib.pyplot as plt # data visualization\n",
    "import seaborn as sns # statistical data visualization\n",
    "import category_encoders as ce \n",
    "from sklearn.ensemble import RandomForestClassifier\n",
    "from sklearn.metrics import accuracy_score\n",
    "from sklearn.model_selection import train_test_split\n",
    "%matplotlib inline"
   ]
  },
  {
   "cell_type": "code",
   "execution_count": 288,
   "id": "bfc54aaf-ef44-4513-adc2-6df8a7ba9e88",
   "metadata": {},
   "outputs": [
    {
     "data": {
      "text/html": [
       "<div>\n",
       "<style scoped>\n",
       "    .dataframe tbody tr th:only-of-type {\n",
       "        vertical-align: middle;\n",
       "    }\n",
       "\n",
       "    .dataframe tbody tr th {\n",
       "        vertical-align: top;\n",
       "    }\n",
       "\n",
       "    .dataframe thead th {\n",
       "        text-align: right;\n",
       "    }\n",
       "</style>\n",
       "<table border=\"1\" class=\"dataframe\">\n",
       "  <thead>\n",
       "    <tr style=\"text-align: right;\">\n",
       "      <th></th>\n",
       "      <th>Unnamed: 0</th>\n",
       "      <th>y</th>\n",
       "      <th>x1</th>\n",
       "      <th>x2</th>\n",
       "      <th>x3</th>\n",
       "      <th>x4</th>\n",
       "      <th>x5</th>\n",
       "      <th>x6</th>\n",
       "      <th>x7</th>\n",
       "      <th>x8</th>\n",
       "      <th>x9</th>\n",
       "      <th>x10</th>\n",
       "      <th>x11</th>\n",
       "      <th>x12</th>\n",
       "      <th>x13</th>\n",
       "    </tr>\n",
       "  </thead>\n",
       "  <tbody>\n",
       "    <tr>\n",
       "      <th>0</th>\n",
       "      <td>0</td>\n",
       "      <td>Shoogee</td>\n",
       "      <td>2.20274</td>\n",
       "      <td>-0.04690</td>\n",
       "      <td>-4.69816</td>\n",
       "      <td>-9.07800</td>\n",
       "      <td>10.13118</td>\n",
       "      <td>-0.08900</td>\n",
       "      <td>Erik Sven Williams</td>\n",
       "      <td>0.54191</td>\n",
       "      <td>0.52041</td>\n",
       "      <td>-5.66990</td>\n",
       "      <td>-0.93831</td>\n",
       "      <td>False</td>\n",
       "      <td>107.78776</td>\n",
       "    </tr>\n",
       "    <tr>\n",
       "      <th>1</th>\n",
       "      <td>1</td>\n",
       "      <td>Bob</td>\n",
       "      <td>2.01516</td>\n",
       "      <td>-0.12177</td>\n",
       "      <td>-4.24286</td>\n",
       "      <td>-9.79772</td>\n",
       "      <td>9.98259</td>\n",
       "      <td>-0.01485</td>\n",
       "      <td>Erik Sven Williams</td>\n",
       "      <td>-1.21671</td>\n",
       "      <td>1.18749</td>\n",
       "      <td>-9.25300</td>\n",
       "      <td>-1.21892</td>\n",
       "      <td>False</td>\n",
       "      <td>98.63633</td>\n",
       "    </tr>\n",
       "    <tr>\n",
       "      <th>2</th>\n",
       "      <td>2</td>\n",
       "      <td>Bob</td>\n",
       "      <td>0.02598</td>\n",
       "      <td>-0.24764</td>\n",
       "      <td>0.39977</td>\n",
       "      <td>-9.54167</td>\n",
       "      <td>10.53391</td>\n",
       "      <td>-0.27978</td>\n",
       "      <td>Erik Sven Williams</td>\n",
       "      <td>-2.39764</td>\n",
       "      <td>1.95167</td>\n",
       "      <td>-9.46447</td>\n",
       "      <td>-2.68910</td>\n",
       "      <td>True</td>\n",
       "      <td>1.49880</td>\n",
       "    </tr>\n",
       "    <tr>\n",
       "      <th>3</th>\n",
       "      <td>3</td>\n",
       "      <td>Jorg</td>\n",
       "      <td>0.39778</td>\n",
       "      <td>-0.83343</td>\n",
       "      <td>-2.14272</td>\n",
       "      <td>-9.06550</td>\n",
       "      <td>10.15047</td>\n",
       "      <td>-0.84583</td>\n",
       "      <td>Jerry från Solna</td>\n",
       "      <td>0.09768</td>\n",
       "      <td>0.92010</td>\n",
       "      <td>-11.17952</td>\n",
       "      <td>0.59877</td>\n",
       "      <td>False</td>\n",
       "      <td>18.81785</td>\n",
       "    </tr>\n",
       "    <tr>\n",
       "      <th>4</th>\n",
       "      <td>4</td>\n",
       "      <td>Jorg</td>\n",
       "      <td>1.25346</td>\n",
       "      <td>0.09320</td>\n",
       "      <td>1.54063</td>\n",
       "      <td>-9.33171</td>\n",
       "      <td>9.92016</td>\n",
       "      <td>0.09889</td>\n",
       "      <td>Jerry Fernström</td>\n",
       "      <td>-0.46134</td>\n",
       "      <td>0.16381</td>\n",
       "      <td>-12.07755</td>\n",
       "      <td>1.09106</td>\n",
       "      <td>True</td>\n",
       "      <td>63.44326</td>\n",
       "    </tr>\n",
       "  </tbody>\n",
       "</table>\n",
       "</div>"
      ],
      "text/plain": [
       "  Unnamed: 0        y       x1       x2       x3       x4        x5        x6  \\\n",
       "0          0  Shoogee  2.20274 -0.04690 -4.69816 -9.07800  10.13118  -0.08900   \n",
       "1          1      Bob  2.01516 -0.12177 -4.24286 -9.79772   9.98259  -0.01485   \n",
       "2          2      Bob  0.02598 -0.24764  0.39977 -9.54167  10.53391  -0.27978   \n",
       "3          3     Jorg  0.39778 -0.83343 -2.14272 -9.06550  10.15047  -0.84583   \n",
       "4          4     Jorg  1.25346  0.09320  1.54063 -9.33171   9.92016   0.09889   \n",
       "\n",
       "                   x7       x8       x9       x10      x11    x12        x13  \n",
       "0  Erik Sven Williams  0.54191  0.52041  -5.66990 -0.93831  False  107.78776  \n",
       "1  Erik Sven Williams -1.21671  1.18749  -9.25300 -1.21892  False   98.63633  \n",
       "2  Erik Sven Williams -2.39764  1.95167  -9.46447 -2.68910   True    1.49880  \n",
       "3    Jerry från Solna  0.09768  0.92010 -11.17952  0.59877  False   18.81785  \n",
       "4     Jerry Fernström -0.46134  0.16381 -12.07755  1.09106   True   63.44326  "
      ]
     },
     "execution_count": 288,
     "metadata": {},
     "output_type": "execute_result"
    }
   ],
   "source": [
    "df = pd.read_csv (r'TrainOnMe-2.csv')\n",
    "df.head()\n",
    "#df_test.head()"
   ]
  },
  {
   "cell_type": "markdown",
   "id": "82bd69e8-a3a1-4eeb-9c3e-460f5d78e169",
   "metadata": {},
   "source": [
    "**NOTE: Irrelevant data: 136, 583, 584, 805**"
   ]
  },
  {
   "cell_type": "code",
   "execution_count": 289,
   "id": "65558996-1b4a-4d35-b6cc-3bdb3ff33784",
   "metadata": {},
   "outputs": [
    {
     "name": "stdout",
     "output_type": "stream",
     "text": [
      "<class 'pandas.core.frame.DataFrame'>\n",
      "RangeIndex: 1004 entries, 0 to 1003\n",
      "Data columns (total 15 columns):\n",
      " #   Column      Non-Null Count  Dtype  \n",
      "---  ------      --------------  -----  \n",
      " 0   Unnamed: 0  1004 non-null   object \n",
      " 1   y           997 non-null    object \n",
      " 2   x1          1000 non-null   float64\n",
      " 3   x2          1000 non-null   float64\n",
      " 4   x3          1000 non-null   float64\n",
      " 5   x4          1000 non-null   float64\n",
      " 6   x5          1000 non-null   float64\n",
      " 7   x6          1000 non-null   object \n",
      " 8   x7          1000 non-null   object \n",
      " 9   x8          1000 non-null   float64\n",
      " 10  x9          1000 non-null   float64\n",
      " 11  x10         1000 non-null   float64\n",
      " 12  x11         1000 non-null   float64\n",
      " 13  x12         1000 non-null   object \n",
      " 14  x13         1000 non-null   float64\n",
      "dtypes: float64(10), object(5)\n",
      "memory usage: 117.8+ KB\n"
     ]
    }
   ],
   "source": [
    "df.info()"
   ]
  },
  {
   "cell_type": "markdown",
   "id": "f34649ee-ffc7-4290-ba41-85a8e1cc269e",
   "metadata": {},
   "source": [
    "**We must clean the data:**\n",
    "- There are 1000 training examples however only 997 have output classes, the other 3 have NaN. We must remove these.\n",
    "- Some values in x6 are not floats, however they should all be floats. We should also remove these.\n"
   ]
  },
  {
   "cell_type": "code",
   "execution_count": 290,
   "id": "e01bc458-4a3d-4d08-82ce-ecd4db2948d2",
   "metadata": {},
   "outputs": [
    {
     "name": "stdout",
     "output_type": "stream",
     "text": [
      "<class 'pandas.core.frame.DataFrame'>\n",
      "Int64Index: 995 entries, 0 to 1003\n",
      "Data columns (total 14 columns):\n",
      " #   Column  Non-Null Count  Dtype  \n",
      "---  ------  --------------  -----  \n",
      " 0   y       995 non-null    object \n",
      " 1   x1      995 non-null    float64\n",
      " 2   x2      995 non-null    float64\n",
      " 3   x3      995 non-null    float64\n",
      " 4   x4      995 non-null    float64\n",
      " 5   x5      995 non-null    float64\n",
      " 6   x6      995 non-null    float64\n",
      " 7   x7      995 non-null    object \n",
      " 8   x8      995 non-null    float64\n",
      " 9   x9      995 non-null    float64\n",
      " 10  x10     995 non-null    float64\n",
      " 11  x11     995 non-null    float64\n",
      " 12  x12     995 non-null    object \n",
      " 13  x13     995 non-null    float64\n",
      "dtypes: float64(11), object(3)\n",
      "memory usage: 116.6+ KB\n"
     ]
    }
   ],
   "source": [
    "\"\"\" Cleaning the data \"\"\"\n",
    "df1 = df.drop(df[pd.to_numeric(df['x6'], errors='coerce').isnull()].index) # Drops rows where x6 cannot be converted to float (thus is an object)\n",
    "df1[\"x6\"] = pd.to_numeric(df1[\"x6\"]) # Converts remaining variables in x6 to floats\n",
    "df1 = df1.dropna() # Drops all NaN and NaT values\n",
    "df1 = df1.drop(['Unnamed: 0'], axis=1) # Drops first \"index\" column\n",
    "df1.info()"
   ]
  },
  {
   "cell_type": "code",
   "execution_count": 291,
   "id": "a4715ecc-47a1-4639-a1b3-6743b5a6b63b",
   "metadata": {},
   "outputs": [],
   "source": [
    "# check missing values in variables\n",
    "#df1.isnull().sum()"
   ]
  },
  {
   "cell_type": "markdown",
   "id": "6bd86090-4c17-4c84-b538-14d66a5636ec",
   "metadata": {},
   "source": [
    "**We have no more null variables**"
   ]
  },
  {
   "cell_type": "code",
   "execution_count": 292,
   "id": "c1f8d7b8-3f42-4b72-9d95-c1523aa36925",
   "metadata": {},
   "outputs": [
    {
     "name": "stdout",
     "output_type": "stream",
     "text": [
      "Jorg       342\n",
      "Shoogee    290\n",
      "Bob        268\n",
      "Atsuto      95\n",
      "Name: y, dtype: int64\n"
     ]
    }
   ],
   "source": [
    "# Check classes\n",
    "print(df1['y'].value_counts())"
   ]
  },
  {
   "cell_type": "markdown",
   "id": "c0419fa8-4192-415e-a1f1-c31dd88b232f",
   "metadata": {},
   "source": [
    "**We have 4 classes with the above frequency of occurences**"
   ]
  },
  {
   "cell_type": "code",
   "execution_count": 293,
   "id": "cc4c3242-8fe5-4805-bebb-9df1a8504a51",
   "metadata": {},
   "outputs": [],
   "source": [
    "# Declaring feature and target vectors\n",
    "X = df1.drop(['y'], axis=1)    # Feature vector\n",
    "y = df1['y']    # Target vector"
   ]
  },
  {
   "cell_type": "code",
   "execution_count": 294,
   "id": "163c8889-2552-45ca-bc17-b2fe5e9fb10f",
   "metadata": {},
   "outputs": [],
   "source": [
    "X_train, X_test, y_train, y_test = train_test_split(X, y, test_size = 0.33, random_state = 42)"
   ]
  },
  {
   "cell_type": "code",
   "execution_count": 295,
   "id": "635d29b2-e7fa-446e-a857-97ae213ec0d4",
   "metadata": {},
   "outputs": [
    {
     "data": {
      "text/plain": [
       "x1     float64\n",
       "x2     float64\n",
       "x3     float64\n",
       "x4     float64\n",
       "x5     float64\n",
       "x6     float64\n",
       "x7      object\n",
       "x8     float64\n",
       "x9     float64\n",
       "x10    float64\n",
       "x11    float64\n",
       "x12     object\n",
       "x13    float64\n",
       "dtype: object"
      ]
     },
     "execution_count": 295,
     "metadata": {},
     "output_type": "execute_result"
    }
   ],
   "source": [
    "# Checing data types for each feature\n",
    "X_train.dtypes"
   ]
  },
  {
   "cell_type": "code",
   "execution_count": 296,
   "id": "a25df752-f4ff-469c-b0c4-75d651f32b64",
   "metadata": {},
   "outputs": [
    {
     "data": {
      "text/html": [
       "<div>\n",
       "<style scoped>\n",
       "    .dataframe tbody tr th:only-of-type {\n",
       "        vertical-align: middle;\n",
       "    }\n",
       "\n",
       "    .dataframe tbody tr th {\n",
       "        vertical-align: top;\n",
       "    }\n",
       "\n",
       "    .dataframe thead th {\n",
       "        text-align: right;\n",
       "    }\n",
       "</style>\n",
       "<table border=\"1\" class=\"dataframe\">\n",
       "  <thead>\n",
       "    <tr style=\"text-align: right;\">\n",
       "      <th></th>\n",
       "      <th>x1</th>\n",
       "      <th>x2</th>\n",
       "      <th>x3</th>\n",
       "      <th>x4</th>\n",
       "      <th>x5</th>\n",
       "      <th>x6</th>\n",
       "      <th>x7</th>\n",
       "      <th>x8</th>\n",
       "      <th>x9</th>\n",
       "      <th>x10</th>\n",
       "      <th>x11</th>\n",
       "      <th>x12</th>\n",
       "      <th>x13</th>\n",
       "    </tr>\n",
       "  </thead>\n",
       "  <tbody>\n",
       "    <tr>\n",
       "      <th>912</th>\n",
       "      <td>1.12554</td>\n",
       "      <td>0.03888</td>\n",
       "      <td>-1.39053</td>\n",
       "      <td>-9.31156</td>\n",
       "      <td>10.60889</td>\n",
       "      <td>0.08899</td>\n",
       "      <td>1</td>\n",
       "      <td>-4.13059</td>\n",
       "      <td>-2.59098</td>\n",
       "      <td>-14.57144</td>\n",
       "      <td>3.96200</td>\n",
       "      <td>1</td>\n",
       "      <td>55.58152</td>\n",
       "    </tr>\n",
       "    <tr>\n",
       "      <th>548</th>\n",
       "      <td>2.18258</td>\n",
       "      <td>0.58478</td>\n",
       "      <td>1.06316</td>\n",
       "      <td>-9.50213</td>\n",
       "      <td>10.62468</td>\n",
       "      <td>0.72615</td>\n",
       "      <td>1</td>\n",
       "      <td>0.20070</td>\n",
       "      <td>1.49607</td>\n",
       "      <td>-8.33421</td>\n",
       "      <td>-3.99975</td>\n",
       "      <td>2</td>\n",
       "      <td>109.66065</td>\n",
       "    </tr>\n",
       "    <tr>\n",
       "      <th>469</th>\n",
       "      <td>1.22154</td>\n",
       "      <td>-1.15469</td>\n",
       "      <td>-0.14309</td>\n",
       "      <td>-8.86144</td>\n",
       "      <td>10.37496</td>\n",
       "      <td>-1.16267</td>\n",
       "      <td>2</td>\n",
       "      <td>-0.33880</td>\n",
       "      <td>0.17123</td>\n",
       "      <td>-9.10498</td>\n",
       "      <td>-2.87535</td>\n",
       "      <td>1</td>\n",
       "      <td>61.00534</td>\n",
       "    </tr>\n",
       "    <tr>\n",
       "      <th>533</th>\n",
       "      <td>0.55721</td>\n",
       "      <td>-0.34944</td>\n",
       "      <td>0.01017</td>\n",
       "      <td>-9.26326</td>\n",
       "      <td>9.96019</td>\n",
       "      <td>-0.48168</td>\n",
       "      <td>3</td>\n",
       "      <td>-0.05538</td>\n",
       "      <td>-1.56420</td>\n",
       "      <td>-7.37832</td>\n",
       "      <td>-1.15897</td>\n",
       "      <td>1</td>\n",
       "      <td>27.86565</td>\n",
       "    </tr>\n",
       "    <tr>\n",
       "      <th>472</th>\n",
       "      <td>-0.30756</td>\n",
       "      <td>-0.24642</td>\n",
       "      <td>-1.74260</td>\n",
       "      <td>-9.77044</td>\n",
       "      <td>10.42028</td>\n",
       "      <td>-0.23435</td>\n",
       "      <td>3</td>\n",
       "      <td>1.29014</td>\n",
       "      <td>1.06795</td>\n",
       "      <td>-9.01302</td>\n",
       "      <td>-2.74400</td>\n",
       "      <td>1</td>\n",
       "      <td>-16.24950</td>\n",
       "    </tr>\n",
       "  </tbody>\n",
       "</table>\n",
       "</div>"
      ],
      "text/plain": [
       "          x1       x2       x3       x4        x5       x6  x7       x8  \\\n",
       "912  1.12554  0.03888 -1.39053 -9.31156  10.60889  0.08899   1 -4.13059   \n",
       "548  2.18258  0.58478  1.06316 -9.50213  10.62468  0.72615   1  0.20070   \n",
       "469  1.22154 -1.15469 -0.14309 -8.86144  10.37496 -1.16267   2 -0.33880   \n",
       "533  0.55721 -0.34944  0.01017 -9.26326   9.96019 -0.48168   3 -0.05538   \n",
       "472 -0.30756 -0.24642 -1.74260 -9.77044  10.42028 -0.23435   3  1.29014   \n",
       "\n",
       "          x9       x10      x11  x12        x13  \n",
       "912 -2.59098 -14.57144  3.96200    1   55.58152  \n",
       "548  1.49607  -8.33421 -3.99975    2  109.66065  \n",
       "469  0.17123  -9.10498 -2.87535    1   61.00534  \n",
       "533 -1.56420  -7.37832 -1.15897    1   27.86565  \n",
       "472  1.06795  -9.01302 -2.74400    1  -16.24950  "
      ]
     },
     "execution_count": 296,
     "metadata": {},
     "output_type": "execute_result"
    }
   ],
   "source": [
    "# encode categorical variables with ordinal encoding\n",
    "encoder = ce.OrdinalEncoder(cols=['x7', 'x12'])\n",
    "X_train = encoder.fit_transform(X_train)\n",
    "X_test = encoder.transform(X_test)\n",
    "X_train.head()"
   ]
  },
  {
   "cell_type": "markdown",
   "id": "936ab5ad-0027-4132-9f59-5182dee58e3b",
   "metadata": {},
   "source": [
    "**Using the random forest classifier**"
   ]
  },
  {
   "cell_type": "code",
   "execution_count": 297,
   "id": "8aac8499-b0cd-4d66-a4e1-281fe632bf18",
   "metadata": {},
   "outputs": [
    {
     "name": "stdout",
     "output_type": "stream",
     "text": [
      "Model accuracy score : 0.6049\n"
     ]
    }
   ],
   "source": [
    "# instantiate the classifier \n",
    "rfc = RandomForestClassifier(n_estimators = 1000, random_state=0)\n",
    "\n",
    "# fit the model\n",
    "rfc.fit(X_train, y_train)\n",
    "\n",
    "# Predict the Test set results\n",
    "y_pred = rfc.predict(X_test)\n",
    "\n",
    "# Check accuracy score \n",
    "print('Model accuracy score : {0:0.4f}'. format(accuracy_score(y_test, y_pred)))"
   ]
  },
  {
   "cell_type": "code",
   "execution_count": 298,
   "id": "0cd4fd76-8611-4c8d-9d24-efa24ed2eed6",
   "metadata": {},
   "outputs": [
    {
     "data": {
      "text/plain": [
       "x11    0.147616\n",
       "x4     0.124118\n",
       "x5     0.120720\n",
       "x10    0.108407\n",
       "x8     0.084116\n",
       "x9     0.079470\n",
       "x3     0.066123\n",
       "x2     0.062171\n",
       "x6     0.061109\n",
       "x13    0.060154\n",
       "x1     0.059941\n",
       "x7     0.016761\n",
       "x12    0.009294\n",
       "dtype: float64"
      ]
     },
     "execution_count": 298,
     "metadata": {},
     "output_type": "execute_result"
    }
   ],
   "source": [
    "# view the feature scores\n",
    "feature_scores = pd.Series(rfc.feature_importances_, index=X_train.columns).sort_values(ascending=False)\n",
    "\n",
    "feature_scores"
   ]
  },
  {
   "cell_type": "code",
   "execution_count": 299,
   "id": "2479bf0f-69e6-4170-b1dc-53a8349e1921",
   "metadata": {},
   "outputs": [
    {
     "data": {
      "image/png": "[encoded data removed]",
      "text/plain": [
       "<Figure size 432x288 with 1 Axes>"
      ]
     },
     "metadata": {
      "needs_background": "light"
     },
     "output_type": "display_data"
    }
   ],
   "source": [
    "# Creating a seaborn bar plot\n",
    "sns.barplot(x=feature_scores, y=feature_scores.index)\n",
    "\n",
    "# Add labels to the graph\n",
    "plt.xlabel('Feature Importance Score')\n",
    "plt.ylabel('Features')\n",
    "\n",
    "# Add title to the graph\n",
    "plt.title(\"Visualizing Important Features\")\n",
    "\n",
    "# Visualize the graph\n",
    "plt.show()"
   ]
  },
  {
   "cell_type": "code",
   "execution_count": null,
   "id": "247c8dfb-f6e2-4f8c-bae2-d45ac0f33d43",
   "metadata": {},
   "outputs": [],
   "source": []
  },
  {
   "cell_type": "code",
   "execution_count": null,
   "id": "caa6277e-21b2-4a30-af1d-8eee299a66d3",
   "metadata": {},
   "outputs": [],
   "source": []
  }
 ],
 "metadata": {
  "kernelspec": {
   "display_name": "Python 3 (ipykernel)",
   "language": "python",
   "name": "python3"
  },
  "language_info": {
   "codemirror_mode": {
    "name": "ipython",
    "version": 3
   },
   "file_extension": ".py",
   "mimetype": "text/x-python",
   "name": "python",
   "nbconvert_exporter": "python",
   "pygments_lexer": "ipython3",
   "version": "3.8.11"
  }
 },
 "nbformat": 4,
 "nbformat_minor": 5
}
