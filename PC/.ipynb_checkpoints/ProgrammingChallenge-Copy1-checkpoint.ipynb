{
 "cells": [
  {
   "cell_type": "markdown",
   "id": "3657f376",
   "metadata": {},
   "source": [
    "Standardizzare le variabili,\n",
    "Togliere/sistemare outliers\n",
    "trasformare le variabili\n",
    "provare il modello mlp classifier"
   ]
  },
  {
   "cell_type": "code",
   "execution_count": null,
   "id": "ce8d3dcf",
   "metadata": {},
   "outputs": [],
   "source": [
    "import pandas as pd\n",
    "import numpy as np\n",
    "import seaborn as sb\n",
    "import matplotlib.pyplot as plt\n",
    "import pylab \n",
    "import scipy.stats as stats\n",
    "import math\n",
    "import sklearn\n",
    "from sklearn.preprocessing import OrdinalEncoder\n",
    "from sklearn.model_selection import GridSearchCV\n",
    "from sklearn.ensemble import RandomForestClassifier\n",
    "from sklearn.ensemble import AdaBoostClassifier\n",
    "from sklearn.ensemble import GradientBoostingClassifier\n",
    "from sklearn.neural_network import MLPClassifier\n",
    "from scipy.stats import boxcox\n",
    "from sklearn.preprocessing import StandardScaler\n",
    "from imblearn.over_sampling import SMOTE\n",
    "from collections import Counter\n",
    "from matplotlib import pyplot\n",
    "from sklearn.preprocessing import LabelEncoder"
   ]
  },
  {
   "cell_type": "markdown",
   "id": "4aa55e87",
   "metadata": {},
   "source": [
    "## Cleaning data"
   ]
  },
  {
   "cell_type": "code",
   "execution_count": null,
   "id": "566673d5",
   "metadata": {
    "scrolled": true
   },
   "outputs": [
    {
     "ename": "FileNotFoundError",
     "evalue": "[Errno 2] No such file or directory: 'Data\\\\TrainOnMe-2.csv'",
     "output_type": "error",
     "traceback": [
      "\u001b[1;31m---------------------------------------------------------------------------\u001b[0m",
      "\u001b[1;31mFileNotFoundError\u001b[0m                         Traceback (most recent call last)",
      "\u001b[1;32m~\\AppData\\Local\\Temp/ipykernel_41472/248196539.py\u001b[0m in \u001b[0;36m<module>\u001b[1;34m\u001b[0m\n\u001b[1;32m----> 1\u001b[1;33m \u001b[0mdf\u001b[0m \u001b[1;33m=\u001b[0m \u001b[0mpd\u001b[0m\u001b[1;33m.\u001b[0m\u001b[0mread_csv\u001b[0m\u001b[1;33m(\u001b[0m\u001b[1;34mr'Data\\TrainOnMe-2.csv'\u001b[0m\u001b[1;33m)\u001b[0m\u001b[1;33m\u001b[0m\u001b[1;33m\u001b[0m\u001b[0m\n\u001b[0m\u001b[0;32m      2\u001b[0m \u001b[0mdf\u001b[0m \u001b[1;33m=\u001b[0m \u001b[0mdf\u001b[0m\u001b[1;33m.\u001b[0m\u001b[0mdrop\u001b[0m\u001b[1;33m(\u001b[0m\u001b[0mdf\u001b[0m\u001b[1;33m.\u001b[0m\u001b[0mcolumns\u001b[0m\u001b[1;33m[\u001b[0m\u001b[1;36m0\u001b[0m\u001b[1;33m]\u001b[0m\u001b[1;33m,\u001b[0m \u001b[0maxis\u001b[0m\u001b[1;33m=\u001b[0m\u001b[1;36m1\u001b[0m\u001b[1;33m)\u001b[0m\u001b[1;33m\u001b[0m\u001b[1;33m\u001b[0m\u001b[0m\n\u001b[0;32m      3\u001b[0m \u001b[0mdf\u001b[0m\u001b[1;33m.\u001b[0m\u001b[0mhead\u001b[0m\u001b[1;33m(\u001b[0m\u001b[1;33m)\u001b[0m\u001b[1;33m\u001b[0m\u001b[1;33m\u001b[0m\u001b[0m\n",
      "\u001b[1;32m~\\anaconda3\\lib\\site-packages\\pandas\\util\\_decorators.py\u001b[0m in \u001b[0;36mwrapper\u001b[1;34m(*args, **kwargs)\u001b[0m\n\u001b[0;32m    309\u001b[0m                     \u001b[0mstacklevel\u001b[0m\u001b[1;33m=\u001b[0m\u001b[0mstacklevel\u001b[0m\u001b[1;33m,\u001b[0m\u001b[1;33m\u001b[0m\u001b[1;33m\u001b[0m\u001b[0m\n\u001b[0;32m    310\u001b[0m                 )\n\u001b[1;32m--> 311\u001b[1;33m             \u001b[1;32mreturn\u001b[0m \u001b[0mfunc\u001b[0m\u001b[1;33m(\u001b[0m\u001b[1;33m*\u001b[0m\u001b[0margs\u001b[0m\u001b[1;33m,\u001b[0m \u001b[1;33m**\u001b[0m\u001b[0mkwargs\u001b[0m\u001b[1;33m)\u001b[0m\u001b[1;33m\u001b[0m\u001b[1;33m\u001b[0m\u001b[0m\n\u001b[0m\u001b[0;32m    312\u001b[0m \u001b[1;33m\u001b[0m\u001b[0m\n\u001b[0;32m    313\u001b[0m         \u001b[1;32mreturn\u001b[0m \u001b[0mwrapper\u001b[0m\u001b[1;33m\u001b[0m\u001b[1;33m\u001b[0m\u001b[0m\n",
      "\u001b[1;32m~\\anaconda3\\lib\\site-packages\\pandas\\io\\parsers\\readers.py\u001b[0m in \u001b[0;36mread_csv\u001b[1;34m(filepath_or_buffer, sep, delimiter, header, names, index_col, usecols, squeeze, prefix, mangle_dupe_cols, dtype, engine, converters, true_values, false_values, skipinitialspace, skiprows, skipfooter, nrows, na_values, keep_default_na, na_filter, verbose, skip_blank_lines, parse_dates, infer_datetime_format, keep_date_col, date_parser, dayfirst, cache_dates, iterator, chunksize, compression, thousands, decimal, lineterminator, quotechar, quoting, doublequote, escapechar, comment, encoding, encoding_errors, dialect, error_bad_lines, warn_bad_lines, on_bad_lines, delim_whitespace, low_memory, memory_map, float_precision, storage_options)\u001b[0m\n\u001b[0;32m    584\u001b[0m     \u001b[0mkwds\u001b[0m\u001b[1;33m.\u001b[0m\u001b[0mupdate\u001b[0m\u001b[1;33m(\u001b[0m\u001b[0mkwds_defaults\u001b[0m\u001b[1;33m)\u001b[0m\u001b[1;33m\u001b[0m\u001b[1;33m\u001b[0m\u001b[0m\n\u001b[0;32m    585\u001b[0m \u001b[1;33m\u001b[0m\u001b[0m\n\u001b[1;32m--> 586\u001b[1;33m     \u001b[1;32mreturn\u001b[0m \u001b[0m_read\u001b[0m\u001b[1;33m(\u001b[0m\u001b[0mfilepath_or_buffer\u001b[0m\u001b[1;33m,\u001b[0m \u001b[0mkwds\u001b[0m\u001b[1;33m)\u001b[0m\u001b[1;33m\u001b[0m\u001b[1;33m\u001b[0m\u001b[0m\n\u001b[0m\u001b[0;32m    587\u001b[0m \u001b[1;33m\u001b[0m\u001b[0m\n\u001b[0;32m    588\u001b[0m \u001b[1;33m\u001b[0m\u001b[0m\n",
      "\u001b[1;32m~\\anaconda3\\lib\\site-packages\\pandas\\io\\parsers\\readers.py\u001b[0m in \u001b[0;36m_read\u001b[1;34m(filepath_or_buffer, kwds)\u001b[0m\n\u001b[0;32m    480\u001b[0m \u001b[1;33m\u001b[0m\u001b[0m\n\u001b[0;32m    481\u001b[0m     \u001b[1;31m# Create the parser.\u001b[0m\u001b[1;33m\u001b[0m\u001b[1;33m\u001b[0m\u001b[1;33m\u001b[0m\u001b[0m\n\u001b[1;32m--> 482\u001b[1;33m     \u001b[0mparser\u001b[0m \u001b[1;33m=\u001b[0m \u001b[0mTextFileReader\u001b[0m\u001b[1;33m(\u001b[0m\u001b[0mfilepath_or_buffer\u001b[0m\u001b[1;33m,\u001b[0m \u001b[1;33m**\u001b[0m\u001b[0mkwds\u001b[0m\u001b[1;33m)\u001b[0m\u001b[1;33m\u001b[0m\u001b[1;33m\u001b[0m\u001b[0m\n\u001b[0m\u001b[0;32m    483\u001b[0m \u001b[1;33m\u001b[0m\u001b[0m\n\u001b[0;32m    484\u001b[0m     \u001b[1;32mif\u001b[0m \u001b[0mchunksize\u001b[0m \u001b[1;32mor\u001b[0m \u001b[0miterator\u001b[0m\u001b[1;33m:\u001b[0m\u001b[1;33m\u001b[0m\u001b[1;33m\u001b[0m\u001b[0m\n",
      "\u001b[1;32m~\\anaconda3\\lib\\site-packages\\pandas\\io\\parsers\\readers.py\u001b[0m in \u001b[0;36m__init__\u001b[1;34m(self, f, engine, **kwds)\u001b[0m\n\u001b[0;32m    809\u001b[0m             \u001b[0mself\u001b[0m\u001b[1;33m.\u001b[0m\u001b[0moptions\u001b[0m\u001b[1;33m[\u001b[0m\u001b[1;34m\"has_index_names\"\u001b[0m\u001b[1;33m]\u001b[0m \u001b[1;33m=\u001b[0m \u001b[0mkwds\u001b[0m\u001b[1;33m[\u001b[0m\u001b[1;34m\"has_index_names\"\u001b[0m\u001b[1;33m]\u001b[0m\u001b[1;33m\u001b[0m\u001b[1;33m\u001b[0m\u001b[0m\n\u001b[0;32m    810\u001b[0m \u001b[1;33m\u001b[0m\u001b[0m\n\u001b[1;32m--> 811\u001b[1;33m         \u001b[0mself\u001b[0m\u001b[1;33m.\u001b[0m\u001b[0m_engine\u001b[0m \u001b[1;33m=\u001b[0m \u001b[0mself\u001b[0m\u001b[1;33m.\u001b[0m\u001b[0m_make_engine\u001b[0m\u001b[1;33m(\u001b[0m\u001b[0mself\u001b[0m\u001b[1;33m.\u001b[0m\u001b[0mengine\u001b[0m\u001b[1;33m)\u001b[0m\u001b[1;33m\u001b[0m\u001b[1;33m\u001b[0m\u001b[0m\n\u001b[0m\u001b[0;32m    812\u001b[0m \u001b[1;33m\u001b[0m\u001b[0m\n\u001b[0;32m    813\u001b[0m     \u001b[1;32mdef\u001b[0m \u001b[0mclose\u001b[0m\u001b[1;33m(\u001b[0m\u001b[0mself\u001b[0m\u001b[1;33m)\u001b[0m\u001b[1;33m:\u001b[0m\u001b[1;33m\u001b[0m\u001b[1;33m\u001b[0m\u001b[0m\n",
      "\u001b[1;32m~\\anaconda3\\lib\\site-packages\\pandas\\io\\parsers\\readers.py\u001b[0m in \u001b[0;36m_make_engine\u001b[1;34m(self, engine)\u001b[0m\n\u001b[0;32m   1038\u001b[0m             )\n\u001b[0;32m   1039\u001b[0m         \u001b[1;31m# error: Too many arguments for \"ParserBase\"\u001b[0m\u001b[1;33m\u001b[0m\u001b[1;33m\u001b[0m\u001b[1;33m\u001b[0m\u001b[0m\n\u001b[1;32m-> 1040\u001b[1;33m         \u001b[1;32mreturn\u001b[0m \u001b[0mmapping\u001b[0m\u001b[1;33m[\u001b[0m\u001b[0mengine\u001b[0m\u001b[1;33m]\u001b[0m\u001b[1;33m(\u001b[0m\u001b[0mself\u001b[0m\u001b[1;33m.\u001b[0m\u001b[0mf\u001b[0m\u001b[1;33m,\u001b[0m \u001b[1;33m**\u001b[0m\u001b[0mself\u001b[0m\u001b[1;33m.\u001b[0m\u001b[0moptions\u001b[0m\u001b[1;33m)\u001b[0m  \u001b[1;31m# type: ignore[call-arg]\u001b[0m\u001b[1;33m\u001b[0m\u001b[1;33m\u001b[0m\u001b[0m\n\u001b[0m\u001b[0;32m   1041\u001b[0m \u001b[1;33m\u001b[0m\u001b[0m\n\u001b[0;32m   1042\u001b[0m     \u001b[1;32mdef\u001b[0m \u001b[0m_failover_to_python\u001b[0m\u001b[1;33m(\u001b[0m\u001b[0mself\u001b[0m\u001b[1;33m)\u001b[0m\u001b[1;33m:\u001b[0m\u001b[1;33m\u001b[0m\u001b[1;33m\u001b[0m\u001b[0m\n",
      "\u001b[1;32m~\\anaconda3\\lib\\site-packages\\pandas\\io\\parsers\\c_parser_wrapper.py\u001b[0m in \u001b[0;36m__init__\u001b[1;34m(self, src, **kwds)\u001b[0m\n\u001b[0;32m     49\u001b[0m \u001b[1;33m\u001b[0m\u001b[0m\n\u001b[0;32m     50\u001b[0m         \u001b[1;31m# open handles\u001b[0m\u001b[1;33m\u001b[0m\u001b[1;33m\u001b[0m\u001b[1;33m\u001b[0m\u001b[0m\n\u001b[1;32m---> 51\u001b[1;33m         \u001b[0mself\u001b[0m\u001b[1;33m.\u001b[0m\u001b[0m_open_handles\u001b[0m\u001b[1;33m(\u001b[0m\u001b[0msrc\u001b[0m\u001b[1;33m,\u001b[0m \u001b[0mkwds\u001b[0m\u001b[1;33m)\u001b[0m\u001b[1;33m\u001b[0m\u001b[1;33m\u001b[0m\u001b[0m\n\u001b[0m\u001b[0;32m     52\u001b[0m         \u001b[1;32massert\u001b[0m \u001b[0mself\u001b[0m\u001b[1;33m.\u001b[0m\u001b[0mhandles\u001b[0m \u001b[1;32mis\u001b[0m \u001b[1;32mnot\u001b[0m \u001b[1;32mNone\u001b[0m\u001b[1;33m\u001b[0m\u001b[1;33m\u001b[0m\u001b[0m\n\u001b[0;32m     53\u001b[0m \u001b[1;33m\u001b[0m\u001b[0m\n",
      "\u001b[1;32m~\\anaconda3\\lib\\site-packages\\pandas\\io\\parsers\\base_parser.py\u001b[0m in \u001b[0;36m_open_handles\u001b[1;34m(self, src, kwds)\u001b[0m\n\u001b[0;32m    220\u001b[0m         \u001b[0mLet\u001b[0m \u001b[0mthe\u001b[0m \u001b[0mreaders\u001b[0m \u001b[0mopen\u001b[0m \u001b[0mIOHandles\u001b[0m \u001b[0mafter\u001b[0m \u001b[0mthey\u001b[0m \u001b[0mare\u001b[0m \u001b[0mdone\u001b[0m \u001b[1;32mwith\u001b[0m \u001b[0mtheir\u001b[0m \u001b[0mpotential\u001b[0m \u001b[0mraises\u001b[0m\u001b[1;33m.\u001b[0m\u001b[1;33m\u001b[0m\u001b[1;33m\u001b[0m\u001b[0m\n\u001b[0;32m    221\u001b[0m         \"\"\"\n\u001b[1;32m--> 222\u001b[1;33m         self.handles = get_handle(\n\u001b[0m\u001b[0;32m    223\u001b[0m             \u001b[0msrc\u001b[0m\u001b[1;33m,\u001b[0m\u001b[1;33m\u001b[0m\u001b[1;33m\u001b[0m\u001b[0m\n\u001b[0;32m    224\u001b[0m             \u001b[1;34m\"r\"\u001b[0m\u001b[1;33m,\u001b[0m\u001b[1;33m\u001b[0m\u001b[1;33m\u001b[0m\u001b[0m\n",
      "\u001b[1;32m~\\anaconda3\\lib\\site-packages\\pandas\\io\\common.py\u001b[0m in \u001b[0;36mget_handle\u001b[1;34m(path_or_buf, mode, encoding, compression, memory_map, is_text, errors, storage_options)\u001b[0m\n\u001b[0;32m    700\u001b[0m         \u001b[1;32mif\u001b[0m \u001b[0mioargs\u001b[0m\u001b[1;33m.\u001b[0m\u001b[0mencoding\u001b[0m \u001b[1;32mand\u001b[0m \u001b[1;34m\"b\"\u001b[0m \u001b[1;32mnot\u001b[0m \u001b[1;32min\u001b[0m \u001b[0mioargs\u001b[0m\u001b[1;33m.\u001b[0m\u001b[0mmode\u001b[0m\u001b[1;33m:\u001b[0m\u001b[1;33m\u001b[0m\u001b[1;33m\u001b[0m\u001b[0m\n\u001b[0;32m    701\u001b[0m             \u001b[1;31m# Encoding\u001b[0m\u001b[1;33m\u001b[0m\u001b[1;33m\u001b[0m\u001b[1;33m\u001b[0m\u001b[0m\n\u001b[1;32m--> 702\u001b[1;33m             handle = open(\n\u001b[0m\u001b[0;32m    703\u001b[0m                 \u001b[0mhandle\u001b[0m\u001b[1;33m,\u001b[0m\u001b[1;33m\u001b[0m\u001b[1;33m\u001b[0m\u001b[0m\n\u001b[0;32m    704\u001b[0m                 \u001b[0mioargs\u001b[0m\u001b[1;33m.\u001b[0m\u001b[0mmode\u001b[0m\u001b[1;33m,\u001b[0m\u001b[1;33m\u001b[0m\u001b[1;33m\u001b[0m\u001b[0m\n",
      "\u001b[1;31mFileNotFoundError\u001b[0m: [Errno 2] No such file or directory: 'Data\\\\TrainOnMe-2.csv'"
     ]
    }
   ],
   "source": [
    "df = pd.read_csv('C:\\\\Users\\\\carlo\\\\Desktop\\\\kth\\\\ML\\\\programming_challenge\\\\TrainOnMe-2.csv')\n",
    "df = df.drop(df.columns[0], axis=1)  \n",
    "df.head()"
   ]
  },
  {
   "cell_type": "markdown",
   "id": "f6c07def",
   "metadata": {},
   "source": [
    "##### Get rid of rows with Nan values and rows where X6 == some youtube link. Trnsform X6 into float column"
   ]
  },
  {
   "cell_type": "code",
   "execution_count": null,
   "id": "9da08f8f",
   "metadata": {
    "scrolled": true
   },
   "outputs": [
    {
     "ename": "NameError",
     "evalue": "name 'df' is not defined",
     "output_type": "error",
     "traceback": [
      "\u001b[1;31m---------------------------------------------------------------------------\u001b[0m",
      "\u001b[1;31mNameError\u001b[0m                                 Traceback (most recent call last)",
      "\u001b[1;32m~\\AppData\\Local\\Temp/ipykernel_41472/1115587243.py\u001b[0m in \u001b[0;36m<module>\u001b[1;34m\u001b[0m\n\u001b[1;32m----> 1\u001b[1;33m \u001b[0mdf\u001b[0m \u001b[1;33m=\u001b[0m \u001b[0mdf\u001b[0m\u001b[1;33m.\u001b[0m\u001b[0mdropna\u001b[0m\u001b[1;33m(\u001b[0m\u001b[1;33m)\u001b[0m\u001b[1;33m[\u001b[0m\u001b[1;33m~\u001b[0m\u001b[0mdf\u001b[0m\u001b[1;33m.\u001b[0m\u001b[0mdropna\u001b[0m\u001b[1;33m(\u001b[0m\u001b[1;33m)\u001b[0m\u001b[1;33m[\u001b[0m\u001b[1;34m'x6'\u001b[0m\u001b[1;33m]\u001b[0m\u001b[1;33m.\u001b[0m\u001b[0mstr\u001b[0m\u001b[1;33m.\u001b[0m\u001b[0mcontains\u001b[0m\u001b[1;33m(\u001b[0m\u001b[1;34m'http'\u001b[0m\u001b[1;33m)\u001b[0m\u001b[1;33m]\u001b[0m\u001b[1;33m\u001b[0m\u001b[1;33m\u001b[0m\u001b[0m\n\u001b[0m\u001b[0;32m      2\u001b[0m \u001b[0mdf\u001b[0m\u001b[1;33m.\u001b[0m\u001b[0mdropna\u001b[0m\u001b[1;33m(\u001b[0m\u001b[1;33m)\u001b[0m\u001b[1;33m\u001b[0m\u001b[1;33m\u001b[0m\u001b[0m\n\u001b[0;32m      3\u001b[0m \u001b[0mdf\u001b[0m\u001b[1;33m[\u001b[0m\u001b[1;34m'x6'\u001b[0m\u001b[1;33m]\u001b[0m \u001b[1;33m=\u001b[0m \u001b[0mdf\u001b[0m\u001b[1;33m[\u001b[0m\u001b[1;34m'x6'\u001b[0m\u001b[1;33m]\u001b[0m\u001b[1;33m.\u001b[0m\u001b[0mastype\u001b[0m\u001b[1;33m(\u001b[0m\u001b[0mfloat\u001b[0m\u001b[1;33m)\u001b[0m\u001b[1;33m\u001b[0m\u001b[1;33m\u001b[0m\u001b[0m\n\u001b[0;32m      4\u001b[0m \u001b[0mdf\u001b[0m\u001b[1;33m.\u001b[0m\u001b[0minfo\u001b[0m\u001b[1;33m(\u001b[0m\u001b[1;33m)\u001b[0m\u001b[1;33m\u001b[0m\u001b[1;33m\u001b[0m\u001b[0m\n",
      "\u001b[1;31mNameError\u001b[0m: name 'df' is not defined"
     ]
    }
   ],
   "source": [
    "df = df.dropna()[~df.dropna()['x6'].str.contains('http')]\n",
    "df.dropna()\n",
    "df['x6'] = df['x6'].astype(float)\n",
    "df.info()"
   ]
  },
  {
   "cell_type": "markdown",
   "id": "fd03d5a7",
   "metadata": {},
   "source": [
    "## Get to know the data"
   ]
  },
  {
   "cell_type": "code",
   "execution_count": null,
   "id": "9070d6c0",
   "metadata": {},
   "outputs": [],
   "source": [
    "df['y'].value_counts()"
   ]
  },
  {
   "cell_type": "markdown",
   "id": "89c1b398",
   "metadata": {},
   "source": [
    "the dataset is not very balance, maybe do oversampling for Atsuto. Also, since the algorithm seems to classify the class Shoogee pretty bad, I will over sample this class a bit too. I'll try to oversample a less as I can to avoid overfitting."
   ]
  },
  {
   "cell_type": "markdown",
   "id": "b10f33f2",
   "metadata": {},
   "source": [
    "#### Transform x12 in dummy and x7 in ordinal variables, and Oversampling"
   ]
  },
  {
   "cell_type": "code",
   "execution_count": null,
   "id": "3b59677c",
   "metadata": {},
   "outputs": [],
   "source": [
    "df['x12'] = pd.get_dummies(df['x12'], drop_first=True)\n",
    "ord_enc = OrdinalEncoder()\n",
    "df[\"x7\"] = ord_enc.fit_transform(df[[\"x7\"]])"
   ]
  },
  {
   "cell_type": "code",
   "execution_count": null,
   "id": "9d090ff8",
   "metadata": {},
   "outputs": [],
   "source": [
    "df, y = df[['x1','x2','x3','x4','x5','x6','x7','x8','x9','x10','x11','x12','x13']], df['y']\n",
    "# transform the dataset\n",
    "strategy = {'Jorg' :342, 'Shoogee':290, 'Bob':268, 'Atsuto':220}\n",
    "oversample = SMOTE(sampling_strategy=strategy)\n",
    "df, y = oversample.fit_resample(df, y)\n",
    "df['x7'] = np.round(df['x7'])"
   ]
  },
  {
   "cell_type": "code",
   "execution_count": 93,
   "id": "eef9dcbb",
   "metadata": {},
   "outputs": [
    {
     "data": {
      "text/plain": [
       "2.0    415\n",
       "1.0    392\n",
       "4.0    148\n",
       "0.0    144\n",
       "3.0     21\n",
       "Name: x7, dtype: int64"
      ]
     },
     "execution_count": 93,
     "metadata": {},
     "output_type": "execute_result"
    }
   ],
   "source": [
    "df['x7'].value_counts()"
   ]
  },
  {
   "cell_type": "markdown",
   "id": "87acafea",
   "metadata": {},
   "source": [
    "## Collinearity "
   ]
  },
  {
   "cell_type": "code",
   "execution_count": 94,
   "id": "e272f76a",
   "metadata": {
    "scrolled": true
   },
   "outputs": [
    {
     "name": "stdout",
     "output_type": "stream",
     "text": [
      "x13    0.999456\n",
      "x2     0.294753\n",
      "x6     0.290406\n",
      "x3     0.287084\n",
      "x5     0.039116\n",
      "x8     0.036705\n",
      "x10    0.034798\n",
      "x11    0.032877\n",
      "x4     0.029645\n",
      "x9     0.017050\n",
      "Name: x1, dtype: float64\n"
     ]
    },
    {
     "data": {
      "text/plain": [
       "<AxesSubplot:>"
      ]
     },
     "execution_count": 94,
     "metadata": {},
     "output_type": "execute_result"
    },
    {
     "data": {
      "image/png": "[encoded data removed]",
      "text/plain": [
       "<Figure size 2160x720 with 2 Axes>"
      ]
     },
     "metadata": {
      "needs_background": "light"
     },
     "output_type": "display_data"
    }
   ],
   "source": [
    "corr = df[['x1','x2','x3','x4','x5','x6','x8','x9','x10','x11','x13']].corr()\n",
    "C=abs(corr[\"x1\"]).sort_values(ascending=False)[1:]\n",
    "print(C)\n",
    "plt.figure(figsize=(30,10))\n",
    "sb.heatmap(corr, cmap='coolwarm', annot = True)"
   ]
  },
  {
   "cell_type": "markdown",
   "id": "f01116e3",
   "metadata": {},
   "source": [
    "X1 and X13, x2 and X6 are perfectly correlated. Get rid of x1 and x2"
   ]
  },
  {
   "cell_type": "code",
   "execution_count": 95,
   "id": "e02bd1cc",
   "metadata": {},
   "outputs": [
    {
     "name": "stdout",
     "output_type": "stream",
     "text": [
      "<class 'pandas.core.frame.DataFrame'>\n",
      "RangeIndex: 1120 entries, 0 to 1119\n",
      "Data columns (total 11 columns):\n",
      " #   Column  Non-Null Count  Dtype  \n",
      "---  ------  --------------  -----  \n",
      " 0   x3      1120 non-null   float64\n",
      " 1   x4      1120 non-null   float64\n",
      " 2   x5      1120 non-null   float64\n",
      " 3   x6      1120 non-null   float64\n",
      " 4   x7      1120 non-null   float64\n",
      " 5   x8      1120 non-null   float64\n",
      " 6   x9      1120 non-null   float64\n",
      " 7   x10     1120 non-null   float64\n",
      " 8   x11     1120 non-null   float64\n",
      " 9   x12     1120 non-null   uint8  \n",
      " 10  x13     1120 non-null   float64\n",
      "dtypes: float64(10), uint8(1)\n",
      "memory usage: 88.7 KB\n"
     ]
    }
   ],
   "source": [
    "df = df[['x3','x4','x5','x6','x7','x8','x9','x10','x11','x12','x13']]#'y'\n",
    "df.info()"
   ]
  },
  {
   "cell_type": "code",
   "execution_count": 96,
   "id": "0620c826",
   "metadata": {},
   "outputs": [
    {
     "data": {
      "text/html": [
       "<div>\n",
       "<style scoped>\n",
       "    .dataframe tbody tr th:only-of-type {\n",
       "        vertical-align: middle;\n",
       "    }\n",
       "\n",
       "    .dataframe tbody tr th {\n",
       "        vertical-align: top;\n",
       "    }\n",
       "\n",
       "    .dataframe thead th {\n",
       "        text-align: right;\n",
       "    }\n",
       "</style>\n",
       "<table border=\"1\" class=\"dataframe\">\n",
       "  <thead>\n",
       "    <tr style=\"text-align: right;\">\n",
       "      <th></th>\n",
       "      <th>x3</th>\n",
       "      <th>x4</th>\n",
       "      <th>x5</th>\n",
       "      <th>x6</th>\n",
       "      <th>x7</th>\n",
       "      <th>x8</th>\n",
       "      <th>x9</th>\n",
       "      <th>x10</th>\n",
       "      <th>x11</th>\n",
       "      <th>x12</th>\n",
       "      <th>x13</th>\n",
       "    </tr>\n",
       "  </thead>\n",
       "  <tbody>\n",
       "    <tr>\n",
       "      <th>count</th>\n",
       "      <td>1120.000000</td>\n",
       "      <td>1.120000e+03</td>\n",
       "      <td>1120.000000</td>\n",
       "      <td>1120.000000</td>\n",
       "      <td>1120.000000</td>\n",
       "      <td>1120.000000</td>\n",
       "      <td>1120.000000</td>\n",
       "      <td>1120.000000</td>\n",
       "      <td>1.120000e+03</td>\n",
       "      <td>1120.000000</td>\n",
       "      <td>1120.000000</td>\n",
       "    </tr>\n",
       "    <tr>\n",
       "      <th>mean</th>\n",
       "      <td>-1.073678</td>\n",
       "      <td>-8.036634e+04</td>\n",
       "      <td>10.306828</td>\n",
       "      <td>0.026837</td>\n",
       "      <td>1.675893</td>\n",
       "      <td>-0.010550</td>\n",
       "      <td>0.014726</td>\n",
       "      <td>-8.713669</td>\n",
       "      <td>8.928571e+17</td>\n",
       "      <td>0.347321</td>\n",
       "      <td>47.819232</td>\n",
       "    </tr>\n",
       "    <tr>\n",
       "      <th>std</th>\n",
       "      <td>3.200691</td>\n",
       "      <td>2.689264e+06</td>\n",
       "      <td>0.259405</td>\n",
       "      <td>0.693923</td>\n",
       "      <td>1.143560</td>\n",
       "      <td>1.226985</td>\n",
       "      <td>1.353984</td>\n",
       "      <td>1.574010</td>\n",
       "      <td>2.988072e+19</td>\n",
       "      <td>0.476332</td>\n",
       "      <td>46.465810</td>\n",
       "    </tr>\n",
       "    <tr>\n",
       "      <th>min</th>\n",
       "      <td>-11.985670</td>\n",
       "      <td>-9.000000e+07</td>\n",
       "      <td>9.781430</td>\n",
       "      <td>-2.115920</td>\n",
       "      <td>0.000000</td>\n",
       "      <td>-5.271550</td>\n",
       "      <td>-5.259760</td>\n",
       "      <td>-14.571440</td>\n",
       "      <td>-6.000520e+00</td>\n",
       "      <td>0.000000</td>\n",
       "      <td>-87.163650</td>\n",
       "    </tr>\n",
       "    <tr>\n",
       "      <th>25%</th>\n",
       "      <td>-3.220503</td>\n",
       "      <td>-9.483390e+00</td>\n",
       "      <td>10.112097</td>\n",
       "      <td>-0.443240</td>\n",
       "      <td>1.000000</td>\n",
       "      <td>-0.711113</td>\n",
       "      <td>-0.793255</td>\n",
       "      <td>-9.727945</td>\n",
       "      <td>-2.018558e+00</td>\n",
       "      <td>0.000000</td>\n",
       "      <td>17.384145</td>\n",
       "    </tr>\n",
       "    <tr>\n",
       "      <th>50%</th>\n",
       "      <td>-1.257595</td>\n",
       "      <td>-9.221830e+00</td>\n",
       "      <td>10.290202</td>\n",
       "      <td>0.027005</td>\n",
       "      <td>2.000000</td>\n",
       "      <td>0.009655</td>\n",
       "      <td>0.039090</td>\n",
       "      <td>-8.695385</td>\n",
       "      <td>-1.150030e+00</td>\n",
       "      <td>0.000000</td>\n",
       "      <td>46.620590</td>\n",
       "    </tr>\n",
       "    <tr>\n",
       "      <th>75%</th>\n",
       "      <td>1.116590</td>\n",
       "      <td>-8.945742e+00</td>\n",
       "      <td>10.491660</td>\n",
       "      <td>0.491115</td>\n",
       "      <td>2.000000</td>\n",
       "      <td>0.719365</td>\n",
       "      <td>0.880748</td>\n",
       "      <td>-7.702895</td>\n",
       "      <td>-1.350431e-02</td>\n",
       "      <td>1.000000</td>\n",
       "      <td>77.035185</td>\n",
       "    </tr>\n",
       "    <tr>\n",
       "      <th>max</th>\n",
       "      <td>8.743360</td>\n",
       "      <td>-8.292200e+00</td>\n",
       "      <td>10.992940</td>\n",
       "      <td>1.949280</td>\n",
       "      <td>4.000000</td>\n",
       "      <td>4.038190</td>\n",
       "      <td>4.813840</td>\n",
       "      <td>-3.201190</td>\n",
       "      <td>1.000000e+21</td>\n",
       "      <td>1.000000</td>\n",
       "      <td>197.648100</td>\n",
       "    </tr>\n",
       "  </tbody>\n",
       "</table>\n",
       "</div>"
      ],
      "text/plain": [
       "                x3            x4           x5           x6           x7  \\\n",
       "count  1120.000000  1.120000e+03  1120.000000  1120.000000  1120.000000   \n",
       "mean     -1.073678 -8.036634e+04    10.306828     0.026837     1.675893   \n",
       "std       3.200691  2.689264e+06     0.259405     0.693923     1.143560   \n",
       "min     -11.985670 -9.000000e+07     9.781430    -2.115920     0.000000   \n",
       "25%      -3.220503 -9.483390e+00    10.112097    -0.443240     1.000000   \n",
       "50%      -1.257595 -9.221830e+00    10.290202     0.027005     2.000000   \n",
       "75%       1.116590 -8.945742e+00    10.491660     0.491115     2.000000   \n",
       "max       8.743360 -8.292200e+00    10.992940     1.949280     4.000000   \n",
       "\n",
       "                x8           x9          x10           x11          x12  \\\n",
       "count  1120.000000  1120.000000  1120.000000  1.120000e+03  1120.000000   \n",
       "mean     -0.010550     0.014726    -8.713669  8.928571e+17     0.347321   \n",
       "std       1.226985     1.353984     1.574010  2.988072e+19     0.476332   \n",
       "min      -5.271550    -5.259760   -14.571440 -6.000520e+00     0.000000   \n",
       "25%      -0.711113    -0.793255    -9.727945 -2.018558e+00     0.000000   \n",
       "50%       0.009655     0.039090    -8.695385 -1.150030e+00     0.000000   \n",
       "75%       0.719365     0.880748    -7.702895 -1.350431e-02     1.000000   \n",
       "max       4.038190     4.813840    -3.201190  1.000000e+21     1.000000   \n",
       "\n",
       "               x13  \n",
       "count  1120.000000  \n",
       "mean     47.819232  \n",
       "std      46.465810  \n",
       "min     -87.163650  \n",
       "25%      17.384145  \n",
       "50%      46.620590  \n",
       "75%      77.035185  \n",
       "max     197.648100  "
      ]
     },
     "execution_count": 96,
     "metadata": {},
     "output_type": "execute_result"
    }
   ],
   "source": [
    "df.describe()"
   ]
  },
  {
   "cell_type": "markdown",
   "id": "5f2323ea",
   "metadata": {},
   "source": [
    "X13 has a very high sd--> sd=47, x11 seems to have some problem as well\n",
    "Also some variables need to be transformed since their mean is not equal to thei mode"
   ]
  },
  {
   "cell_type": "markdown",
   "id": "7973078d",
   "metadata": {},
   "source": [
    "## Variable transformation"
   ]
  },
  {
   "cell_type": "markdown",
   "id": "45f44153",
   "metadata": {},
   "source": [
    "#### First, get rid of two extreme values for x11 and x4. Replace with x11 and x4 means."
   ]
  },
  {
   "cell_type": "code",
   "execution_count": 97,
   "id": "502d87ca",
   "metadata": {},
   "outputs": [],
   "source": [
    "df_nout11 = df[df['x11'] < 500000]\n",
    "df_nout4 = df[df['x4'] > -90000]\n",
    "mean_x11 = np.mean(df_nout11['x11'])\n",
    "mean_x4 = np.mean(df_nout4['x4'])\n",
    "\n",
    "df.loc[df['x4'].idxmin(),'x4'] = mean_x4\n",
    "df.loc[df['x11'].idxmax(),'x11'] = mean_x11\n"
   ]
  },
  {
   "cell_type": "markdown",
   "id": "fbd6e288",
   "metadata": {},
   "source": [
    "### Transform x11 with box-cox"
   ]
  },
  {
   "cell_type": "code",
   "execution_count": 98,
   "id": "d54c0317",
   "metadata": {},
   "outputs": [
    {
     "data": {
      "image/png": "[encoded data removed]",
      "text/plain": [
       "<Figure size 432x288 with 1 Axes>"
      ]
     },
     "metadata": {
      "needs_background": "light"
     },
     "output_type": "display_data"
    }
   ],
   "source": [
    "stats.probplot(df['x11'], dist=\"norm\", plot=plt)\n",
    "plt.show()"
   ]
  },
  {
   "cell_type": "code",
   "execution_count": 99,
   "id": "6b7b827e",
   "metadata": {
    "scrolled": true
   },
   "outputs": [
    {
     "data": {
      "image/png": "[encoded data removed]",
      "text/plain": [
       "<Figure size 432x288 with 1 Axes>"
      ]
     },
     "metadata": {
      "needs_background": "light"
     },
     "output_type": "display_data"
    }
   ],
   "source": [
    "trans_x11, fitted_lambda11 = boxcox(np.exp(df['x11'].values))\n",
    "stats.probplot(trans_x11, dist=\"norm\", plot=plt)\n",
    "plt.show()"
   ]
  },
  {
   "cell_type": "markdown",
   "id": "b03bba1c",
   "metadata": {},
   "source": [
    "### Transform x5"
   ]
  },
  {
   "cell_type": "code",
   "execution_count": 100,
   "id": "dabe6050",
   "metadata": {},
   "outputs": [
    {
     "data": {
      "image/png": "[encoded data removed]",
      "text/plain": [
       "<Figure size 432x288 with 1 Axes>"
      ]
     },
     "metadata": {
      "needs_background": "light"
     },
     "output_type": "display_data"
    }
   ],
   "source": [
    "stats.probplot(df['x5'], dist=\"norm\", plot=plt)\n",
    "plt.show()"
   ]
  },
  {
   "cell_type": "code",
   "execution_count": 101,
   "id": "8d7c8669",
   "metadata": {
    "scrolled": true
   },
   "outputs": [
    {
     "data": {
      "image/png": "[encoded data removed]",
      "text/plain": [
       "<Figure size 432x288 with 1 Axes>"
      ]
     },
     "metadata": {
      "needs_background": "light"
     },
     "output_type": "display_data"
    }
   ],
   "source": [
    "trans_x5, fitted_lambda5 = boxcox(df['x5'].values)\n",
    "stats.probplot(trans_x5, dist=\"norm\", plot=plt)\n",
    "plt.show()"
   ]
  },
  {
   "cell_type": "markdown",
   "id": "5f19d576",
   "metadata": {},
   "source": [
    "### Transform x4"
   ]
  },
  {
   "cell_type": "code",
   "execution_count": 102,
   "id": "1f96f5d2",
   "metadata": {},
   "outputs": [
    {
     "data": {
      "image/png": "[encoded data removed]",
      "text/plain": [
       "<Figure size 432x288 with 1 Axes>"
      ]
     },
     "metadata": {
      "needs_background": "light"
     },
     "output_type": "display_data"
    }
   ],
   "source": [
    "stats.probplot(df['x4'], dist=\"norm\", plot=plt)\n",
    "plt.show()"
   ]
  },
  {
   "cell_type": "code",
   "execution_count": 103,
   "id": "7226c61f",
   "metadata": {},
   "outputs": [
    {
     "data": {
      "image/png": "[encoded data removed]",
      "text/plain": [
       "<Figure size 432x288 with 1 Axes>"
      ]
     },
     "metadata": {
      "needs_background": "light"
     },
     "output_type": "display_data"
    }
   ],
   "source": [
    "trans_x4, fitted_lambda4 = boxcox(np.exp(df['x4']).values)\n",
    "stats.probplot(trans_x4, dist=\"norm\", plot=plt)\n",
    "plt.show()"
   ]
  },
  {
   "cell_type": "code",
   "execution_count": 104,
   "id": "eb1a9f50",
   "metadata": {},
   "outputs": [
    {
     "name": "stdout",
     "output_type": "stream",
     "text": [
      "<class 'pandas.core.frame.DataFrame'>\n",
      "RangeIndex: 1120 entries, 0 to 1119\n",
      "Data columns (total 11 columns):\n",
      " #   Column     Non-Null Count  Dtype  \n",
      "---  ------     --------------  -----  \n",
      " 0   x3         1120 non-null   float64\n",
      " 1   trans_x4   1120 non-null   float64\n",
      " 2   trans_x5   1120 non-null   float64\n",
      " 3   x6         1120 non-null   float64\n",
      " 4   x7         1120 non-null   float64\n",
      " 5   x8         1120 non-null   float64\n",
      " 6   x9         1120 non-null   float64\n",
      " 7   x10        1120 non-null   float64\n",
      " 8   x12        1120 non-null   uint8  \n",
      " 9   trans_x11  1120 non-null   float64\n",
      " 10  x13        1120 non-null   float64\n",
      "dtypes: float64(10), uint8(1)\n",
      "memory usage: 88.7 KB\n"
     ]
    }
   ],
   "source": [
    "df = df[['x3','x6','x7','x8','x9','x10','x12','x13']]\n",
    "df.insert(loc=1, column='trans_x4',value=trans_x4)\n",
    "df.insert(loc=2, column='trans_x5',value=trans_x5)\n",
    "df.insert(loc=9, column='trans_x11',value=trans_x11)\n",
    "df.info()"
   ]
  },
  {
   "cell_type": "markdown",
   "id": "5fadd597",
   "metadata": {},
   "source": [
    "## Outliers"
   ]
  },
  {
   "cell_type": "code",
   "execution_count": 105,
   "id": "fce66f6c",
   "metadata": {},
   "outputs": [
    {
     "data": {
      "text/plain": [
       "<AxesSubplot:>"
      ]
     },
     "execution_count": 105,
     "metadata": {},
     "output_type": "execute_result"
    },
    {
     "data": {
      "image/png": "[encoded data removed]",
      "text/plain": [
       "<Figure size 2160x1440 with 1 Axes>"
      ]
     },
     "metadata": {
      "needs_background": "light"
     },
     "output_type": "display_data"
    }
   ],
   "source": [
    "cont_variables = ['x3','trans_x4','trans_x5','x6','x8','x9','x10','trans_x11', 'x13']\n",
    "plt.figure(figsize=(30,20))\n",
    "sb.boxplot(data=df[cont_variables])"
   ]
  },
  {
   "cell_type": "code",
   "execution_count": 106,
   "id": "7eddc06a",
   "metadata": {},
   "outputs": [
    {
     "name": "stdout",
     "output_type": "stream",
     "text": [
      "Outliers: [-5.961834920669522, -7.123973373758664, -9.451022176796137, -7.549949592288461, -6.096429141279518, -6.975973060218078, -9.105997588355889, -7.544387589272866, 3.969953687279313, -6.850805950425064, 3.5950886699797566, 4.365341996574265, -6.545789429391465, -5.826938237552459, 3.7446404099198003, 3.5521554162324622, -5.9531001802689465, -6.956475689552909, -6.921005284330313, 4.01301299559297, 3.5979181036842744, -6.157153620395109, 3.546478507959399]\n"
     ]
    }
   ],
   "source": [
    "out=[]\n",
    "def iqr_outliers(df):\n",
    "    q1 = df.quantile(0.25)\n",
    "    q3 = df.quantile(0.75)\n",
    "    iqr = q3-q1\n",
    "    Lower_tail = q1 - 1.5 * iqr\n",
    "    Upper_tail = q3 + 1.5 * iqr\n",
    "    for i in df:\n",
    "        if i > Upper_tail or i < Lower_tail:\n",
    "            out.append(i)\n",
    "    print(\"Outliers:\",out)\n",
    "iqr_outliers(df['trans_x11'])"
   ]
  },
  {
   "cell_type": "code",
   "execution_count": 107,
   "id": "da314777",
   "metadata": {},
   "outputs": [],
   "source": [
    "def lower_tail(df):\n",
    "    q1 = df.quantile(0.25)\n",
    "    q3 = df.quantile(0.75)\n",
    "    iqr = q3-q1\n",
    "    Lower_tail = q1 - 1.8 * iqr\n",
    "    return Lower_tail\n",
    "def upper_tail(df):\n",
    "    q1 = df.quantile(0.25)\n",
    "    q3 = df.quantile(0.75)\n",
    "    iqr = q3-q1\n",
    "    Upper_tail = q3 + 1.8 * iqr\n",
    "    return Upper_tail"
   ]
  },
  {
   "cell_type": "code",
   "execution_count": 108,
   "id": "5a325b9e",
   "metadata": {},
   "outputs": [],
   "source": [
    "for v in ['x3','trans_x4','trans_x5','x6','x8','x9','x10','trans_x11', 'x13']:\n",
    "    df.loc[df[v]> upper_tail(df[v]), v]=upper_tail(df[v]) \n",
    "for v in ['x3','trans_x4','trans_x5','x6','x8','x9','x10','trans_x11', 'x13']:\n",
    "    df.loc[df[v]< lower_tail(df[v]), v]=lower_tail(df[v]) "
   ]
  },
  {
   "cell_type": "markdown",
   "id": "57aa1047",
   "metadata": {},
   "source": [
    "## Scale variables "
   ]
  },
  {
   "cell_type": "code",
   "execution_count": 109,
   "id": "0783921a",
   "metadata": {},
   "outputs": [],
   "source": [
    "scaler = StandardScaler()\n",
    "df[['x3','trans_x4','trans_x5','x6',\n",
    "        'x8','x9','x10','trans_x11',\n",
    "        'x13']] = scaler.fit_transform(df[['x3','trans_x4','trans_x5','x6',\n",
    "                                              'x8','x9','x10','trans_x11', 'x13']])"
   ]
  },
  {
   "cell_type": "code",
   "execution_count": 110,
   "id": "719f75eb",
   "metadata": {},
   "outputs": [
    {
     "data": {
      "text/plain": [
       "<AxesSubplot:>"
      ]
     },
     "execution_count": 110,
     "metadata": {},
     "output_type": "execute_result"
    },
    {
     "data": {
      "image/png": "[encoded data removed]",
      "text/plain": [
       "<Figure size 2160x1440 with 1 Axes>"
      ]
     },
     "metadata": {
      "needs_background": "light"
     },
     "output_type": "display_data"
    }
   ],
   "source": [
    "cont_variables = ['x3','trans_x4','trans_x5','x6','x8','x9','x10','trans_x11', 'x13']\n",
    "plt.figure(figsize=(30,20))\n",
    "sb.boxplot(data=df[cont_variables])"
   ]
  },
  {
   "cell_type": "markdown",
   "id": "de3435bc",
   "metadata": {},
   "source": [
    "## Training some Machine Learning Moldea"
   ]
  },
  {
   "cell_type": "code",
   "execution_count": 111,
   "id": "957502c4",
   "metadata": {},
   "outputs": [
    {
     "data": {
      "text/plain": [
       "<bound method DataFrame.info of             x3  trans_x4  trans_x5        x6        x8        x9       x10  \\\n",
       "0    -1.134334  0.360984 -0.646920 -0.167005  0.456112  0.376983  1.943465   \n",
       "1    -0.991879 -1.608960 -1.312070 -0.060101 -1.009577  0.874362 -0.344952   \n",
       "2     0.460709 -0.896255  0.902645 -0.442058 -1.993801  1.444140 -0.480012   \n",
       "3    -0.334786  0.394293 -0.564575 -1.258146  0.085877  0.674994 -1.575362   \n",
       "4     0.817662 -0.321684 -1.608680  0.103880 -0.380028  0.111100 -2.148906   \n",
       "...        ...       ...       ...       ...       ...       ...       ...   \n",
       "1115  0.710646  0.545732 -0.225252 -0.761299  0.288718  0.619102 -0.328936   \n",
       "1116 -1.704189 -1.797226 -0.277210  1.100005 -0.560292 -0.333841 -0.734387   \n",
       "1117  0.691968  0.082525  0.043818  0.162286 -0.319004  0.766120  0.094031   \n",
       "1118 -1.077956 -0.391752 -0.497627  1.465589  0.494910 -0.150511  0.509790   \n",
       "1119 -0.256669 -1.447666  0.049786  1.729738  0.326381 -0.151408 -0.523749   \n",
       "\n",
       "      trans_x11       x13  \n",
       "0      0.091007  1.292441  \n",
       "1     -0.084286  1.095248  \n",
       "2     -1.125572 -0.997846  \n",
       "3      0.936967 -0.624659  \n",
       "4      1.171264  0.336917  \n",
       "...         ...       ...  \n",
       "1115  -1.006446 -0.873998  \n",
       "1116   2.110525 -0.196922  \n",
       "1117  -0.490652  0.179544  \n",
       "1118  -0.020332 -1.367490  \n",
       "1119   1.005828  0.172920  \n",
       "\n",
       "[1120 rows x 9 columns]>"
      ]
     },
     "execution_count": 111,
     "metadata": {},
     "output_type": "execute_result"
    }
   ],
   "source": [
    "X = df[['x3','trans_x4','trans_x5','x6','x8','x9','x10','trans_x11', 'x13']]\n",
    "X.info "
   ]
  },
  {
   "cell_type": "code",
   "execution_count": 112,
   "id": "1e5ac452",
   "metadata": {},
   "outputs": [],
   "source": [
    "#from sklearn.model_selection import train_test_split\n",
    "#X_train, X_test, y_train, y_test = train_test_split(X, y, test_size=0.20, random_state = 42)\n",
    "#print(X_train.shape,X_test.shape,y_train.shape,y_test.shape)\n",
    "X_train = X\n",
    "y_train = y"
   ]
  },
  {
   "cell_type": "markdown",
   "id": "9175ae08",
   "metadata": {},
   "source": [
    "## Random Forest"
   ]
  },
  {
   "cell_type": "code",
   "execution_count": 113,
   "id": "d7f81341",
   "metadata": {},
   "outputs": [
    {
     "name": "stdout",
     "output_type": "stream",
     "text": [
      "Wall time: 7min 57s\n",
      "Best: 0.679464 using {'bootstrap': True, 'max_features': 9, 'n_estimators': 106}\n",
      "0.674107 (0.029478) with: {'bootstrap': True, 'max_features': 3, 'n_estimators': 80}\n",
      "0.667857 (0.020477) with: {'bootstrap': True, 'max_features': 3, 'n_estimators': 93}\n",
      "0.673214 (0.020633) with: {'bootstrap': True, 'max_features': 3, 'n_estimators': 106}\n",
      "0.672321 (0.024387) with: {'bootstrap': True, 'max_features': 3, 'n_estimators': 120}\n",
      "0.668750 (0.024190) with: {'bootstrap': True, 'max_features': 3, 'n_estimators': 133}\n",
      "0.674107 (0.026934) with: {'bootstrap': True, 'max_features': 3, 'n_estimators': 146}\n",
      "0.674107 (0.025254) with: {'bootstrap': True, 'max_features': 3, 'n_estimators': 160}\n",
      "0.675893 (0.024387) with: {'bootstrap': True, 'max_features': 3, 'n_estimators': 173}\n",
      "0.672321 (0.021980) with: {'bootstrap': True, 'max_features': 3, 'n_estimators': 186}\n",
      "0.668750 (0.026696) with: {'bootstrap': True, 'max_features': 3, 'n_estimators': 200}\n",
      "0.670536 (0.019024) with: {'bootstrap': True, 'max_features': 6, 'n_estimators': 80}\n",
      "0.666964 (0.028460) with: {'bootstrap': True, 'max_features': 6, 'n_estimators': 93}\n",
      "0.673214 (0.017723) with: {'bootstrap': True, 'max_features': 6, 'n_estimators': 106}\n",
      "0.676786 (0.028599) with: {'bootstrap': True, 'max_features': 6, 'n_estimators': 120}\n",
      "0.675893 (0.027023) with: {'bootstrap': True, 'max_features': 6, 'n_estimators': 133}\n",
      "0.672321 (0.029559) with: {'bootstrap': True, 'max_features': 6, 'n_estimators': 146}\n",
      "0.668750 (0.022833) with: {'bootstrap': True, 'max_features': 6, 'n_estimators': 160}\n",
      "0.674107 (0.032806) with: {'bootstrap': True, 'max_features': 6, 'n_estimators': 173}\n",
      "0.666071 (0.027578) with: {'bootstrap': True, 'max_features': 6, 'n_estimators': 186}\n",
      "0.675000 (0.026845) with: {'bootstrap': True, 'max_features': 6, 'n_estimators': 200}\n",
      "0.669643 (0.027228) with: {'bootstrap': True, 'max_features': 9, 'n_estimators': 80}\n",
      "0.669643 (0.032806) with: {'bootstrap': True, 'max_features': 9, 'n_estimators': 93}\n",
      "0.679464 (0.021577) with: {'bootstrap': True, 'max_features': 9, 'n_estimators': 106}\n",
      "0.672321 (0.021614) with: {'bootstrap': True, 'max_features': 9, 'n_estimators': 120}\n",
      "0.673214 (0.028432) with: {'bootstrap': True, 'max_features': 9, 'n_estimators': 133}\n",
      "0.679464 (0.016799) with: {'bootstrap': True, 'max_features': 9, 'n_estimators': 146}\n",
      "0.671429 (0.029151) with: {'bootstrap': True, 'max_features': 9, 'n_estimators': 160}\n",
      "0.667857 (0.031517) with: {'bootstrap': True, 'max_features': 9, 'n_estimators': 173}\n",
      "0.667857 (0.020477) with: {'bootstrap': True, 'max_features': 9, 'n_estimators': 186}\n",
      "0.668750 (0.031491) with: {'bootstrap': True, 'max_features': 9, 'n_estimators': 200}\n",
      "0.650000 (0.022693) with: {'bootstrap': False, 'max_features': 3, 'n_estimators': 80}\n",
      "0.647321 (0.031186) with: {'bootstrap': False, 'max_features': 3, 'n_estimators': 93}\n",
      "0.650893 (0.022833) with: {'bootstrap': False, 'max_features': 3, 'n_estimators': 106}\n",
      "0.658036 (0.017313) with: {'bootstrap': False, 'max_features': 3, 'n_estimators': 120}\n",
      "0.652679 (0.020438) with: {'bootstrap': False, 'max_features': 3, 'n_estimators': 133}\n",
      "0.654464 (0.027462) with: {'bootstrap': False, 'max_features': 3, 'n_estimators': 146}\n",
      "0.647321 (0.027951) with: {'bootstrap': False, 'max_features': 3, 'n_estimators': 160}\n",
      "0.656250 (0.013243) with: {'bootstrap': False, 'max_features': 3, 'n_estimators': 173}\n",
      "0.649107 (0.023724) with: {'bootstrap': False, 'max_features': 3, 'n_estimators': 186}\n",
      "0.655357 (0.016071) with: {'bootstrap': False, 'max_features': 3, 'n_estimators': 200}\n",
      "0.634821 (0.023690) with: {'bootstrap': False, 'max_features': 6, 'n_estimators': 80}\n",
      "0.637500 (0.023180) with: {'bootstrap': False, 'max_features': 6, 'n_estimators': 93}\n",
      "0.633929 (0.018515) with: {'bootstrap': False, 'max_features': 6, 'n_estimators': 106}\n",
      "0.637500 (0.026547) with: {'bootstrap': False, 'max_features': 6, 'n_estimators': 120}\n",
      "0.641964 (0.020633) with: {'bootstrap': False, 'max_features': 6, 'n_estimators': 133}\n",
      "0.646429 (0.018601) with: {'bootstrap': False, 'max_features': 6, 'n_estimators': 146}\n",
      "0.643750 (0.019024) with: {'bootstrap': False, 'max_features': 6, 'n_estimators': 160}\n",
      "0.630357 (0.022482) with: {'bootstrap': False, 'max_features': 6, 'n_estimators': 173}\n",
      "0.642857 (0.021503) with: {'bootstrap': False, 'max_features': 6, 'n_estimators': 186}\n",
      "0.631250 (0.024057) with: {'bootstrap': False, 'max_features': 6, 'n_estimators': 200}\n",
      "0.542857 (0.028460) with: {'bootstrap': False, 'max_features': 9, 'n_estimators': 80}\n",
      "0.546429 (0.028877) with: {'bootstrap': False, 'max_features': 9, 'n_estimators': 93}\n",
      "0.544643 (0.025877) with: {'bootstrap': False, 'max_features': 9, 'n_estimators': 106}\n",
      "0.545536 (0.020045) with: {'bootstrap': False, 'max_features': 9, 'n_estimators': 120}\n",
      "0.544643 (0.023958) with: {'bootstrap': False, 'max_features': 9, 'n_estimators': 133}\n",
      "0.548214 (0.020825) with: {'bootstrap': False, 'max_features': 9, 'n_estimators': 146}\n",
      "0.542857 (0.026577) with: {'bootstrap': False, 'max_features': 9, 'n_estimators': 160}\n",
      "0.541964 (0.029693) with: {'bootstrap': False, 'max_features': 9, 'n_estimators': 173}\n",
      "0.541071 (0.019233) with: {'bootstrap': False, 'max_features': 9, 'n_estimators': 186}\n",
      "0.546429 (0.027023) with: {'bootstrap': False, 'max_features': 9, 'n_estimators': 200}\n"
     ]
    }
   ],
   "source": [
    "n_estimators =[int(x) for x in np.linspace(start = 80, stop = 200, num =10)]\n",
    "max_features = [3,6,9]\n",
    "bootstrap = [True,False]\n",
    "\n",
    "param_grid = {'n_estimators':n_estimators,\n",
    "             'max_features':max_features,\n",
    "             'bootstrap':bootstrap}\n",
    "\n",
    "rf = RandomForestClassifier()\n",
    "\n",
    "grid_rf = GridSearchCV(estimator = rf, param_grid=param_grid, cv=5)\n",
    "\n",
    "%time grid_rf_result = grid_rf.fit(X_train,y_train)\n",
    "\n",
    "# summarize results\n",
    "print(\"Best: %f using %s\" % (grid_rf_result.best_score_, grid_rf_result.best_params_))\n",
    "means = grid_rf_result.cv_results_['mean_test_score']\n",
    "stds = grid_rf_result.cv_results_['std_test_score']\n",
    "params = grid_rf_result.cv_results_['params']\n",
    "for mean, stdev, param in zip(means, stds, params):\n",
    "    print(\"%f (%f) with: %r\" % (mean, stdev, param))"
   ]
  },
  {
   "cell_type": "code",
   "execution_count": 114,
   "id": "f3f9c0b7",
   "metadata": {},
   "outputs": [
    {
     "data": {
      "text/plain": [
       "'from sklearn.metrics import classification_report, f1_score, accuracy_score, confusion_matrix\\nbest_model_rf = grid_rf.best_estimator_\\ny_pred = best_model_rf.predict(X_test)\\nconf_matrix = confusion_matrix(y_test, y_pred)\\nrf_acc = accuracy_score(y_test, y_pred)\\nprint(\\'Confusion Matrix\\')\\nprint(conf_matrix)\\nprint(\"\\n\")\\nprint(\"Accuracy of Random Forest:\",rf_acc*100,\\'\\n\\')\\nprint(classification_report(y_test, y_pred))'"
      ]
     },
     "execution_count": 114,
     "metadata": {},
     "output_type": "execute_result"
    }
   ],
   "source": [
    "#results on the test set for the best model\n",
    "'''from sklearn.metrics import classification_report, f1_score, accuracy_score, confusion_matrix\n",
    "best_model_rf = grid_rf.best_estimator_\n",
    "y_pred = best_model_rf.predict(X_test)\n",
    "conf_matrix = confusion_matrix(y_test, y_pred)\n",
    "rf_acc = accuracy_score(y_test, y_pred)\n",
    "print('Confusion Matrix')\n",
    "print(conf_matrix)\n",
    "print(\"\\n\")\n",
    "print(\"Accuracy of Random Forest:\",rf_acc*100,'\\n')\n",
    "print(classification_report(y_test, y_pred))'''"
   ]
  },
  {
   "cell_type": "code",
   "execution_count": 115,
   "id": "e1f60089",
   "metadata": {},
   "outputs": [
    {
     "data": {
      "text/plain": [
       "\"importances = best_model_rf.feature_importances_*100\\nfeature_list = X_train.columns\\nsample_df = pd.DataFrame([])\\nsample_df['features'] = feature_list\\nsample_df['importance_score'] = importances\\nsample_df = sample_df.sort_values(by = ['importance_score'],ascending=False)\\nplt.figure(figsize=(30,8))\\nsb.barplot(x='features',y='importance_score',data =sample_df)\""
      ]
     },
     "execution_count": 115,
     "metadata": {},
     "output_type": "execute_result"
    }
   ],
   "source": [
    "#feature importance using random forest model\n",
    "'''importances = best_model_rf.feature_importances_*100\n",
    "feature_list = X_train.columns\n",
    "sample_df = pd.DataFrame([])\n",
    "sample_df['features'] = feature_list\n",
    "sample_df['importance_score'] = importances\n",
    "sample_df = sample_df.sort_values(by = ['importance_score'],ascending=False)\n",
    "plt.figure(figsize=(30,8))\n",
    "sb.barplot(x='features',y='importance_score',data =sample_df)'''"
   ]
  },
  {
   "cell_type": "markdown",
   "id": "8712569a",
   "metadata": {},
   "source": [
    "## Adaboost"
   ]
  },
  {
   "cell_type": "code",
   "execution_count": 116,
   "id": "08ae3163",
   "metadata": {},
   "outputs": [
    {
     "data": {
      "text/plain": [
       "'n_estimators =[int(x) for x in np.linspace(start = 50, stop = 200, num =10)]\\nlearning_rate =[float(x) for x in np.linspace(start = 0.01, stop = 1, num =10)]\\n\\nparam_grid = {\\'n_estimators\\':n_estimators,\\n             \\'learning_rate\\':learning_rate}\\n\\nada=AdaBoostClassifier()\\n\\ngrid_ada = GridSearchCV(estimator = ada, param_grid=param_grid, cv=10)\\n\\n%time grid_ada_result = grid_ada.fit(X_train,y_train)\\n\\n# summarize results\\nprint(\"Best: %f using %s\" % (grid_ada_result.best_score_, grid_ada_result.best_params_))\\nmeans = grid_ada_result.cv_results_[\\'mean_test_score\\']\\nstds = grid_ada_result.cv_results_[\\'std_test_score\\']\\nparams = grid_ada_result.cv_results_[\\'params\\']\\nfor mean, stdev, param in zip(means, stds, params):\\n    print(\"%f (%f) with: %r\" % (mean, stdev, param))'"
      ]
     },
     "execution_count": 116,
     "metadata": {},
     "output_type": "execute_result"
    }
   ],
   "source": [
    "'''n_estimators =[int(x) for x in np.linspace(start = 50, stop = 200, num =10)]\n",
    "learning_rate =[float(x) for x in np.linspace(start = 0.01, stop = 1, num =10)]\n",
    "\n",
    "param_grid = {'n_estimators':n_estimators,\n",
    "             'learning_rate':learning_rate}\n",
    "\n",
    "ada=AdaBoostClassifier()\n",
    "\n",
    "grid_ada = GridSearchCV(estimator = ada, param_grid=param_grid, cv=10)\n",
    "\n",
    "%time grid_ada_result = grid_ada.fit(X_train,y_train)\n",
    "\n",
    "# summarize results\n",
    "print(\"Best: %f using %s\" % (grid_ada_result.best_score_, grid_ada_result.best_params_))\n",
    "means = grid_ada_result.cv_results_['mean_test_score']\n",
    "stds = grid_ada_result.cv_results_['std_test_score']\n",
    "params = grid_ada_result.cv_results_['params']\n",
    "for mean, stdev, param in zip(means, stds, params):\n",
    "    print(\"%f (%f) with: %r\" % (mean, stdev, param))'''"
   ]
  },
  {
   "cell_type": "markdown",
   "id": "080f307a",
   "metadata": {},
   "source": [
    "## Gradient Boosting"
   ]
  },
  {
   "cell_type": "code",
   "execution_count": 117,
   "id": "7861c957",
   "metadata": {},
   "outputs": [
    {
     "data": {
      "text/plain": [
       "'n_estimators =[int(x) for x in np.linspace(start = 80, stop = 200, num =10)]\\nlearning_rate =[0.25, 0.6, 1]\\nmax_features = [4, 7, 10]\\nmax_depth= [2, 3, 4]\\n\\n\\nparam_grid = {\\'n_estimators\\':n_estimators,\\n             \\'learning_rate\\':learning_rate,\\n             \\'max_features\\':max_features,\\n             \\'max_depth\\':max_depth}\\n\\ngb=GradientBoostingClassifier()\\n\\ngrid_gb = GridSearchCV(estimator = gb, param_grid=param_grid, cv=3)\\n\\n%time grid_gb_result = grid_gb.fit(X_train,y_train)\\n\\n# summarize results\\nprint(\"Best: %f using %s\" % (grid_gb_result.best_score_, grid_gb_result.best_params_))\\nmeans = grid_gb_result.cv_results_[\\'mean_test_score\\']\\nstds = grid_gb_result.cv_results_[\\'std_test_score\\']\\nparams = grid_gb_result.cv_results_[\\'params\\']\\nfor mean, stdev, param in zip(means, stds, params):\\n    print(\"%f (%f) with: %r\" % (mean, stdev, param))'"
      ]
     },
     "execution_count": 117,
     "metadata": {},
     "output_type": "execute_result"
    }
   ],
   "source": [
    "'''n_estimators =[int(x) for x in np.linspace(start = 80, stop = 200, num =10)]\n",
    "learning_rate =[0.25, 0.6, 1]\n",
    "max_features = [4, 7, 10]\n",
    "max_depth= [2, 3, 4]\n",
    "\n",
    "\n",
    "param_grid = {'n_estimators':n_estimators,\n",
    "             'learning_rate':learning_rate,\n",
    "             'max_features':max_features,\n",
    "             'max_depth':max_depth}\n",
    "\n",
    "gb=GradientBoostingClassifier()\n",
    "\n",
    "grid_gb = GridSearchCV(estimator = gb, param_grid=param_grid, cv=3)\n",
    "\n",
    "%time grid_gb_result = grid_gb.fit(X_train,y_train)\n",
    "\n",
    "# summarize results\n",
    "print(\"Best: %f using %s\" % (grid_gb_result.best_score_, grid_gb_result.best_params_))\n",
    "means = grid_gb_result.cv_results_['mean_test_score']\n",
    "stds = grid_gb_result.cv_results_['std_test_score']\n",
    "params = grid_gb_result.cv_results_['params']\n",
    "for mean, stdev, param in zip(means, stds, params):\n",
    "    print(\"%f (%f) with: %r\" % (mean, stdev, param))'''"
   ]
  },
  {
   "cell_type": "markdown",
   "id": "511538cf",
   "metadata": {},
   "source": [
    "## MLP classifier"
   ]
  },
  {
   "cell_type": "code",
   "execution_count": 118,
   "id": "d70d374d",
   "metadata": {
    "scrolled": true
   },
   "outputs": [
    {
     "data": {
      "text/plain": [
       "'param_grid = {\\'hidden_layer_sizes\\': [(50,50,50), (50,100,50), (100,)],\\n                \\'activation\\': [\\'tanh\\', \\'relu\\'],\\n                \\'solver\\': [\\'sgd\\', \\'adam\\'],\\n                \\'alpha\\': [0.0001, 0.05],\\n                \\'learning_rate\\': [\\'constant\\',\\'adaptive\\']}\\n\\nmlp = MLPClassifier()\\n\\ngrid_mlp = GridSearchCV(estimator = mlp, param_grid=param_grid, cv=10)\\n\\n%time grid_gb_result = grid_gb.fit(X_train,y_train)\\n\\n# summarize results\\nprint(\"Best: %f using %s\" % (grid_gb_result.best_score_, grid_gb_result.best_params_))\\nmeans = grid_gb_result.cv_results_[\\'mean_test_score\\']\\nstds = grid_gb_result.cv_results_[\\'std_test_score\\']\\nparams = grid_gb_result.cv_results_[\\'params\\']\\nfor mean, stdev, param in zip(means, stds, params):\\n    print(\"%f (%f) with: %r\" % (mean, stdev, param))'"
      ]
     },
     "execution_count": 118,
     "metadata": {},
     "output_type": "execute_result"
    }
   ],
   "source": [
    "'''param_grid = {'hidden_layer_sizes': [(50,50,50), (50,100,50), (100,)],\n",
    "                'activation': ['tanh', 'relu'],\n",
    "                'solver': ['sgd', 'adam'],\n",
    "                'alpha': [0.0001, 0.05],\n",
    "                'learning_rate': ['constant','adaptive']}\n",
    "\n",
    "mlp = MLPClassifier()\n",
    "\n",
    "grid_mlp = GridSearchCV(estimator = mlp, param_grid=param_grid, cv=10)\n",
    "\n",
    "%time grid_gb_result = grid_gb.fit(X_train,y_train)\n",
    "\n",
    "# summarize results\n",
    "print(\"Best: %f using %s\" % (grid_gb_result.best_score_, grid_gb_result.best_params_))\n",
    "means = grid_gb_result.cv_results_['mean_test_score']\n",
    "stds = grid_gb_result.cv_results_['std_test_score']\n",
    "params = grid_gb_result.cv_results_['params']\n",
    "for mean, stdev, param in zip(means, stds, params):\n",
    "    print(\"%f (%f) with: %r\" % (mean, stdev, param))'''"
   ]
  },
  {
   "cell_type": "markdown",
   "id": "4d1d9563",
   "metadata": {},
   "source": [
    "## TEST DATA"
   ]
  },
  {
   "cell_type": "code",
   "execution_count": 119,
   "id": "184b1a1d",
   "metadata": {},
   "outputs": [
    {
     "data": {
      "text/html": [
       "<div>\n",
       "<style scoped>\n",
       "    .dataframe tbody tr th:only-of-type {\n",
       "        vertical-align: middle;\n",
       "    }\n",
       "\n",
       "    .dataframe tbody tr th {\n",
       "        vertical-align: top;\n",
       "    }\n",
       "\n",
       "    .dataframe thead th {\n",
       "        text-align: right;\n",
       "    }\n",
       "</style>\n",
       "<table border=\"1\" class=\"dataframe\">\n",
       "  <thead>\n",
       "    <tr style=\"text-align: right;\">\n",
       "      <th></th>\n",
       "      <th>Unnamed: 0</th>\n",
       "      <th>x1</th>\n",
       "      <th>x2</th>\n",
       "      <th>x3</th>\n",
       "      <th>x4</th>\n",
       "      <th>x5</th>\n",
       "      <th>x6</th>\n",
       "      <th>x7</th>\n",
       "      <th>x8</th>\n",
       "      <th>x9</th>\n",
       "      <th>x10</th>\n",
       "      <th>x11</th>\n",
       "      <th>x12</th>\n",
       "      <th>x13</th>\n",
       "    </tr>\n",
       "  </thead>\n",
       "  <tbody>\n",
       "    <tr>\n",
       "      <th>0</th>\n",
       "      <td>1000</td>\n",
       "      <td>0.81313</td>\n",
       "      <td>0.38023</td>\n",
       "      <td>5.85070</td>\n",
       "      <td>-9.18530</td>\n",
       "      <td>9.93106</td>\n",
       "      <td>0.36759</td>\n",
       "      <td>Jerry Fernström</td>\n",
       "      <td>1.83292</td>\n",
       "      <td>1.89491</td>\n",
       "      <td>-6.29609</td>\n",
       "      <td>-0.62245</td>\n",
       "      <td>True</td>\n",
       "      <td>43.58182</td>\n",
       "    </tr>\n",
       "    <tr>\n",
       "      <th>1</th>\n",
       "      <td>1001</td>\n",
       "      <td>0.05435</td>\n",
       "      <td>0.89732</td>\n",
       "      <td>1.50829</td>\n",
       "      <td>-8.79618</td>\n",
       "      <td>9.84085</td>\n",
       "      <td>0.83846</td>\n",
       "      <td>Erik Sven Fernström</td>\n",
       "      <td>-1.75396</td>\n",
       "      <td>-0.71970</td>\n",
       "      <td>-8.54241</td>\n",
       "      <td>-2.00896</td>\n",
       "      <td>True</td>\n",
       "      <td>3.47168</td>\n",
       "    </tr>\n",
       "    <tr>\n",
       "      <th>2</th>\n",
       "      <td>1002</td>\n",
       "      <td>0.93130</td>\n",
       "      <td>1.13181</td>\n",
       "      <td>-6.25123</td>\n",
       "      <td>-9.24025</td>\n",
       "      <td>9.97088</td>\n",
       "      <td>1.10935</td>\n",
       "      <td>Erik Sven Fernström</td>\n",
       "      <td>-1.89190</td>\n",
       "      <td>-0.71282</td>\n",
       "      <td>-11.91278</td>\n",
       "      <td>-0.24137</td>\n",
       "      <td>False</td>\n",
       "      <td>43.43945</td>\n",
       "    </tr>\n",
       "    <tr>\n",
       "      <th>3</th>\n",
       "      <td>1003</td>\n",
       "      <td>0.81462</td>\n",
       "      <td>0.32761</td>\n",
       "      <td>-2.58948</td>\n",
       "      <td>-9.90454</td>\n",
       "      <td>10.21894</td>\n",
       "      <td>0.28165</td>\n",
       "      <td>Jerry Fernström</td>\n",
       "      <td>0.71816</td>\n",
       "      <td>0.55542</td>\n",
       "      <td>-9.96034</td>\n",
       "      <td>-1.35239</td>\n",
       "      <td>False</td>\n",
       "      <td>39.43638</td>\n",
       "    </tr>\n",
       "    <tr>\n",
       "      <th>4</th>\n",
       "      <td>1004</td>\n",
       "      <td>2.02671</td>\n",
       "      <td>0.71385</td>\n",
       "      <td>-4.34367</td>\n",
       "      <td>-9.14374</td>\n",
       "      <td>10.12963</td>\n",
       "      <td>0.72507</td>\n",
       "      <td>Jerry Fernström</td>\n",
       "      <td>0.43896</td>\n",
       "      <td>1.29437</td>\n",
       "      <td>-7.76422</td>\n",
       "      <td>-1.28642</td>\n",
       "      <td>False</td>\n",
       "      <td>99.16370</td>\n",
       "    </tr>\n",
       "  </tbody>\n",
       "</table>\n",
       "</div>"
      ],
      "text/plain": [
       "   Unnamed: 0       x1       x2       x3       x4        x5       x6  \\\n",
       "0        1000  0.81313  0.38023  5.85070 -9.18530   9.93106  0.36759   \n",
       "1        1001  0.05435  0.89732  1.50829 -8.79618   9.84085  0.83846   \n",
       "2        1002  0.93130  1.13181 -6.25123 -9.24025   9.97088  1.10935   \n",
       "3        1003  0.81462  0.32761 -2.58948 -9.90454  10.21894  0.28165   \n",
       "4        1004  2.02671  0.71385 -4.34367 -9.14374  10.12963  0.72507   \n",
       "\n",
       "                    x7       x8       x9       x10      x11    x12       x13  \n",
       "0      Jerry Fernström  1.83292  1.89491  -6.29609 -0.62245   True  43.58182  \n",
       "1  Erik Sven Fernström -1.75396 -0.71970  -8.54241 -2.00896   True   3.47168  \n",
       "2  Erik Sven Fernström -1.89190 -0.71282 -11.91278 -0.24137  False  43.43945  \n",
       "3      Jerry Fernström  0.71816  0.55542  -9.96034 -1.35239  False  39.43638  \n",
       "4      Jerry Fernström  0.43896  1.29437  -7.76422 -1.28642  False  99.16370  "
      ]
     },
     "execution_count": 119,
     "metadata": {},
     "output_type": "execute_result"
    }
   ],
   "source": [
    "test = pd.read_csv('C:\\\\Users\\\\carlo\\\\Desktop\\\\kth\\\\ML\\\\programming_challenge\\\\EvaluateOnMe-2.csv')\n",
    "test.head()"
   ]
  },
  {
   "cell_type": "markdown",
   "id": "5c75b645",
   "metadata": {},
   "source": [
    "## Transform the variabels as in the training data"
   ]
  },
  {
   "cell_type": "code",
   "execution_count": 120,
   "id": "ae0f789b",
   "metadata": {},
   "outputs": [],
   "source": [
    "#remove x1 and x2\n",
    "test = test[['x3','x4','x5','x6','x8','x9','x10','x11','x13']]\n",
    "trans_x4 = stats.boxcox(np.exp(test['x4']), fitted_lambda4)\n",
    "trans_x5 = stats.boxcox(test['x5'], fitted_lambda5)\n",
    "trans_x11 = stats.boxcox(np.exp(test['x11']), fitted_lambda11)"
   ]
  },
  {
   "cell_type": "code",
   "execution_count": 121,
   "id": "2669fbeb",
   "metadata": {},
   "outputs": [
    {
     "name": "stdout",
     "output_type": "stream",
     "text": [
      "<class 'pandas.core.frame.DataFrame'>\n",
      "RangeIndex: 10000 entries, 0 to 9999\n",
      "Data columns (total 9 columns):\n",
      " #   Column     Non-Null Count  Dtype  \n",
      "---  ------     --------------  -----  \n",
      " 0   x3         10000 non-null  float64\n",
      " 1   trans_x4   10000 non-null  float64\n",
      " 2   trans_x5   10000 non-null  float64\n",
      " 3   x6         10000 non-null  float64\n",
      " 4   x8         10000 non-null  float64\n",
      " 5   x9         10000 non-null  float64\n",
      " 6   x10        10000 non-null  float64\n",
      " 7   trans_x11  10000 non-null  float64\n",
      " 8   x13        10000 non-null  float64\n",
      "dtypes: float64(9)\n",
      "memory usage: 703.2 KB\n"
     ]
    }
   ],
   "source": [
    "test = test[['x3','x6','x8','x9','x10','x13']]\n",
    "test.insert(loc=1, column='trans_x4',value=trans_x4)\n",
    "test.insert(loc=2, column='trans_x5',value=trans_x5)\n",
    "test.insert(loc=7, column='trans_x11',value=trans_x11)\n",
    "test.info()"
   ]
  },
  {
   "cell_type": "code",
   "execution_count": 122,
   "id": "42d2458d",
   "metadata": {
    "scrolled": true
   },
   "outputs": [
    {
     "data": {
      "text/html": [
       "<div>\n",
       "<style scoped>\n",
       "    .dataframe tbody tr th:only-of-type {\n",
       "        vertical-align: middle;\n",
       "    }\n",
       "\n",
       "    .dataframe tbody tr th {\n",
       "        vertical-align: top;\n",
       "    }\n",
       "\n",
       "    .dataframe thead th {\n",
       "        text-align: right;\n",
       "    }\n",
       "</style>\n",
       "<table border=\"1\" class=\"dataframe\">\n",
       "  <thead>\n",
       "    <tr style=\"text-align: right;\">\n",
       "      <th></th>\n",
       "      <th>x3</th>\n",
       "      <th>trans_x4</th>\n",
       "      <th>trans_x5</th>\n",
       "      <th>x6</th>\n",
       "      <th>x8</th>\n",
       "      <th>x9</th>\n",
       "      <th>x10</th>\n",
       "      <th>trans_x11</th>\n",
       "      <th>x13</th>\n",
       "    </tr>\n",
       "  </thead>\n",
       "  <tbody>\n",
       "    <tr>\n",
       "      <th>0</th>\n",
       "      <td>2.127765</td>\n",
       "      <td>0.096402</td>\n",
       "      <td>-1.600276</td>\n",
       "      <td>0.508883</td>\n",
       "      <td>1.482063</td>\n",
       "      <td>1.379964</td>\n",
       "      <td>1.506545</td>\n",
       "      <td>0.241179</td>\n",
       "      <td>-0.128721</td>\n",
       "    </tr>\n",
       "    <tr>\n",
       "      <th>1</th>\n",
       "      <td>0.768660</td>\n",
       "      <td>1.106263</td>\n",
       "      <td>-2.039320</td>\n",
       "      <td>1.164846</td>\n",
       "      <td>-1.394154</td>\n",
       "      <td>-0.528215</td>\n",
       "      <td>0.068841</td>\n",
       "      <td>-0.642784</td>\n",
       "      <td>-0.944978</td>\n",
       "    </tr>\n",
       "    <tr>\n",
       "      <th>2</th>\n",
       "      <td>-1.659948</td>\n",
       "      <td>-0.048528</td>\n",
       "      <td>-1.413569</td>\n",
       "      <td>1.542220</td>\n",
       "      <td>-1.504764</td>\n",
       "      <td>-0.523194</td>\n",
       "      <td>-2.088286</td>\n",
       "      <td>0.455263</td>\n",
       "      <td>-0.131618</td>\n",
       "    </tr>\n",
       "    <tr>\n",
       "      <th>3</th>\n",
       "      <td>-0.513878</td>\n",
       "      <td>-1.847289</td>\n",
       "      <td>-0.340488</td>\n",
       "      <td>0.389161</td>\n",
       "      <td>0.588169</td>\n",
       "      <td>0.402385</td>\n",
       "      <td>-0.838673</td>\n",
       "      <td>-0.202559</td>\n",
       "      <td>-0.213082</td>\n",
       "    </tr>\n",
       "    <tr>\n",
       "      <th>4</th>\n",
       "      <td>-1.062912</td>\n",
       "      <td>0.205631</td>\n",
       "      <td>-0.709736</td>\n",
       "      <td>1.006884</td>\n",
       "      <td>0.364286</td>\n",
       "      <td>0.941681</td>\n",
       "      <td>0.566903</td>\n",
       "      <td>-0.160545</td>\n",
       "      <td>1.002393</td>\n",
       "    </tr>\n",
       "  </tbody>\n",
       "</table>\n",
       "</div>"
      ],
      "text/plain": [
       "         x3  trans_x4  trans_x5        x6        x8        x9       x10  \\\n",
       "0  2.127765  0.096402 -1.600276  0.508883  1.482063  1.379964  1.506545   \n",
       "1  0.768660  1.106263 -2.039320  1.164846 -1.394154 -0.528215  0.068841   \n",
       "2 -1.659948 -0.048528 -1.413569  1.542220 -1.504764 -0.523194 -2.088286   \n",
       "3 -0.513878 -1.847289 -0.340488  0.389161  0.588169  0.402385 -0.838673   \n",
       "4 -1.062912  0.205631 -0.709736  1.006884  0.364286  0.941681  0.566903   \n",
       "\n",
       "   trans_x11       x13  \n",
       "0   0.241179 -0.128721  \n",
       "1  -0.642784 -0.944978  \n",
       "2   0.455263 -0.131618  \n",
       "3  -0.202559 -0.213082  \n",
       "4  -0.160545  1.002393  "
      ]
     },
     "execution_count": 122,
     "metadata": {},
     "output_type": "execute_result"
    }
   ],
   "source": [
    "#Normalize\n",
    "test[['x3','trans_x4','trans_x5','x6',\n",
    "        'x8','x9','x10','trans_x11',\n",
    "        'x13']] = scaler.fit_transform(test[['x3','trans_x4','trans_x5','x6',\n",
    "                                              'x8','x9','x10','trans_x11', 'x13']])\n",
    "test.head()"
   ]
  },
  {
   "cell_type": "code",
   "execution_count": 123,
   "id": "d61a5c9f",
   "metadata": {},
   "outputs": [
    {
     "data": {
      "text/plain": [
       "<AxesSubplot:>"
      ]
     },
     "execution_count": 123,
     "metadata": {},
     "output_type": "execute_result"
    },
    {
     "data": {
      "image/png": "[encoded data removed]",
      "text/plain": [
       "<Figure size 2160x1440 with 1 Axes>"
      ]
     },
     "metadata": {
      "needs_background": "light"
     },
     "output_type": "display_data"
    }
   ],
   "source": [
    "cont_variables = ['x3','trans_x4','trans_x5','x6','x8','x9','x10','trans_x11', 'x13']\n",
    "plt.figure(figsize=(30,20))\n",
    "sb.boxplot(data=test[cont_variables])"
   ]
  },
  {
   "cell_type": "code",
   "execution_count": 124,
   "id": "52a52788",
   "metadata": {},
   "outputs": [
    {
     "data": {
      "text/html": [
       "<div>\n",
       "<style scoped>\n",
       "    .dataframe tbody tr th:only-of-type {\n",
       "        vertical-align: middle;\n",
       "    }\n",
       "\n",
       "    .dataframe tbody tr th {\n",
       "        vertical-align: top;\n",
       "    }\n",
       "\n",
       "    .dataframe thead th {\n",
       "        text-align: right;\n",
       "    }\n",
       "</style>\n",
       "<table border=\"1\" class=\"dataframe\">\n",
       "  <thead>\n",
       "    <tr style=\"text-align: right;\">\n",
       "      <th></th>\n",
       "      <th>x3</th>\n",
       "      <th>trans_x4</th>\n",
       "      <th>trans_x5</th>\n",
       "      <th>x6</th>\n",
       "      <th>x8</th>\n",
       "      <th>x9</th>\n",
       "      <th>x10</th>\n",
       "      <th>trans_x11</th>\n",
       "      <th>x13</th>\n",
       "    </tr>\n",
       "  </thead>\n",
       "  <tbody>\n",
       "    <tr>\n",
       "      <th>0</th>\n",
       "      <td>2.127765</td>\n",
       "      <td>0.096402</td>\n",
       "      <td>-1.600276</td>\n",
       "      <td>0.508883</td>\n",
       "      <td>1.482063</td>\n",
       "      <td>1.379964</td>\n",
       "      <td>1.506545</td>\n",
       "      <td>0.241179</td>\n",
       "      <td>-0.128721</td>\n",
       "    </tr>\n",
       "    <tr>\n",
       "      <th>1</th>\n",
       "      <td>0.768660</td>\n",
       "      <td>1.106263</td>\n",
       "      <td>-2.039320</td>\n",
       "      <td>1.164846</td>\n",
       "      <td>-1.394154</td>\n",
       "      <td>-0.528215</td>\n",
       "      <td>0.068841</td>\n",
       "      <td>-0.642784</td>\n",
       "      <td>-0.944978</td>\n",
       "    </tr>\n",
       "    <tr>\n",
       "      <th>2</th>\n",
       "      <td>-1.659948</td>\n",
       "      <td>-0.048528</td>\n",
       "      <td>-1.413569</td>\n",
       "      <td>1.542220</td>\n",
       "      <td>-1.504764</td>\n",
       "      <td>-0.523194</td>\n",
       "      <td>-2.088286</td>\n",
       "      <td>0.455263</td>\n",
       "      <td>-0.131618</td>\n",
       "    </tr>\n",
       "    <tr>\n",
       "      <th>3</th>\n",
       "      <td>-0.513878</td>\n",
       "      <td>-1.847289</td>\n",
       "      <td>-0.340488</td>\n",
       "      <td>0.389161</td>\n",
       "      <td>0.588169</td>\n",
       "      <td>0.402385</td>\n",
       "      <td>-0.838673</td>\n",
       "      <td>-0.202559</td>\n",
       "      <td>-0.213082</td>\n",
       "    </tr>\n",
       "    <tr>\n",
       "      <th>4</th>\n",
       "      <td>-1.062912</td>\n",
       "      <td>0.205631</td>\n",
       "      <td>-0.709736</td>\n",
       "      <td>1.006884</td>\n",
       "      <td>0.364286</td>\n",
       "      <td>0.941681</td>\n",
       "      <td>0.566903</td>\n",
       "      <td>-0.160545</td>\n",
       "      <td>1.002393</td>\n",
       "    </tr>\n",
       "  </tbody>\n",
       "</table>\n",
       "</div>"
      ],
      "text/plain": [
       "         x3  trans_x4  trans_x5        x6        x8        x9       x10  \\\n",
       "0  2.127765  0.096402 -1.600276  0.508883  1.482063  1.379964  1.506545   \n",
       "1  0.768660  1.106263 -2.039320  1.164846 -1.394154 -0.528215  0.068841   \n",
       "2 -1.659948 -0.048528 -1.413569  1.542220 -1.504764 -0.523194 -2.088286   \n",
       "3 -0.513878 -1.847289 -0.340488  0.389161  0.588169  0.402385 -0.838673   \n",
       "4 -1.062912  0.205631 -0.709736  1.006884  0.364286  0.941681  0.566903   \n",
       "\n",
       "   trans_x11       x13  \n",
       "0   0.241179 -0.128721  \n",
       "1  -0.642784 -0.944978  \n",
       "2   0.455263 -0.131618  \n",
       "3  -0.202559 -0.213082  \n",
       "4  -0.160545  1.002393  "
      ]
     },
     "execution_count": 124,
     "metadata": {},
     "output_type": "execute_result"
    }
   ],
   "source": [
    "test.head()"
   ]
  },
  {
   "cell_type": "code",
   "execution_count": 125,
   "id": "82f78e5e",
   "metadata": {},
   "outputs": [
    {
     "data": {
      "text/plain": [
       "array(['Jorg', 'Shoogee', 'Jorg', ..., 'Jorg', 'Bob', 'Jorg'],\n",
       "      dtype=object)"
      ]
     },
     "execution_count": 125,
     "metadata": {},
     "output_type": "execute_result"
    }
   ],
   "source": [
    "#Make predictions\n",
    "best_model_rf = grid_rf.best_estimator_\n",
    "y_pred = best_model_rf.predict(test)\n",
    "y_pred"
   ]
  },
  {
   "cell_type": "code",
   "execution_count": 126,
   "id": "dd1a41c1",
   "metadata": {},
   "outputs": [],
   "source": [
    "np.savetxt(\"C:\\\\Users\\\\carlo\\\\Desktop\\\\kth\\\\ML\\\\programming_challenge\\\\ypred.txt\",\n",
    "           y_pred, fmt='%s')"
   ]
  }
 ],
 "metadata": {
  "kernelspec": {
   "display_name": "Python 3 (ipykernel)",
   "language": "python",
   "name": "python3"
  },
  "language_info": {
   "codemirror_mode": {
    "name": "ipython",
    "version": 3
   },
   "file_extension": ".py",
   "mimetype": "text/x-python",
   "name": "python",
   "nbconvert_exporter": "python",
   "pygments_lexer": "ipython3",
   "version": "3.8.11"
  }
 },
 "nbformat": 4,
 "nbformat_minor": 5
}
