{
 "cells": [
  {
   "cell_type": "markdown",
   "id": "2c1623cc-f16a-46ee-96f3-3e4db16f1340",
   "metadata": {},
   "source": [
    "# DD2421 Machine Learning: Programming Challenge"
   ]
  },
  {
   "cell_type": "code",
   "execution_count": 1,
   "id": "ce8d3dcf",
   "metadata": {},
   "outputs": [],
   "source": [
    "import pandas as pd\n",
    "import numpy as np\n",
    "import sklearn\n",
    "import seaborn as sb\n",
    "import category_encoders as ce\n",
    "import matplotlib.pyplot as plt\n",
    "import scipy.stats as stats\n",
    "from sklearn.model_selection import GridSearchCV\n",
    "from sklearn.ensemble import RandomForestClassifier\n",
    "from scipy.stats import boxcox\n",
    "from sklearn.preprocessing import StandardScaler\n",
    "from imblearn.over_sampling import SMOTE"
   ]
  },
  {
   "cell_type": "markdown",
   "id": "4aa55e87",
   "metadata": {},
   "source": [
    "## Examining the data"
   ]
  },
  {
   "cell_type": "code",
   "execution_count": 2,
   "id": "566673d5",
   "metadata": {
    "scrolled": true
   },
   "outputs": [
    {
     "data": {
      "text/html": [
       "<div>\n",
       "<style scoped>\n",
       "    .dataframe tbody tr th:only-of-type {\n",
       "        vertical-align: middle;\n",
       "    }\n",
       "\n",
       "    .dataframe tbody tr th {\n",
       "        vertical-align: top;\n",
       "    }\n",
       "\n",
       "    .dataframe thead th {\n",
       "        text-align: right;\n",
       "    }\n",
       "</style>\n",
       "<table border=\"1\" class=\"dataframe\">\n",
       "  <thead>\n",
       "    <tr style=\"text-align: right;\">\n",
       "      <th></th>\n",
       "      <th>Unnamed: 0</th>\n",
       "      <th>y</th>\n",
       "      <th>x1</th>\n",
       "      <th>x2</th>\n",
       "      <th>x3</th>\n",
       "      <th>x4</th>\n",
       "      <th>x5</th>\n",
       "      <th>x6</th>\n",
       "      <th>x7</th>\n",
       "      <th>x8</th>\n",
       "      <th>x9</th>\n",
       "      <th>x10</th>\n",
       "      <th>x11</th>\n",
       "      <th>x12</th>\n",
       "      <th>x13</th>\n",
       "    </tr>\n",
       "  </thead>\n",
       "  <tbody>\n",
       "    <tr>\n",
       "      <th>0</th>\n",
       "      <td>0</td>\n",
       "      <td>Shoogee</td>\n",
       "      <td>2.20274</td>\n",
       "      <td>-0.04690</td>\n",
       "      <td>-4.69816</td>\n",
       "      <td>-9.07800</td>\n",
       "      <td>10.13118</td>\n",
       "      <td>-0.08900</td>\n",
       "      <td>Erik Sven Williams</td>\n",
       "      <td>0.54191</td>\n",
       "      <td>0.52041</td>\n",
       "      <td>-5.66990</td>\n",
       "      <td>-0.93831</td>\n",
       "      <td>False</td>\n",
       "      <td>107.78776</td>\n",
       "    </tr>\n",
       "    <tr>\n",
       "      <th>1</th>\n",
       "      <td>1</td>\n",
       "      <td>Bob</td>\n",
       "      <td>2.01516</td>\n",
       "      <td>-0.12177</td>\n",
       "      <td>-4.24286</td>\n",
       "      <td>-9.79772</td>\n",
       "      <td>9.98259</td>\n",
       "      <td>-0.01485</td>\n",
       "      <td>Erik Sven Williams</td>\n",
       "      <td>-1.21671</td>\n",
       "      <td>1.18749</td>\n",
       "      <td>-9.25300</td>\n",
       "      <td>-1.21892</td>\n",
       "      <td>False</td>\n",
       "      <td>98.63633</td>\n",
       "    </tr>\n",
       "    <tr>\n",
       "      <th>2</th>\n",
       "      <td>2</td>\n",
       "      <td>Bob</td>\n",
       "      <td>0.02598</td>\n",
       "      <td>-0.24764</td>\n",
       "      <td>0.39977</td>\n",
       "      <td>-9.54167</td>\n",
       "      <td>10.53391</td>\n",
       "      <td>-0.27978</td>\n",
       "      <td>Erik Sven Williams</td>\n",
       "      <td>-2.39764</td>\n",
       "      <td>1.95167</td>\n",
       "      <td>-9.46447</td>\n",
       "      <td>-2.68910</td>\n",
       "      <td>True</td>\n",
       "      <td>1.49880</td>\n",
       "    </tr>\n",
       "    <tr>\n",
       "      <th>3</th>\n",
       "      <td>3</td>\n",
       "      <td>Jorg</td>\n",
       "      <td>0.39778</td>\n",
       "      <td>-0.83343</td>\n",
       "      <td>-2.14272</td>\n",
       "      <td>-9.06550</td>\n",
       "      <td>10.15047</td>\n",
       "      <td>-0.84583</td>\n",
       "      <td>Jerry från Solna</td>\n",
       "      <td>0.09768</td>\n",
       "      <td>0.92010</td>\n",
       "      <td>-11.17952</td>\n",
       "      <td>0.59877</td>\n",
       "      <td>False</td>\n",
       "      <td>18.81785</td>\n",
       "    </tr>\n",
       "    <tr>\n",
       "      <th>4</th>\n",
       "      <td>4</td>\n",
       "      <td>Jorg</td>\n",
       "      <td>1.25346</td>\n",
       "      <td>0.09320</td>\n",
       "      <td>1.54063</td>\n",
       "      <td>-9.33171</td>\n",
       "      <td>9.92016</td>\n",
       "      <td>0.09889</td>\n",
       "      <td>Jerry Fernström</td>\n",
       "      <td>-0.46134</td>\n",
       "      <td>0.16381</td>\n",
       "      <td>-12.07755</td>\n",
       "      <td>1.09106</td>\n",
       "      <td>True</td>\n",
       "      <td>63.44326</td>\n",
       "    </tr>\n",
       "  </tbody>\n",
       "</table>\n",
       "</div>"
      ],
      "text/plain": [
       "  Unnamed: 0        y       x1       x2       x3       x4        x5        x6  \\\n",
       "0          0  Shoogee  2.20274 -0.04690 -4.69816 -9.07800  10.13118  -0.08900   \n",
       "1          1      Bob  2.01516 -0.12177 -4.24286 -9.79772   9.98259  -0.01485   \n",
       "2          2      Bob  0.02598 -0.24764  0.39977 -9.54167  10.53391  -0.27978   \n",
       "3          3     Jorg  0.39778 -0.83343 -2.14272 -9.06550  10.15047  -0.84583   \n",
       "4          4     Jorg  1.25346  0.09320  1.54063 -9.33171   9.92016   0.09889   \n",
       "\n",
       "                   x7       x8       x9       x10      x11    x12        x13  \n",
       "0  Erik Sven Williams  0.54191  0.52041  -5.66990 -0.93831  False  107.78776  \n",
       "1  Erik Sven Williams -1.21671  1.18749  -9.25300 -1.21892  False   98.63633  \n",
       "2  Erik Sven Williams -2.39764  1.95167  -9.46447 -2.68910   True    1.49880  \n",
       "3    Jerry från Solna  0.09768  0.92010 -11.17952  0.59877  False   18.81785  \n",
       "4     Jerry Fernström -0.46134  0.16381 -12.07755  1.09106   True   63.44326  "
      ]
     },
     "execution_count": 2,
     "metadata": {},
     "output_type": "execute_result"
    }
   ],
   "source": [
    "df = pd.read_csv(r'Data\\TrainOnMe-2.csv')\n",
    "df.head()"
   ]
  },
  {
   "cell_type": "markdown",
   "id": "ed46d2e7-c614-410a-9906-3df394c6bedc",
   "metadata": {},
   "source": [
    "## Cleaning the data"
   ]
  },
  {
   "cell_type": "markdown",
   "id": "f6c07def",
   "metadata": {},
   "source": [
    "##### Need to get rid of NaN values in y and rows where x6 is a string so that all x6's are floats."
   ]
  },
  {
   "cell_type": "code",
   "execution_count": 3,
   "id": "9da08f8f",
   "metadata": {
    "scrolled": true
   },
   "outputs": [
    {
     "name": "stdout",
     "output_type": "stream",
     "text": [
      "<class 'pandas.core.frame.DataFrame'>\n",
      "Int64Index: 995 entries, 0 to 1003\n",
      "Data columns (total 14 columns):\n",
      " #   Column  Non-Null Count  Dtype  \n",
      "---  ------  --------------  -----  \n",
      " 0   y       995 non-null    object \n",
      " 1   x1      995 non-null    float64\n",
      " 2   x2      995 non-null    float64\n",
      " 3   x3      995 non-null    float64\n",
      " 4   x4      995 non-null    float64\n",
      " 5   x5      995 non-null    float64\n",
      " 6   x6      995 non-null    float64\n",
      " 7   x7      995 non-null    object \n",
      " 8   x8      995 non-null    float64\n",
      " 9   x9      995 non-null    float64\n",
      " 10  x10     995 non-null    float64\n",
      " 11  x11     995 non-null    float64\n",
      " 12  x12     995 non-null    object \n",
      " 13  x13     995 non-null    float64\n",
      "dtypes: float64(11), object(3)\n",
      "memory usage: 116.6+ KB\n"
     ]
    }
   ],
   "source": [
    "df = df.drop(df.columns[0], axis=1) # Drops first \"Unnamed\" column\n",
    "df = df.drop(df[pd.to_numeric(df['x6'], errors='coerce').isnull()].index) # Drops rows where x6 cannot be converted to float (thus is an object)\n",
    "df[\"x6\"] = pd.to_numeric(df[\"x6\"]) # Converts remaining variables in x6 to floats\n",
    "df = df.dropna() # Drops all NaN and NaT values\n",
    "df.info()"
   ]
  },
  {
   "cell_type": "markdown",
   "id": "fd03d5a7",
   "metadata": {},
   "source": [
    "## Enhancing the data"
   ]
  },
  {
   "cell_type": "markdown",
   "id": "b10f33f2",
   "metadata": {},
   "source": [
    "#### Encoding the two categorical variables x7 and x12"
   ]
  },
  {
   "cell_type": "code",
   "execution_count": 4,
   "id": "3b59677c",
   "metadata": {},
   "outputs": [],
   "source": [
    "encoder = ce.OrdinalEncoder(cols=['x7', 'x12'])\n",
    "df = encoder.fit_transform(df)"
   ]
  },
  {
   "cell_type": "code",
   "execution_count": 5,
   "id": "9070d6c0",
   "metadata": {},
   "outputs": [
    {
     "data": {
      "text/plain": [
       "Jorg       342\n",
       "Shoogee    290\n",
       "Bob        268\n",
       "Atsuto      95\n",
       "Name: y, dtype: int64"
      ]
     },
     "execution_count": 5,
     "metadata": {},
     "output_type": "execute_result"
    }
   ],
   "source": [
    "df['y'].value_counts()"
   ]
  },
  {
   "cell_type": "markdown",
   "id": "89c1b398",
   "metadata": {},
   "source": [
    "#### There are not many \"Atsuto\" data points, so oversampling will be used"
   ]
  },
  {
   "cell_type": "code",
   "execution_count": 6,
   "id": "9d090ff8",
   "metadata": {},
   "outputs": [],
   "source": [
    "df, y = df[['x1','x2','x3','x4','x5','x6','x7','x8','x9','x10','x11','x12','x13']], df['y']\n",
    "oversample = SMOTE(sampling_strategy = {'Jorg' :342, 'Shoogee':290, 'Bob':268, 'Atsuto':222})\n",
    "df, y = oversample.fit_resample(df, y)\n",
    "df['x7'] = np.round(df['x7'])"
   ]
  },
  {
   "cell_type": "markdown",
   "id": "87acafea",
   "metadata": {},
   "source": [
    "#### Checking colinearity between variables"
   ]
  },
  {
   "cell_type": "code",
   "execution_count": 7,
   "id": "e272f76a",
   "metadata": {
    "scrolled": true
   },
   "outputs": [
    {
     "data": {
      "text/plain": [
       "<AxesSubplot:>"
      ]
     },
     "execution_count": 7,
     "metadata": {},
     "output_type": "execute_result"
    },
    {
     "data": {
      "image/png": "[encoded data removed]",
      "text/plain": [
       "<Figure size 1080x720 with 2 Axes>"
      ]
     },
     "metadata": {
      "needs_background": "light"
     },
     "output_type": "display_data"
    }
   ],
   "source": [
    "correlation = df[['x1','x2','x3','x4','x5','x6','x8','x9','x10','x11','x13']].corr()\n",
    "plt.figure(figsize=(15,10))\n",
    "sb.heatmap(correlation, cmap='coolwarm', annot = True)"
   ]
  },
  {
   "cell_type": "markdown",
   "id": "f01116e3",
   "metadata": {},
   "source": [
    "#### Since x1 and x2 are extremely correlated with x13 and x6 respectively, they can be removed."
   ]
  },
  {
   "cell_type": "code",
   "execution_count": 8,
   "id": "e02bd1cc",
   "metadata": {},
   "outputs": [],
   "source": [
    "df.drop('x1', axis = 1, inplace=True)\n",
    "df.drop('x2', axis = 1, inplace=True)"
   ]
  },
  {
   "cell_type": "code",
   "execution_count": 9,
   "id": "0620c826",
   "metadata": {},
   "outputs": [
    {
     "data": {
      "text/html": [
       "<div>\n",
       "<style scoped>\n",
       "    .dataframe tbody tr th:only-of-type {\n",
       "        vertical-align: middle;\n",
       "    }\n",
       "\n",
       "    .dataframe tbody tr th {\n",
       "        vertical-align: top;\n",
       "    }\n",
       "\n",
       "    .dataframe thead th {\n",
       "        text-align: right;\n",
       "    }\n",
       "</style>\n",
       "<table border=\"1\" class=\"dataframe\">\n",
       "  <thead>\n",
       "    <tr style=\"text-align: right;\">\n",
       "      <th></th>\n",
       "      <th>x3</th>\n",
       "      <th>x4</th>\n",
       "      <th>x5</th>\n",
       "      <th>x6</th>\n",
       "      <th>x7</th>\n",
       "      <th>x8</th>\n",
       "      <th>x9</th>\n",
       "      <th>x10</th>\n",
       "      <th>x11</th>\n",
       "      <th>x12</th>\n",
       "      <th>x13</th>\n",
       "    </tr>\n",
       "  </thead>\n",
       "  <tbody>\n",
       "    <tr>\n",
       "      <th>count</th>\n",
       "      <td>1122.000000</td>\n",
       "      <td>1.122000e+03</td>\n",
       "      <td>1122.000000</td>\n",
       "      <td>1122.000000</td>\n",
       "      <td>1122.000000</td>\n",
       "      <td>1122.000000</td>\n",
       "      <td>1122.000000</td>\n",
       "      <td>1122.000000</td>\n",
       "      <td>1.122000e+03</td>\n",
       "      <td>1122.000000</td>\n",
       "      <td>1122.000000</td>\n",
       "    </tr>\n",
       "    <tr>\n",
       "      <th>mean</th>\n",
       "      <td>-0.986757</td>\n",
       "      <td>-8.022311e+04</td>\n",
       "      <td>10.307115</td>\n",
       "      <td>0.034498</td>\n",
       "      <td>2.318182</td>\n",
       "      <td>-0.002686</td>\n",
       "      <td>0.000267</td>\n",
       "      <td>-8.742520</td>\n",
       "      <td>8.912656e+17</td>\n",
       "      <td>1.361854</td>\n",
       "      <td>49.101977</td>\n",
       "    </tr>\n",
       "    <tr>\n",
       "      <th>std</th>\n",
       "      <td>3.218305</td>\n",
       "      <td>2.686866e+06</td>\n",
       "      <td>0.259226</td>\n",
       "      <td>0.692774</td>\n",
       "      <td>1.114101</td>\n",
       "      <td>1.229575</td>\n",
       "      <td>1.349305</td>\n",
       "      <td>1.586074</td>\n",
       "      <td>2.985407e+19</td>\n",
       "      <td>0.480751</td>\n",
       "      <td>46.274833</td>\n",
       "    </tr>\n",
       "    <tr>\n",
       "      <th>min</th>\n",
       "      <td>-11.985670</td>\n",
       "      <td>-9.000000e+07</td>\n",
       "      <td>9.781430</td>\n",
       "      <td>-2.115920</td>\n",
       "      <td>1.000000</td>\n",
       "      <td>-5.271550</td>\n",
       "      <td>-5.259760</td>\n",
       "      <td>-14.571440</td>\n",
       "      <td>-6.000520e+00</td>\n",
       "      <td>1.000000</td>\n",
       "      <td>-87.163650</td>\n",
       "    </tr>\n",
       "    <tr>\n",
       "      <th>25%</th>\n",
       "      <td>-3.179660</td>\n",
       "      <td>-9.490118e+00</td>\n",
       "      <td>10.112575</td>\n",
       "      <td>-0.443580</td>\n",
       "      <td>1.000000</td>\n",
       "      <td>-0.720515</td>\n",
       "      <td>-0.800050</td>\n",
       "      <td>-9.800013</td>\n",
       "      <td>-2.026943e+00</td>\n",
       "      <td>1.000000</td>\n",
       "      <td>19.367925</td>\n",
       "    </tr>\n",
       "    <tr>\n",
       "      <th>50%</th>\n",
       "      <td>-1.114050</td>\n",
       "      <td>-9.220970e+00</td>\n",
       "      <td>10.291905</td>\n",
       "      <td>0.033605</td>\n",
       "      <td>3.000000</td>\n",
       "      <td>0.025130</td>\n",
       "      <td>0.009014</td>\n",
       "      <td>-8.761400</td>\n",
       "      <td>-1.167370e+00</td>\n",
       "      <td>1.000000</td>\n",
       "      <td>47.628860</td>\n",
       "    </tr>\n",
       "    <tr>\n",
       "      <th>75%</th>\n",
       "      <td>1.223815</td>\n",
       "      <td>-8.947612e+00</td>\n",
       "      <td>10.491392</td>\n",
       "      <td>0.492745</td>\n",
       "      <td>3.000000</td>\n",
       "      <td>0.749748</td>\n",
       "      <td>0.849843</td>\n",
       "      <td>-7.706190</td>\n",
       "      <td>-1.184975e-01</td>\n",
       "      <td>2.000000</td>\n",
       "      <td>77.684505</td>\n",
       "    </tr>\n",
       "    <tr>\n",
       "      <th>max</th>\n",
       "      <td>8.743360</td>\n",
       "      <td>-8.292200e+00</td>\n",
       "      <td>10.992940</td>\n",
       "      <td>1.949280</td>\n",
       "      <td>5.000000</td>\n",
       "      <td>4.038190</td>\n",
       "      <td>4.813840</td>\n",
       "      <td>-3.201190</td>\n",
       "      <td>1.000000e+21</td>\n",
       "      <td>2.000000</td>\n",
       "      <td>197.648100</td>\n",
       "    </tr>\n",
       "  </tbody>\n",
       "</table>\n",
       "</div>"
      ],
      "text/plain": [
       "                x3            x4           x5           x6           x7  \\\n",
       "count  1122.000000  1.122000e+03  1122.000000  1122.000000  1122.000000   \n",
       "mean     -0.986757 -8.022311e+04    10.307115     0.034498     2.318182   \n",
       "std       3.218305  2.686866e+06     0.259226     0.692774     1.114101   \n",
       "min     -11.985670 -9.000000e+07     9.781430    -2.115920     1.000000   \n",
       "25%      -3.179660 -9.490118e+00    10.112575    -0.443580     1.000000   \n",
       "50%      -1.114050 -9.220970e+00    10.291905     0.033605     3.000000   \n",
       "75%       1.223815 -8.947612e+00    10.491392     0.492745     3.000000   \n",
       "max       8.743360 -8.292200e+00    10.992940     1.949280     5.000000   \n",
       "\n",
       "                x8           x9          x10           x11          x12  \\\n",
       "count  1122.000000  1122.000000  1122.000000  1.122000e+03  1122.000000   \n",
       "mean     -0.002686     0.000267    -8.742520  8.912656e+17     1.361854   \n",
       "std       1.229575     1.349305     1.586074  2.985407e+19     0.480751   \n",
       "min      -5.271550    -5.259760   -14.571440 -6.000520e+00     1.000000   \n",
       "25%      -0.720515    -0.800050    -9.800013 -2.026943e+00     1.000000   \n",
       "50%       0.025130     0.009014    -8.761400 -1.167370e+00     1.000000   \n",
       "75%       0.749748     0.849843    -7.706190 -1.184975e-01     2.000000   \n",
       "max       4.038190     4.813840    -3.201190  1.000000e+21     2.000000   \n",
       "\n",
       "               x13  \n",
       "count  1122.000000  \n",
       "mean     49.101977  \n",
       "std      46.274833  \n",
       "min     -87.163650  \n",
       "25%      19.367925  \n",
       "50%      47.628860  \n",
       "75%      77.684505  \n",
       "max     197.648100  "
      ]
     },
     "execution_count": 9,
     "metadata": {},
     "output_type": "execute_result"
    }
   ],
   "source": [
    "df.describe()"
   ]
  },
  {
   "cell_type": "markdown",
   "id": "5f2323ea",
   "metadata": {},
   "source": [
    "#### Note: x4 and x11 have extremely high standard deviations."
   ]
  },
  {
   "cell_type": "markdown",
   "id": "7973078d",
   "metadata": {},
   "source": [
    "#### x4 and x11 have extreme values as shown below."
   ]
  },
  {
   "cell_type": "code",
   "execution_count": 10,
   "id": "01a80633-ab7a-4314-8059-3289cc0e2f60",
   "metadata": {},
   "outputs": [
    {
     "data": {
      "image/png": "[encoded data removed]",
      "text/plain": [
       "<Figure size 1440x360 with 2 Axes>"
      ]
     },
     "metadata": {
      "needs_background": "light"
     },
     "output_type": "display_data"
    }
   ],
   "source": [
    "plt.figure(figsize=(20, 5))\n",
    "\n",
    "plt.subplot(1, 2, 1)\n",
    "stats.probplot(df['x4'], dist = \"norm\", plot = plt)\n",
    "plt.title(\"Probability Plot: x4\")\n",
    "\n",
    "plt.subplot(1, 2, 2)\n",
    "stats.probplot(df['x11'], dist = \"norm\", plot = plt)\n",
    "plt.title(\"Probability Plot: x11\")\n",
    "\n",
    "plt.show()"
   ]
  },
  {
   "cell_type": "markdown",
   "id": "45f44153",
   "metadata": {},
   "source": [
    "#### Getting rid of these extremes by replacing their value by their variable means."
   ]
  },
  {
   "cell_type": "code",
   "execution_count": 11,
   "id": "502d87ca",
   "metadata": {},
   "outputs": [],
   "source": [
    "x4_nextreme = df[df['x4'] > -100000]\n",
    "x11_nextreme = df[df['x11'] < 100000]\n",
    "\n",
    "df.loc[df['x4'].idxmin(),'x4'] = np.mean(x4_nextreme['x4'])\n",
    "df.loc[df['x11'].idxmax(),'x11'] = np.mean(x11_nextreme['x11'])"
   ]
  },
  {
   "cell_type": "markdown",
   "id": "fbd6e288",
   "metadata": {},
   "source": [
    "#### Box-cox transform x4, x5 and x11"
   ]
  },
  {
   "cell_type": "code",
   "execution_count": 12,
   "id": "d54c0317",
   "metadata": {},
   "outputs": [
    {
     "data": {
      "image/png": "[encoded data removed]",
      "text/plain": [
       "<Figure size 1440x360 with 3 Axes>"
      ]
     },
     "metadata": {
      "needs_background": "light"
     },
     "output_type": "display_data"
    }
   ],
   "source": [
    "plt.figure(figsize=(20, 5))\n",
    "\n",
    "plt.subplot(1, 3, 1)\n",
    "stats.probplot(df['x4'], dist = \"norm\", plot = plt)\n",
    "plt.title(\"Probability Plot: x4\")\n",
    "\n",
    "plt.subplot(1, 3, 2)\n",
    "stats.probplot(df['x5'], dist = \"norm\", plot = plt)\n",
    "plt.title(\"Probability Plot: x5\")\n",
    "\n",
    "plt.subplot(1, 3, 3)\n",
    "stats.probplot(df['x11'], dist = \"norm\", plot = plt)\n",
    "plt.title(\"Probability Plot: x11\")\n",
    "\n",
    "plt.show()"
   ]
  },
  {
   "cell_type": "code",
   "execution_count": 13,
   "id": "0e566304-8268-4f86-a12e-7ec01383fbeb",
   "metadata": {},
   "outputs": [],
   "source": [
    "x4_new, lambda_4 = boxcox(np.exp(df['x4'].values))\n",
    "x5_new, lambda_5 = boxcox(df['x5'].values)\n",
    "x11_new, lambda_11 = boxcox(np.exp(df['x11']).values)"
   ]
  },
  {
   "cell_type": "code",
   "execution_count": 14,
   "id": "1dc06733-03f9-4972-a691-4a3e37f5baf7",
   "metadata": {},
   "outputs": [
    {
     "data": {
      "image/png": "[encoded data removed]",
      "text/plain": [
       "<Figure size 1440x360 with 3 Axes>"
      ]
     },
     "metadata": {
      "needs_background": "light"
     },
     "output_type": "display_data"
    }
   ],
   "source": [
    "plt.figure(figsize=(20, 5))\n",
    "\n",
    "plt.subplot(1, 3, 1)\n",
    "stats.probplot(x4_new, dist = \"norm\", plot = plt)\n",
    "plt.title(\"Transformed Probability Plot: x4\")\n",
    "\n",
    "plt.subplot(1, 3, 2)\n",
    "stats.probplot(x5_new, dist = \"norm\", plot = plt)\n",
    "plt.title(\"Transformed Probability Plot: x5\")\n",
    "\n",
    "plt.subplot(1, 3, 3)\n",
    "stats.probplot(x11_new, dist = \"norm\", plot = plt)\n",
    "plt.title(\"Transformed Probability Plot: x11\")\n",
    "\n",
    "plt.show()"
   ]
  },
  {
   "cell_type": "code",
   "execution_count": 15,
   "id": "eb1a9f50",
   "metadata": {},
   "outputs": [
    {
     "name": "stdout",
     "output_type": "stream",
     "text": [
      "<class 'pandas.core.frame.DataFrame'>\n",
      "RangeIndex: 1122 entries, 0 to 1121\n",
      "Data columns (total 11 columns):\n",
      " #   Column   Non-Null Count  Dtype  \n",
      "---  ------   --------------  -----  \n",
      " 0   x3       1122 non-null   float64\n",
      " 1   x4_new   1122 non-null   float64\n",
      " 2   x5_new   1122 non-null   float64\n",
      " 3   x6       1122 non-null   float64\n",
      " 4   x7       1122 non-null   int32  \n",
      " 5   x8       1122 non-null   float64\n",
      " 6   x9       1122 non-null   float64\n",
      " 7   x10      1122 non-null   float64\n",
      " 8   x12      1122 non-null   int32  \n",
      " 9   x11_new  1122 non-null   float64\n",
      " 10  x13      1122 non-null   float64\n",
      "dtypes: float64(9), int32(2)\n",
      "memory usage: 87.8 KB\n"
     ]
    }
   ],
   "source": [
    "df = df[['x3','x6','x7','x8','x9','x10','x12','x13']]\n",
    "df.insert(loc = 1, column = 'x4_new', value = x4_new)\n",
    "df.insert(loc = 2, column = 'x5_new', value = x5_new)\n",
    "df.insert(loc = 9, column = 'x11_new', value = x11_new)\n",
    "df.info()"
   ]
  },
  {
   "cell_type": "markdown",
   "id": "456cb847-89fb-499c-8fc6-fd8f7769a7a1",
   "metadata": {},
   "source": [
    "#### Scaling the variables"
   ]
  },
  {
   "cell_type": "markdown",
   "id": "e62a0fe8-ce4b-4a2c-9bc1-c7839908411e",
   "metadata": {},
   "source": [
    "#### Scaling"
   ]
  },
  {
   "cell_type": "code",
   "execution_count": 16,
   "id": "ec7ce4de-c4b6-4607-ac0e-b34ca24e55bd",
   "metadata": {},
   "outputs": [],
   "source": [
    "df[['x3','x4_new','x5_new','x6',\n",
    "    'x8','x9','x10','x11_new', 'x13']] = StandardScaler().fit_transform(df[['x3','x4_new','x5_new','x6',\n",
    "                                                                            'x8','x9','x10','x11_new', 'x13']])"
   ]
  },
  {
   "cell_type": "markdown",
   "id": "5fadd597",
   "metadata": {},
   "source": [
    "#### Outliers"
   ]
  },
  {
   "cell_type": "code",
   "execution_count": 17,
   "id": "fce66f6c",
   "metadata": {},
   "outputs": [
    {
     "data": {
      "text/plain": [
       "<AxesSubplot:>"
      ]
     },
     "execution_count": 17,
     "metadata": {},
     "output_type": "execute_result"
    },
    {
     "data": {
      "image/png": "[encoded data removed]",
      "text/plain": [
       "<Figure size 1080x720 with 1 Axes>"
      ]
     },
     "metadata": {
      "needs_background": "light"
     },
     "output_type": "display_data"
    }
   ],
   "source": [
    "variables = ['x3','x4_new','x5_new','x6','x8','x9','x10','x11_new', 'x13'] # We only take into account the continuous variables\n",
    "plt.figure(figsize = (15, 10))\n",
    "sb.boxplot(data = df[variables])"
   ]
  },
  {
   "cell_type": "code",
   "execution_count": 18,
   "id": "e641b0e2-762d-467d-a6b2-234704d2bc21",
   "metadata": {},
   "outputs": [],
   "source": [
    "def tail_low(df):\n",
    "    return df.quantile(0.25) - 1.8 * (df.quantile(0.75) - df.quantile(0.25))\n",
    "def tail_up(df):\n",
    "    return df.quantile(0.75) + 1.8 * (df.quantile(0.75) - df.quantile(0.25))"
   ]
  },
  {
   "cell_type": "code",
   "execution_count": 19,
   "id": "5a325b9e",
   "metadata": {},
   "outputs": [],
   "source": [
    "for i in variables:\n",
    "    df.loc[df[i] > tail_up(df[i]), i] = tail_up(df[i]) \n",
    "for i in variables:\n",
    "    df.loc[df[i] < tail_low(df[i]), i] = tail_low(df[i]) "
   ]
  },
  {
   "cell_type": "markdown",
   "id": "de3435bc",
   "metadata": {},
   "source": [
    "## Training a random Forest model"
   ]
  },
  {
   "cell_type": "markdown",
   "id": "834390e2-6fb7-4db7-84dd-9cae04eb81b8",
   "metadata": {},
   "source": [
    "#### x7 and x12 are left out as they are they are the least important features"
   ]
  },
  {
   "cell_type": "code",
   "execution_count": 20,
   "id": "957502c4",
   "metadata": {},
   "outputs": [],
   "source": [
    "X_train = df[['x3', 'x4_new', 'x5_new', 'x6', 'x8', 'x9', 'x10', 'x11_new', 'x13']]\n",
    "y_train = y"
   ]
  },
  {
   "cell_type": "code",
   "execution_count": 21,
   "id": "d7f81341",
   "metadata": {},
   "outputs": [
    {
     "name": "stdout",
     "output_type": "stream",
     "text": [
      "Wall time: 3min 15s\n",
      "Best accuracy: 0.675607 using parameters: {'bootstrap': True, 'max_features': 3, 'n_estimators': 228}\n",
      "0.672048 (0.020860) with: {'bootstrap': True, 'max_features': 3, 'n_estimators': 60}\n",
      "0.659544 (0.015414) with: {'bootstrap': True, 'max_features': 3, 'n_estimators': 81}\n",
      "0.671147 (0.022811) with: {'bootstrap': True, 'max_features': 3, 'n_estimators': 102}\n",
      "0.661337 (0.012412) with: {'bootstrap': True, 'max_features': 3, 'n_estimators': 123}\n",
      "0.672929 (0.017758) with: {'bootstrap': True, 'max_features': 3, 'n_estimators': 144}\n",
      "0.664008 (0.018562) with: {'bootstrap': True, 'max_features': 3, 'n_estimators': 165}\n",
      "0.664929 (0.023503) with: {'bootstrap': True, 'max_features': 3, 'n_estimators': 186}\n",
      "0.667583 (0.028698) with: {'bootstrap': True, 'max_features': 3, 'n_estimators': 207}\n",
      "0.675607 (0.023442) with: {'bootstrap': True, 'max_features': 3, 'n_estimators': 228}\n",
      "0.664921 (0.022760) with: {'bootstrap': True, 'max_features': 3, 'n_estimators': 250}\n",
      "0.648849 (0.020840) with: {'bootstrap': True, 'max_features': 6, 'n_estimators': 60}\n",
      "0.654218 (0.026612) with: {'bootstrap': True, 'max_features': 6, 'n_estimators': 81}\n",
      "0.664036 (0.028461) with: {'bootstrap': True, 'max_features': 6, 'n_estimators': 102}\n",
      "0.664032 (0.026935) with: {'bootstrap': True, 'max_features': 6, 'n_estimators': 123}\n",
      "0.656000 (0.015652) with: {'bootstrap': True, 'max_features': 6, 'n_estimators': 144}\n",
      "0.663131 (0.019948) with: {'bootstrap': True, 'max_features': 6, 'n_estimators': 165}\n",
      "0.670262 (0.020412) with: {'bootstrap': True, 'max_features': 6, 'n_estimators': 186}\n",
      "0.665798 (0.021314) with: {'bootstrap': True, 'max_features': 6, 'n_estimators': 207}\n",
      "0.665810 (0.024891) with: {'bootstrap': True, 'max_features': 6, 'n_estimators': 228}\n",
      "0.670270 (0.027745) with: {'bootstrap': True, 'max_features': 6, 'n_estimators': 250}\n",
      "0.658710 (0.036076) with: {'bootstrap': True, 'max_features': 9, 'n_estimators': 60}\n",
      "0.665825 (0.033090) with: {'bootstrap': True, 'max_features': 9, 'n_estimators': 81}\n",
      "0.668476 (0.021718) with: {'bootstrap': True, 'max_features': 9, 'n_estimators': 102}\n",
      "0.664032 (0.023624) with: {'bootstrap': True, 'max_features': 9, 'n_estimators': 123}\n",
      "0.670274 (0.025117) with: {'bootstrap': True, 'max_features': 9, 'n_estimators': 144}\n",
      "0.653329 (0.018372) with: {'bootstrap': True, 'max_features': 9, 'n_estimators': 165}\n",
      "0.664933 (0.030522) with: {'bootstrap': True, 'max_features': 9, 'n_estimators': 186}\n",
      "0.659587 (0.024746) with: {'bootstrap': True, 'max_features': 9, 'n_estimators': 207}\n",
      "0.658671 (0.024655) with: {'bootstrap': True, 'max_features': 9, 'n_estimators': 228}\n",
      "0.660472 (0.024655) with: {'bootstrap': True, 'max_features': 9, 'n_estimators': 250}\n",
      "0.638206 (0.034254) with: {'bootstrap': False, 'max_features': 3, 'n_estimators': 60}\n",
      "0.641750 (0.029981) with: {'bootstrap': False, 'max_features': 3, 'n_estimators': 81}\n",
      "0.637278 (0.016047) with: {'bootstrap': False, 'max_features': 3, 'n_estimators': 102}\n",
      "0.644425 (0.028449) with: {'bootstrap': False, 'max_features': 3, 'n_estimators': 123}\n",
      "0.639079 (0.032728) with: {'bootstrap': False, 'max_features': 3, 'n_estimators': 144}\n",
      "0.644444 (0.034289) with: {'bootstrap': False, 'max_features': 3, 'n_estimators': 165}\n",
      "0.641766 (0.032082) with: {'bootstrap': False, 'max_features': 3, 'n_estimators': 186}\n",
      "0.638198 (0.029093) with: {'bootstrap': False, 'max_features': 3, 'n_estimators': 207}\n",
      "0.647984 (0.027028) with: {'bootstrap': False, 'max_features': 3, 'n_estimators': 228}\n",
      "0.647107 (0.028458) with: {'bootstrap': False, 'max_features': 3, 'n_estimators': 250}\n",
      "0.617702 (0.041260) with: {'bootstrap': False, 'max_features': 6, 'n_estimators': 60}\n",
      "0.627508 (0.032771) with: {'bootstrap': False, 'max_features': 6, 'n_estimators': 81}\n",
      "0.626623 (0.039101) with: {'bootstrap': False, 'max_features': 6, 'n_estimators': 102}\n",
      "0.622163 (0.038421) with: {'bootstrap': False, 'max_features': 6, 'n_estimators': 123}\n",
      "0.623948 (0.036363) with: {'bootstrap': False, 'max_features': 6, 'n_estimators': 144}\n",
      "0.627500 (0.029419) with: {'bootstrap': False, 'max_features': 6, 'n_estimators': 165}\n",
      "0.624837 (0.034824) with: {'bootstrap': False, 'max_features': 6, 'n_estimators': 186}\n",
      "0.626623 (0.037753) with: {'bootstrap': False, 'max_features': 6, 'n_estimators': 207}\n",
      "0.622147 (0.036018) with: {'bootstrap': False, 'max_features': 6, 'n_estimators': 228}\n",
      "0.628405 (0.036499) with: {'bootstrap': False, 'max_features': 6, 'n_estimators': 250}\n",
      "0.536595 (0.050445) with: {'bootstrap': False, 'max_features': 9, 'n_estimators': 60}\n",
      "0.539290 (0.044203) with: {'bootstrap': False, 'max_features': 9, 'n_estimators': 81}\n",
      "0.536603 (0.050993) with: {'bootstrap': False, 'max_features': 9, 'n_estimators': 102}\n",
      "0.541948 (0.048406) with: {'bootstrap': False, 'max_features': 9, 'n_estimators': 123}\n",
      "0.537496 (0.050693) with: {'bootstrap': False, 'max_features': 9, 'n_estimators': 144}\n",
      "0.539270 (0.044353) with: {'bootstrap': False, 'max_features': 9, 'n_estimators': 165}\n",
      "0.541060 (0.043028) with: {'bootstrap': False, 'max_features': 9, 'n_estimators': 186}\n",
      "0.537492 (0.046729) with: {'bootstrap': False, 'max_features': 9, 'n_estimators': 207}\n",
      "0.540179 (0.050842) with: {'bootstrap': False, 'max_features': 9, 'n_estimators': 228}\n",
      "0.536607 (0.047468) with: {'bootstrap': False, 'max_features': 9, 'n_estimators': 250}\n"
     ]
    }
   ],
   "source": [
    "n_estimators = [int(x) for x in np.linspace(start = 60, stop = 250, num = 10)]\n",
    "max_features = [3, 6, 9]\n",
    "bootstrap = [True, False]\n",
    "\n",
    "param_grid = {'n_estimators': n_estimators,\n",
    "             'max_features': max_features,\n",
    "             'bootstrap': bootstrap}\n",
    "\n",
    "rf = RandomForestClassifier()\n",
    "\n",
    "grid_rf = GridSearchCV(estimator = rf, param_grid = param_grid, cv = 5)\n",
    "\n",
    "%time grid_rf_result = grid_rf.fit(X_train,y_train)\n",
    "\n",
    "# Get the best accuracy\n",
    "print(\"Best accuracy: %f using parameters: %s\" % (grid_rf_result.best_score_, grid_rf_result.best_params_))\n",
    "means = grid_rf_result.cv_results_['mean_test_score']\n",
    "stds = grid_rf_result.cv_results_['std_test_score']\n",
    "params = grid_rf_result.cv_results_['params']\n",
    "for mean, stdev, param in zip(means, stds, params):\n",
    "    print(\"%f (%f) with: %r\" % (mean, stdev, param))"
   ]
  },
  {
   "cell_type": "markdown",
   "id": "4d1d9563",
   "metadata": {},
   "source": [
    "## Examining the test data"
   ]
  },
  {
   "cell_type": "code",
   "execution_count": 22,
   "id": "184b1a1d",
   "metadata": {},
   "outputs": [
    {
     "data": {
      "text/html": [
       "<div>\n",
       "<style scoped>\n",
       "    .dataframe tbody tr th:only-of-type {\n",
       "        vertical-align: middle;\n",
       "    }\n",
       "\n",
       "    .dataframe tbody tr th {\n",
       "        vertical-align: top;\n",
       "    }\n",
       "\n",
       "    .dataframe thead th {\n",
       "        text-align: right;\n",
       "    }\n",
       "</style>\n",
       "<table border=\"1\" class=\"dataframe\">\n",
       "  <thead>\n",
       "    <tr style=\"text-align: right;\">\n",
       "      <th></th>\n",
       "      <th>Unnamed: 0</th>\n",
       "      <th>x1</th>\n",
       "      <th>x2</th>\n",
       "      <th>x3</th>\n",
       "      <th>x4</th>\n",
       "      <th>x5</th>\n",
       "      <th>x6</th>\n",
       "      <th>x7</th>\n",
       "      <th>x8</th>\n",
       "      <th>x9</th>\n",
       "      <th>x10</th>\n",
       "      <th>x11</th>\n",
       "      <th>x12</th>\n",
       "      <th>x13</th>\n",
       "    </tr>\n",
       "  </thead>\n",
       "  <tbody>\n",
       "    <tr>\n",
       "      <th>0</th>\n",
       "      <td>1000</td>\n",
       "      <td>0.81313</td>\n",
       "      <td>0.38023</td>\n",
       "      <td>5.85070</td>\n",
       "      <td>-9.18530</td>\n",
       "      <td>9.93106</td>\n",
       "      <td>0.36759</td>\n",
       "      <td>Jerry Fernström</td>\n",
       "      <td>1.83292</td>\n",
       "      <td>1.89491</td>\n",
       "      <td>-6.29609</td>\n",
       "      <td>-0.62245</td>\n",
       "      <td>True</td>\n",
       "      <td>43.58182</td>\n",
       "    </tr>\n",
       "    <tr>\n",
       "      <th>1</th>\n",
       "      <td>1001</td>\n",
       "      <td>0.05435</td>\n",
       "      <td>0.89732</td>\n",
       "      <td>1.50829</td>\n",
       "      <td>-8.79618</td>\n",
       "      <td>9.84085</td>\n",
       "      <td>0.83846</td>\n",
       "      <td>Erik Sven Fernström</td>\n",
       "      <td>-1.75396</td>\n",
       "      <td>-0.71970</td>\n",
       "      <td>-8.54241</td>\n",
       "      <td>-2.00896</td>\n",
       "      <td>True</td>\n",
       "      <td>3.47168</td>\n",
       "    </tr>\n",
       "    <tr>\n",
       "      <th>2</th>\n",
       "      <td>1002</td>\n",
       "      <td>0.93130</td>\n",
       "      <td>1.13181</td>\n",
       "      <td>-6.25123</td>\n",
       "      <td>-9.24025</td>\n",
       "      <td>9.97088</td>\n",
       "      <td>1.10935</td>\n",
       "      <td>Erik Sven Fernström</td>\n",
       "      <td>-1.89190</td>\n",
       "      <td>-0.71282</td>\n",
       "      <td>-11.91278</td>\n",
       "      <td>-0.24137</td>\n",
       "      <td>False</td>\n",
       "      <td>43.43945</td>\n",
       "    </tr>\n",
       "    <tr>\n",
       "      <th>3</th>\n",
       "      <td>1003</td>\n",
       "      <td>0.81462</td>\n",
       "      <td>0.32761</td>\n",
       "      <td>-2.58948</td>\n",
       "      <td>-9.90454</td>\n",
       "      <td>10.21894</td>\n",
       "      <td>0.28165</td>\n",
       "      <td>Jerry Fernström</td>\n",
       "      <td>0.71816</td>\n",
       "      <td>0.55542</td>\n",
       "      <td>-9.96034</td>\n",
       "      <td>-1.35239</td>\n",
       "      <td>False</td>\n",
       "      <td>39.43638</td>\n",
       "    </tr>\n",
       "    <tr>\n",
       "      <th>4</th>\n",
       "      <td>1004</td>\n",
       "      <td>2.02671</td>\n",
       "      <td>0.71385</td>\n",
       "      <td>-4.34367</td>\n",
       "      <td>-9.14374</td>\n",
       "      <td>10.12963</td>\n",
       "      <td>0.72507</td>\n",
       "      <td>Jerry Fernström</td>\n",
       "      <td>0.43896</td>\n",
       "      <td>1.29437</td>\n",
       "      <td>-7.76422</td>\n",
       "      <td>-1.28642</td>\n",
       "      <td>False</td>\n",
       "      <td>99.16370</td>\n",
       "    </tr>\n",
       "  </tbody>\n",
       "</table>\n",
       "</div>"
      ],
      "text/plain": [
       "   Unnamed: 0       x1       x2       x3       x4        x5       x6  \\\n",
       "0        1000  0.81313  0.38023  5.85070 -9.18530   9.93106  0.36759   \n",
       "1        1001  0.05435  0.89732  1.50829 -8.79618   9.84085  0.83846   \n",
       "2        1002  0.93130  1.13181 -6.25123 -9.24025   9.97088  1.10935   \n",
       "3        1003  0.81462  0.32761 -2.58948 -9.90454  10.21894  0.28165   \n",
       "4        1004  2.02671  0.71385 -4.34367 -9.14374  10.12963  0.72507   \n",
       "\n",
       "                    x7       x8       x9       x10      x11    x12       x13  \n",
       "0      Jerry Fernström  1.83292  1.89491  -6.29609 -0.62245   True  43.58182  \n",
       "1  Erik Sven Fernström -1.75396 -0.71970  -8.54241 -2.00896   True   3.47168  \n",
       "2  Erik Sven Fernström -1.89190 -0.71282 -11.91278 -0.24137  False  43.43945  \n",
       "3      Jerry Fernström  0.71816  0.55542  -9.96034 -1.35239  False  39.43638  \n",
       "4      Jerry Fernström  0.43896  1.29437  -7.76422 -1.28642  False  99.16370  "
      ]
     },
     "execution_count": 22,
     "metadata": {},
     "output_type": "execute_result"
    }
   ],
   "source": [
    "df2 = pd.read_csv(r'Data\\EvaluateOnMe-2.csv')\n",
    "df2.head()"
   ]
  },
  {
   "cell_type": "markdown",
   "id": "5c75b645",
   "metadata": {},
   "source": [
    "## Perform same data processing as for the training data"
   ]
  },
  {
   "cell_type": "code",
   "execution_count": 23,
   "id": "ae0f789b",
   "metadata": {},
   "outputs": [],
   "source": [
    "df2.drop('x1', axis=1, inplace=True)\n",
    "df2.drop('x2', axis=1, inplace=True)"
   ]
  },
  {
   "cell_type": "code",
   "execution_count": 24,
   "id": "41ab078b-de58-4c46-b8cc-9757020836e7",
   "metadata": {},
   "outputs": [],
   "source": [
    "x4_new = stats.boxcox(np.exp(df2['x4']), lambda_4)\n",
    "x5_new = stats.boxcox(df2['x5'], lambda_5)\n",
    "x11_new = stats.boxcox(np.exp(df2['x11']), lambda_11)"
   ]
  },
  {
   "cell_type": "code",
   "execution_count": 25,
   "id": "2669fbeb",
   "metadata": {},
   "outputs": [
    {
     "name": "stdout",
     "output_type": "stream",
     "text": [
      "<class 'pandas.core.frame.DataFrame'>\n",
      "RangeIndex: 10000 entries, 0 to 9999\n",
      "Data columns (total 9 columns):\n",
      " #   Column   Non-Null Count  Dtype  \n",
      "---  ------   --------------  -----  \n",
      " 0   x3       10000 non-null  float64\n",
      " 1   x4_new   10000 non-null  float64\n",
      " 2   x5_new   10000 non-null  float64\n",
      " 3   x6       10000 non-null  float64\n",
      " 4   x8       10000 non-null  float64\n",
      " 5   x9       10000 non-null  float64\n",
      " 6   x10      10000 non-null  float64\n",
      " 7   x11_new  10000 non-null  float64\n",
      " 8   x13      10000 non-null  float64\n",
      "dtypes: float64(9)\n",
      "memory usage: 703.2 KB\n"
     ]
    }
   ],
   "source": [
    "X_test = df2[['x3','x6','x8','x9','x10','x13']]\n",
    "X_test.insert(loc = 1, column = 'x4_new', value = x4_new)\n",
    "X_test.insert(loc = 2, column = 'x5_new', value = x5_new)\n",
    "X_test.insert(loc = 7, column = 'x11_new', value = x11_new)\n",
    "X_test.info()"
   ]
  },
  {
   "cell_type": "code",
   "execution_count": 26,
   "id": "42d2458d",
   "metadata": {
    "scrolled": true
   },
   "outputs": [
    {
     "name": "stderr",
     "output_type": "stream",
     "text": [
      "C:\\Users\\romai\\anaconda3\\lib\\site-packages\\pandas\\core\\frame.py:3678: SettingWithCopyWarning: \n",
      "A value is trying to be set on a copy of a slice from a DataFrame.\n",
      "Try using .loc[row_indexer,col_indexer] = value instead\n",
      "\n",
      "See the caveats in the documentation: https://pandas.pydata.org/pandas-docs/stable/user_guide/indexing.html#returning-a-view-versus-a-copy\n",
      "  self[col] = igetitem(value, i)\n"
     ]
    },
    {
     "data": {
      "text/html": [
       "<div>\n",
       "<style scoped>\n",
       "    .dataframe tbody tr th:only-of-type {\n",
       "        vertical-align: middle;\n",
       "    }\n",
       "\n",
       "    .dataframe tbody tr th {\n",
       "        vertical-align: top;\n",
       "    }\n",
       "\n",
       "    .dataframe thead th {\n",
       "        text-align: right;\n",
       "    }\n",
       "</style>\n",
       "<table border=\"1\" class=\"dataframe\">\n",
       "  <thead>\n",
       "    <tr style=\"text-align: right;\">\n",
       "      <th></th>\n",
       "      <th>x3</th>\n",
       "      <th>x4_new</th>\n",
       "      <th>x5_new</th>\n",
       "      <th>x6</th>\n",
       "      <th>x8</th>\n",
       "      <th>x9</th>\n",
       "      <th>x10</th>\n",
       "      <th>x11_new</th>\n",
       "      <th>x13</th>\n",
       "    </tr>\n",
       "  </thead>\n",
       "  <tbody>\n",
       "    <tr>\n",
       "      <th>0</th>\n",
       "      <td>2.127765</td>\n",
       "      <td>0.097907</td>\n",
       "      <td>-1.598881</td>\n",
       "      <td>0.508883</td>\n",
       "      <td>1.482063</td>\n",
       "      <td>1.379964</td>\n",
       "      <td>1.506545</td>\n",
       "      <td>0.241960</td>\n",
       "      <td>-0.128721</td>\n",
       "    </tr>\n",
       "    <tr>\n",
       "      <th>1</th>\n",
       "      <td>0.768660</td>\n",
       "      <td>1.105717</td>\n",
       "      <td>-2.036594</td>\n",
       "      <td>1.164846</td>\n",
       "      <td>-1.394154</td>\n",
       "      <td>-0.528215</td>\n",
       "      <td>0.068841</td>\n",
       "      <td>-0.642304</td>\n",
       "      <td>-0.944978</td>\n",
       "    </tr>\n",
       "    <tr>\n",
       "      <th>2</th>\n",
       "      <td>-1.659948</td>\n",
       "      <td>-0.046989</td>\n",
       "      <td>-1.412654</td>\n",
       "      <td>1.542220</td>\n",
       "      <td>-1.504764</td>\n",
       "      <td>-0.523194</td>\n",
       "      <td>-2.088286</td>\n",
       "      <td>0.455926</td>\n",
       "      <td>-0.131618</td>\n",
       "    </tr>\n",
       "    <tr>\n",
       "      <th>3</th>\n",
       "      <td>-0.513878</td>\n",
       "      <td>-1.850614</td>\n",
       "      <td>-0.341257</td>\n",
       "      <td>0.389161</td>\n",
       "      <td>0.588169</td>\n",
       "      <td>0.402385</td>\n",
       "      <td>-0.838673</td>\n",
       "      <td>-0.201777</td>\n",
       "      <td>-0.213082</td>\n",
       "    </tr>\n",
       "    <tr>\n",
       "      <th>4</th>\n",
       "      <td>-1.062912</td>\n",
       "      <td>0.207067</td>\n",
       "      <td>-0.710137</td>\n",
       "      <td>1.006884</td>\n",
       "      <td>0.364286</td>\n",
       "      <td>0.941681</td>\n",
       "      <td>0.566903</td>\n",
       "      <td>-0.159750</td>\n",
       "      <td>1.002393</td>\n",
       "    </tr>\n",
       "  </tbody>\n",
       "</table>\n",
       "</div>"
      ],
      "text/plain": [
       "         x3    x4_new    x5_new        x6        x8        x9       x10  \\\n",
       "0  2.127765  0.097907 -1.598881  0.508883  1.482063  1.379964  1.506545   \n",
       "1  0.768660  1.105717 -2.036594  1.164846 -1.394154 -0.528215  0.068841   \n",
       "2 -1.659948 -0.046989 -1.412654  1.542220 -1.504764 -0.523194 -2.088286   \n",
       "3 -0.513878 -1.850614 -0.341257  0.389161  0.588169  0.402385 -0.838673   \n",
       "4 -1.062912  0.207067 -0.710137  1.006884  0.364286  0.941681  0.566903   \n",
       "\n",
       "    x11_new       x13  \n",
       "0  0.241960 -0.128721  \n",
       "1 -0.642304 -0.944978  \n",
       "2  0.455926 -0.131618  \n",
       "3 -0.201777 -0.213082  \n",
       "4 -0.159750  1.002393  "
      ]
     },
     "execution_count": 26,
     "metadata": {},
     "output_type": "execute_result"
    }
   ],
   "source": [
    "X_test[['x3','x4_new','x5_new','x6', \n",
    "      'x8','x9','x10','x11_new', 'x13']] = StandardScaler().fit_transform(X_test[['x3','x4_new','x5_new','x6', \n",
    "                                                                                'x8','x9','x10','x11_new', 'x13']])\n",
    "X_test.head()"
   ]
  },
  {
   "cell_type": "markdown",
   "id": "976c8865-10ca-4484-a475-3a59481f500b",
   "metadata": {},
   "source": [
    "#### Getting the predictions for the test data"
   ]
  },
  {
   "cell_type": "code",
   "execution_count": 27,
   "id": "82f78e5e",
   "metadata": {},
   "outputs": [
    {
     "data": {
      "text/plain": [
       "array(['Jorg', 'Bob', 'Jorg', ..., 'Jorg', 'Bob', 'Jorg'], dtype=object)"
      ]
     },
     "execution_count": 27,
     "metadata": {},
     "output_type": "execute_result"
    }
   ],
   "source": [
    "y_pred = grid_rf.best_estimator_.predict(X_test)\n",
    "y_pred"
   ]
  },
  {
   "cell_type": "code",
   "execution_count": null,
   "id": "b1edf610-2b92-44b8-8515-7ad5757ca9b4",
   "metadata": {},
   "outputs": [],
   "source": []
  },
  {
   "cell_type": "code",
   "execution_count": null,
   "id": "2587ccb2-efe3-4d33-8c0d-7179ec3484d9",
   "metadata": {},
   "outputs": [],
   "source": []
  },
  {
   "cell_type": "code",
   "execution_count": null,
   "id": "26be1215-dd8c-4f9b-89a5-f9a83f6bc83d",
   "metadata": {},
   "outputs": [],
   "source": []
  },
  {
   "cell_type": "code",
   "execution_count": null,
   "id": "8454d9e7-6c9b-42cd-9a6d-729de2fe62bc",
   "metadata": {},
   "outputs": [],
   "source": [
    "np.savetxt(\"y_pred.txt\", y_pred, fmt='%s')"
   ]
  }
 ],
 "metadata": {
  "kernelspec": {
   "display_name": "Python 3 (ipykernel)",
   "language": "python",
   "name": "python3"
  },
  "language_info": {
   "codemirror_mode": {
    "name": "ipython",
    "version": 3
   },
   "file_extension": ".py",
   "mimetype": "text/x-python",
   "name": "python",
   "nbconvert_exporter": "python",
   "pygments_lexer": "ipython3",
   "version": "3.8.11"
  }
 },
 "nbformat": 4,
 "nbformat_minor": 5
}
