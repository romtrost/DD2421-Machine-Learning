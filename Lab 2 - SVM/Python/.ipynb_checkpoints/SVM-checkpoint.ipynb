{
 "cells": [
  {
   "cell_type": "code",
   "execution_count": 714,
   "id": "dbd0fd9e-df54-40c7-b437-73d5f131fab2",
   "metadata": {},
   "outputs": [],
   "source": [
    "import sys\n",
    "import numpy as np\n",
    "import random , math\n",
    "from scipy.optimize import minimize\n",
    "import matplotlib.pyplot as plt\n",
    "np.set_printoptions(threshold=sys.maxsize)"
   ]
  },
  {
   "cell_type": "code",
   "execution_count": 715,
   "id": "df655e12-1548-4d4f-8428-523de1f2317e",
   "metadata": {},
   "outputs": [],
   "source": [
    "\"\"\" Generating the data \"\"\"\n",
    "# Ensures same randim data is generated everytime\n",
    "np.random.seed(100)\n",
    "\n",
    "# Class A: 10 points around (1.5, 0.5) and ten points around (-1.5, 0.5)\n",
    "classA = np.concatenate((np.random.randn(10, 2) * 0.2 + [0.6, 0.15],\n",
    "                         np.random.randn(10, 2) * 0.2 + [-0.6, 0.15]))\n",
    "# Class B: 20 points around (0.0, -0.5)\n",
    "classB = np.random.randn(20, 2) * 0.2 + [0.0, -0.17]\n",
    "\n",
    "# Inputs: N x 2 array\n",
    "inputs = np.concatenate((classA, classB))\n",
    "# Targets: N x 1 array\n",
    "targets = np.concatenate((np.ones(classA.shape[0]),\n",
    "                         -np.ones(classB.shape[0])))\n",
    "\n",
    "# Number of rows (training samples)\n",
    "N = inputs.shape[0]\n",
    "\n",
    "# Randomising\n",
    "permute = list(range(N))\n",
    "random.shuffle(permute)\n",
    "inputs = inputs[permute, :]\n",
    "targets = targets[permute]\n",
    "\n",
    "#print(inputs)\n",
    "#print(targets)"
   ]
  },
  {
   "cell_type": "code",
   "execution_count": 716,
   "id": "521e5251-3dfd-43a4-a961-1ae31584c7e3",
   "metadata": {},
   "outputs": [
    {
     "data": {
      "image/png": "[encoded data removed]",
      "text/plain": [
       "<Figure size 432x288 with 1 Axes>"
      ]
     },
     "metadata": {
      "needs_background": "light"
     },
     "output_type": "display_data"
    }
   ],
   "source": [
    "\"\"\" Plotting the data \"\"\"\n",
    "plt.plot([p[0] for p in classA], [p[1] for p in classA], 'b.')\n",
    "plt.plot([p[0] for p in classB], [p[1] for p in classB], 'r.')\n",
    "\n",
    "plt.axis('equal') # Forces same scale on both axes\n",
    "plt.savefig('svmplot.pdf') # Saves a copy in a file\n",
    "plt.show() # Shows the plot"
   ]
  },
  {
   "cell_type": "code",
   "execution_count": 717,
   "id": "12636062-28ac-4d08-b380-143fb4a2d880",
   "metadata": {},
   "outputs": [
    {
     "data": {
      "text/plain": [
       "' SVM '"
      ]
     },
     "execution_count": 717,
     "metadata": {},
     "output_type": "execute_result"
    }
   ],
   "source": [
    "\"\"\" SVM \"\"\""
   ]
  },
  {
   "cell_type": "code",
   "execution_count": 727,
   "id": "ff018e0e-832e-40a3-a0c8-09c9b3685974",
   "metadata": {},
   "outputs": [],
   "source": [
    "# Linear kernel\n",
    "def linearKernel(x, y):\n",
    "    \n",
    "    return np.dot(x, y)\n",
    "\n",
    "def polyKernel(x, y):\n",
    "    p = 2\n",
    "    return np.power(np.dot(x, y) + 1, p)\n",
    "\n",
    "def rbfKernel(x, y):\n",
    "    sigma = 5\n",
    "    return math.exp(-math.pow(np.linalg.norm(np.subtract(x, y)), 2)/(2 * math.pow(sigma,2)))\n",
    "\n",
    "kernel = polyKernel"
   ]
  },
  {
   "cell_type": "code",
   "execution_count": 728,
   "id": "f35f0c77-bd60-41a4-97d2-529ca43bd60d",
   "metadata": {},
   "outputs": [],
   "source": [
    "# Create P: N x N matrix\n",
    "P = np.array([[ 0. for i in range(N) ] for j in range(N)]) # Initialize P\n",
    "\n",
    "for i in range(len(targets)):\n",
    "    for j in range(len(targets)):\n",
    "        P[i][j] = targets[i] * targets[j] * kernel(inputs[i], inputs[j])   \n",
    "        \n",
    "#print(P)"
   ]
  },
  {
   "cell_type": "code",
   "execution_count": 729,
   "id": "7b36e393-da4d-46cd-bc35-fcc2372103e5",
   "metadata": {},
   "outputs": [],
   "source": [
    "# Implement expression that should be minimized -> equation (4)\n",
    "def objective(a):\n",
    "    return 0.5 * np.dot(a, np.dot(a, P)) - np.sum(a)\n",
    "\n",
    "#a = np.zeros(N)\n",
    "#print(objective(a))"
   ]
  },
  {
   "cell_type": "code",
   "execution_count": 730,
   "id": "80cf01f3-c249-49d0-9c75-be973f41519a",
   "metadata": {},
   "outputs": [],
   "source": [
    "# Equality constraint in equation (10)\n",
    "def zerofun(a):\n",
    "    return np.dot(a, targets)"
   ]
  },
  {
   "cell_type": "code",
   "execution_count": 731,
   "id": "e915f609-a442-49e4-a0fa-6719ac81b805",
   "metadata": {},
   "outputs": [
    {
     "name": "stdout",
     "output_type": "stream",
     "text": [
      "True\n"
     ]
    }
   ],
   "source": [
    "# Minimizing\n",
    "C = 10   # Upper bound for a\n",
    "\n",
    "start = np.zeros(N)    # Initial guess of a\n",
    "B = [(0, C) for b in range(N)]    # Constrain a values to be in range: 0 < a < C (slacking) --> bounds\n",
    "XC = {'type': 'eq', 'fun': zerofun}    # Used to impose other constraints, in addition to bounds\n",
    "\n",
    "# Find vecor a which minimizes the function \"objective\" within bounds \"B\" and constraints \"XC\"\n",
    "ret = minimize(objective, start, bounds = B, constraints = XC)\n",
    "\n",
    "alpha = ret['x']\n",
    "success = ret['success']\n",
    "\n",
    "#print(alpha)\n",
    "print(success)"
   ]
  },
  {
   "cell_type": "code",
   "execution_count": 732,
   "id": "098eceb2-c4bb-4a5f-92a9-0bb24c55582e",
   "metadata": {},
   "outputs": [
    {
     "name": "stdout",
     "output_type": "stream",
     "text": [
      "[10.         10.          7.96013821 10.         10.         10.\n",
      " 10.         10.         10.         10.         10.         10.\n",
      " 10.         10.         10.         10.         10.         10.\n",
      " 10.         10.         10.         10.         10.         10.\n",
      " 10.         10.         10.         10.         10.          2.03986179\n",
      " 10.         10.         10.         10.         10.         10.\n",
      " 10.        ]\n"
     ]
    }
   ],
   "source": [
    "def getSV(a):\n",
    "    \n",
    "    a0 = []    # alphas > 0\n",
    "    SV = []    # associated SVs\n",
    "    tSV = []   # associated targets\n",
    "    \n",
    "    for i in range(len(a)):\n",
    "        if alpha[i] >= 0.0001:\n",
    "            a0.append(alpha[i])\n",
    "            SV.append(inputs[i])\n",
    "            tSV.append(targets[i])\n",
    "                   \n",
    "    return np.array(a0), np.array(SV), np.array(tSV)\n",
    "\n",
    "a0, SV, tSV = getSV(alpha)\n",
    "print(a0)\n",
    "#print(SV)\n",
    "#print(tSV)"
   ]
  },
  {
   "cell_type": "code",
   "execution_count": 733,
   "id": "300f7c19-6944-4a30-b79e-3dd19168c405",
   "metadata": {},
   "outputs": [
    {
     "name": "stdout",
     "output_type": "stream",
     "text": [
      "-0.991509113005753\n"
     ]
    }
   ],
   "source": [
    "# Computing b -> equation (7)\n",
    "def getB():\n",
    "    b = 0\n",
    "    # Using first SV to get b\n",
    "    for i in range(len(a0)):\n",
    "        b += a0[i] * tSV[i] * kernel(SV[0], SV[i])\n",
    "\n",
    "    return b - tSV[0]\n",
    "\n",
    "b = getB()\n",
    "print(b)"
   ]
  },
  {
   "cell_type": "code",
   "execution_count": 734,
   "id": "a79def55-3cea-444a-a347-5f01bbdc203f",
   "metadata": {},
   "outputs": [],
   "source": [
    "def indicator(x, y):\n",
    "    ind = 0\n",
    "    for i in range(len(a0)):\n",
    "        ind += a0[i] * tSV[i] * kernel([x, y], SV[i])\n",
    " \n",
    "    return ind - b"
   ]
  },
  {
   "cell_type": "code",
   "execution_count": 735,
   "id": "04954c6c-4e29-47d3-ad06-dc22d874554d",
   "metadata": {},
   "outputs": [
    {
     "data": {
      "image/png": "[encoded data removed]",
      "text/plain": [
       "<Figure size 504x504 with 1 Axes>"
      ]
     },
     "metadata": {
      "needs_background": "light"
     },
     "output_type": "display_data"
    }
   ],
   "source": [
    "\"\"\" Plotting the data \"\"\"\n",
    "plt.figure(figsize=(7, 7))\n",
    "plt.plot([p[0] for p in classA], [p[1] for p in classA], 'b.')\n",
    "plt.plot([p[0] for p in classB], [p[1] for p in classB], 'r.')\n",
    "#plt.plot([p[0] for p in SV], [p[1] for p in SV], 'yo')\n",
    "\n",
    "plt.axis('equal') # Forces same scale on both axes\n",
    "\n",
    "\"\"\" Plotting hyperplane \"\"\"\n",
    "xgrid = np.linspace(-2, 2)\n",
    "ygrid = np.linspace(-2, 2)\n",
    "\n",
    "grid = np.array([[indicator(x, y)\n",
    "                  for x in xgrid]\n",
    "                 for y in ygrid])\n",
    "\n",
    "plt.contour(xgrid, ygrid, grid,\n",
    "            (-1.0, 0.0, 1.0),\n",
    "            colors = ('red', 'black', 'blue'),\n",
    "            linewidths = (1, 3, 1))\n",
    "\n",
    "plt.title('Sigma = 5, C = 10')\n",
    "plt.savefig('rbf_5_10.pdf') # Saves a copy in a file\n",
    "plt.show() # Shows the plot"
   ]
  },
  {
   "cell_type": "code",
   "execution_count": null,
   "id": "2b33e7e6-ff6b-4532-a737-4d3beae58a8b",
   "metadata": {},
   "outputs": [],
   "source": []
  },
  {
   "cell_type": "code",
   "execution_count": null,
   "id": "514de257-181d-498e-be7d-a90b763f849d",
   "metadata": {},
   "outputs": [],
   "source": []
  }
 ],
 "metadata": {
  "kernelspec": {
   "display_name": "Python 3 (ipykernel)",
   "language": "python",
   "name": "python3"
  },
  "language_info": {
   "codemirror_mode": {
    "name": "ipython",
    "version": 3
   },
   "file_extension": ".py",
   "mimetype": "text/x-python",
   "name": "python",
   "nbconvert_exporter": "python",
   "pygments_lexer": "ipython3",
   "version": "3.8.11"
  }
 },
 "nbformat": 4,
 "nbformat_minor": 5
}
